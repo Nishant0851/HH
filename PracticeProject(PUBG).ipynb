{
  "cells": [
    {
      "cell_type": "markdown",
      "metadata": {
        "id": "view-in-github",
        "colab_type": "text"
      },
      "source": [
        "<a href=\"https://colab.research.google.com/github/Nishant0851/HH/blob/master/PracticeProject(PUBG).ipynb\" target=\"_parent\"><img src=\"https://colab.research.google.com/assets/colab-badge.svg\" alt=\"Open In Colab\"/></a>"
      ]
    },
    {
      "cell_type": "markdown",
      "metadata": {
        "id": "m1ZA_LFBNG4K"
      },
      "source": [
        "# PUBg Finish Placement Prediction\n",
        "\n",
        "<img src='1.png'>\n",
        "\n",
        "# Player Unknown Battleground"
      ]
    },
    {
      "cell_type": "code",
      "execution_count": 1,
      "metadata": {
        "_cell_guid": "b1076dfc-b9ad-4769-8c92-a6c4dae69d19",
        "_kg_hide-input": false,
        "_kg_hide-output": false,
        "_uuid": "8f2839f25d086af736a60e9eeb907d3b93b6e0e5",
        "id": "oeiYm8zYrEDH"
      },
      "outputs": [],
      "source": [
        "import pandas as pd\n",
        "import numpy as np\n",
        "import matplotlib.pyplot as plt\n",
        "import seaborn as sns\n",
        "import itertools\n",
        "import gc\n",
        "import os\n",
        "import sys\n",
        "\n",
        "sns.set_style('darkgrid')\n",
        "sns.set_palette('bone')\n",
        "pd.options.display.float_format = '{:,.3f}'.format"
      ]
    },
    {
      "cell_type": "code",
      "execution_count": 2,
      "metadata": {
        "_kg_hide-input": true,
        "_kg_hide-output": false,
        "_uuid": "1b7c01604a8239f1222e7a7dc9d8562af10881f0",
        "id": "DxElLRsdrEDK"
      },
      "outputs": [],
      "source": [
        "def toTapleList(list1,list2):\n",
        "    return list(itertools.product(list1,list2))"
      ]
    },
    {
      "cell_type": "code",
      "execution_count": 3,
      "metadata": {
        "_kg_hide-input": true,
        "_kg_hide-output": false,
        "_uuid": "3519f56ce1cefbb965fc84b4890b5093f0f3d05f",
        "id": "TAlk6I1_rEDN"
      },
      "outputs": [],
      "source": [
        "# Memory saving function credit to https://www.kaggle.com/gemartin/load-data-reduce-memory-usage\n",
        "def reduce_mem_usage(df):\n",
        "    \"\"\" iterate through all the columns of a dataframe and modify the data type\n",
        "        to reduce memory usage.\n",
        "    \"\"\"\n",
        "    start_mem = df.memory_usage().sum() / 1024**2\n",
        "\n",
        "    for col in df.columns:\n",
        "        col_type = df[col].dtype\n",
        "\n",
        "        if col_type != object:\n",
        "            c_min = df[col].min()\n",
        "            c_max = df[col].max()\n",
        "            if str(col_type)[:3] == 'int':\n",
        "                if c_min > np.iinfo(np.int8).min and c_max < np.iinfo(np.int8).max:\n",
        "                    df[col] = df[col].astype(np.int8)\n",
        "                elif c_min > np.iinfo(np.int16).min and c_max < np.iinfo(np.int16).max:\n",
        "                    df[col] = df[col].astype(np.int16)\n",
        "                elif c_min > np.iinfo(np.int32).min and c_max < np.iinfo(np.int32).max:\n",
        "                    df[col] = df[col].astype(np.int32)\n",
        "                elif c_min > np.iinfo(np.int64).min and c_max < np.iinfo(np.int64).max:\n",
        "                    df[col] = df[col].astype(np.int64)\n",
        "            else:\n",
        "                #if c_min > np.finfo(np.float16).min and c_max < np.finfo(np.float16).max:\n",
        "                #    df[col] = df[col].astype(np.float16)\n",
        "                #el\n",
        "                if c_min > np.finfo(np.float32).min and c_max < np.finfo(np.float32).max:\n",
        "                    df[col] = df[col].astype(np.float32)\n",
        "                else:\n",
        "                    df[col] = df[col].astype(np.float64)\n",
        "        #else:\n",
        "            #df[col] = df[col].astype('category')\n",
        "\n",
        "    end_mem = df.memory_usage().sum() / 1024**2\n",
        "    print('Memory usage of dataframe is {:.2f} MB --> {:.2f} MB (Decreased by {:.1f}%)'.format(\n",
        "        start_mem, end_mem, 100 * (start_mem - end_mem) / start_mem))\n",
        "    return df"
      ]
    },
    {
      "cell_type": "markdown",
      "metadata": {
        "_uuid": "e220d486a8b54f0ae23d9136c40a7c6b428dd95b",
        "id": "Pl8CfbDlrEDP"
      },
      "source": [
        "# Load data"
      ]
    },
    {
      "cell_type": "code",
      "execution_count": 4,
      "metadata": {
        "_cell_guid": "79c7e3d0-c299-4dcb-8224-4455121ee9b0",
        "_uuid": "d629ff2d2480ee46fbb7e2d37f6b5fab8052498a",
        "colab": {
          "base_uri": "https://localhost:8080/"
        },
        "id": "WqjyfFuvrEDP",
        "outputId": "d52946b2-bffb-4fe2-a58a-3203d9a9fc5a"
      },
      "outputs": [
        {
          "output_type": "stream",
          "name": "stdout",
          "text": [
            "Memory usage of dataframe is 1.99 MB --> 0.68 MB (Decreased by 65.9%)\n",
            "Memory usage of dataframe is 1.60 MB --> 0.54 MB (Decreased by 66.5%)\n",
            "(8999, 29) (7505, 28)\n",
            "CPU times: user 96.6 ms, sys: 13.8 ms, total: 110 ms\n",
            "Wall time: 122 ms\n"
          ]
        }
      ],
      "source": [
        "%%time\n",
        "train = pd.read_csv('train_V2(Pubg).csv')\n",
        "train = reduce_mem_usage(train)\n",
        "test = pd.read_csv('test_V2(Pubg).csv')\n",
        "test = reduce_mem_usage(test)\n",
        "print(train.shape, test.shape)"
      ]
    },
    {
      "cell_type": "code",
      "execution_count": 5,
      "metadata": {
        "_kg_hide-input": true,
        "_uuid": "fbe4879dd44a73edffdc100d0158e551bf8edcb3",
        "colab": {
          "base_uri": "https://localhost:8080/"
        },
        "id": "kXdu26FrrEDR",
        "outputId": "d7f3925b-9491-4194-972e-6f3a27340585"
      },
      "outputs": [
        {
          "output_type": "stream",
          "name": "stdout",
          "text": [
            "<class 'pandas.core.frame.DataFrame'>\n",
            "RangeIndex: 8999 entries, 0 to 8998\n",
            "Data columns (total 29 columns):\n",
            " #   Column           Non-Null Count  Dtype  \n",
            "---  ------           --------------  -----  \n",
            " 0   Id               8999 non-null   object \n",
            " 1   groupId          8999 non-null   object \n",
            " 2   matchId          8999 non-null   object \n",
            " 3   assists          8999 non-null   int8   \n",
            " 4   boosts           8999 non-null   int8   \n",
            " 5   damageDealt      8999 non-null   float32\n",
            " 6   DBNOs            8999 non-null   int8   \n",
            " 7   headshotKills    8999 non-null   int8   \n",
            " 8   heals            8999 non-null   int8   \n",
            " 9   killPlace        8999 non-null   int8   \n",
            " 10  killPoints       8999 non-null   int16  \n",
            " 11  kills            8999 non-null   int8   \n",
            " 12  killStreaks      8999 non-null   int8   \n",
            " 13  longestKill      8999 non-null   float32\n",
            " 14  matchDuration    8999 non-null   int16  \n",
            " 15  matchType        8999 non-null   object \n",
            " 16  maxPlace         8999 non-null   int8   \n",
            " 17  numGroups        8999 non-null   int8   \n",
            " 18  rankPoints       8999 non-null   int16  \n",
            " 19  revives          8999 non-null   int8   \n",
            " 20  rideDistance     8999 non-null   float32\n",
            " 21  roadKills        8999 non-null   int8   \n",
            " 22  swimDistance     8999 non-null   float32\n",
            " 23  teamKills        8999 non-null   int8   \n",
            " 24  vehicleDestroys  8999 non-null   int8   \n",
            " 25  walkDistance     8999 non-null   float32\n",
            " 26  weaponsAcquired  8999 non-null   int8   \n",
            " 27  winPoints        8999 non-null   int16  \n",
            " 28  winPlacePerc     8999 non-null   float32\n",
            "dtypes: float32(6), int16(4), int8(15), object(4)\n",
            "memory usage: 694.4+ KB\n"
          ]
        }
      ],
      "source": [
        "train.info()"
      ]
    },
    {
      "cell_type": "code",
      "execution_count": 6,
      "metadata": {
        "_kg_hide-input": true,
        "_uuid": "ed20e8129574689a336d934a5ee6ecbabcfb0186",
        "colab": {
          "base_uri": "https://localhost:8080/"
        },
        "id": "iFIXon9erEDT",
        "outputId": "621ae629-2e0e-4e69-ffe0-7072a5d41ff4"
      },
      "outputs": [
        {
          "output_type": "stream",
          "name": "stdout",
          "text": [
            "null count: Series([], dtype: int64)\n"
          ]
        }
      ],
      "source": [
        "null_cnt = train.isnull().sum().sort_values()\n",
        "print('null count:', null_cnt[null_cnt > 0])\n",
        "# dropna\n",
        "train.dropna(inplace=True)"
      ]
    },
    {
      "cell_type": "code",
      "execution_count": 7,
      "metadata": {
        "_kg_hide-input": true,
        "_uuid": "10f263d9520b1041fea4184892e2c66ecbd7087f",
        "colab": {
          "base_uri": "https://localhost:8080/",
          "height": 833
        },
        "id": "_AZGp1OtrEDV",
        "outputId": "bdddb6f8-03e0-44d1-9907-38b19561f9fc",
        "scrolled": false
      },
      "outputs": [
        {
          "output_type": "execute_result",
          "data": {
            "text/plain": [
              "                     mean       std     min       25%       50%       75%  \\\n",
              "assists             0.228     0.573   0.000     0.000     0.000     0.000   \n",
              "boosts              1.129     1.759   0.000     0.000     0.000     2.000   \n",
              "damageDealt       130.226   170.846   0.000     0.000    80.340   183.650   \n",
              "DBNOs               0.652     1.133   0.000     0.000     0.000     1.000   \n",
              "headshotKills       0.226     0.582   0.000     0.000     0.000     0.000   \n",
              "heals               1.375     2.666   0.000     0.000     0.000     2.000   \n",
              "killPlace          47.901    27.483   1.000    24.000    48.000    72.000   \n",
              "killPoints        507.422   627.486   0.000     0.000     0.000 1,172.000   \n",
              "kills               0.922     1.552   0.000     0.000     0.000     1.000   \n",
              "killStreaks         0.540     0.714   0.000     0.000     0.000     1.000   \n",
              "longestKill        22.007    48.730   0.000     0.000     0.000    20.195   \n",
              "matchDuration   1,577.711   257.182 314.000 1,367.000 1,439.000 1,849.000   \n",
              "maxPlace           44.574    23.809   5.000    28.000    30.000    49.000   \n",
              "numGroups          43.108    23.268   1.000    27.000    30.000    47.000   \n",
              "rankPoints        887.821   737.079  -1.000    -1.000 1,443.000 1,500.000   \n",
              "revives             0.162     0.465   0.000     0.000     0.000     0.000   \n",
              "rideDistance      611.111 1,509.556   0.000     0.000     0.000     0.015   \n",
              "roadKills           0.003     0.058   0.000     0.000     0.000     0.000   \n",
              "swimDistance        4.335    29.667   0.000     0.000     0.000     0.000   \n",
              "teamKills           0.026     0.175   0.000     0.000     0.000     0.000   \n",
              "vehicleDestroys     0.008     0.091   0.000     0.000     0.000     0.000   \n",
              "walkDistance    1,137.410 1,166.894   0.000   153.900   678.100 1,928.000   \n",
              "weaponsAcquired     3.646     2.396   0.000     2.000     3.000     5.000   \n",
              "winPoints         609.908   739.887   0.000     0.000     0.000 1,495.000   \n",
              "winPlacePerc        0.472     0.307   0.000     0.200     0.458     0.741   \n",
              "\n",
              "                       max  \n",
              "assists              6.000  \n",
              "boosts              11.000  \n",
              "damageDealt      2,325.000  \n",
              "DBNOs               13.000  \n",
              "headshotKills        8.000  \n",
              "heals               29.000  \n",
              "killPlace          100.000  \n",
              "killPoints       2,026.000  \n",
              "kills               21.000  \n",
              "killStreaks          5.000  \n",
              "longestKill        624.200  \n",
              "matchDuration    2,204.000  \n",
              "maxPlace           100.000  \n",
              "numGroups          100.000  \n",
              "rankPoints       2,395.000  \n",
              "revives              6.000  \n",
              "rideDistance    17,210.000  \n",
              "roadKills            2.000  \n",
              "swimDistance       768.400  \n",
              "teamKills            3.000  \n",
              "vehicleDestroys      1.000  \n",
              "walkDistance     9,325.000  \n",
              "weaponsAcquired     43.000  \n",
              "winPoints        1,861.000  \n",
              "winPlacePerc         1.000  "
            ],
            "text/html": [
              "\n",
              "  <div id=\"df-74807444-3ce6-4ab1-96a4-96506781690b\" class=\"colab-df-container\">\n",
              "    <div>\n",
              "<style scoped>\n",
              "    .dataframe tbody tr th:only-of-type {\n",
              "        vertical-align: middle;\n",
              "    }\n",
              "\n",
              "    .dataframe tbody tr th {\n",
              "        vertical-align: top;\n",
              "    }\n",
              "\n",
              "    .dataframe thead th {\n",
              "        text-align: right;\n",
              "    }\n",
              "</style>\n",
              "<table border=\"1\" class=\"dataframe\">\n",
              "  <thead>\n",
              "    <tr style=\"text-align: right;\">\n",
              "      <th></th>\n",
              "      <th>mean</th>\n",
              "      <th>std</th>\n",
              "      <th>min</th>\n",
              "      <th>25%</th>\n",
              "      <th>50%</th>\n",
              "      <th>75%</th>\n",
              "      <th>max</th>\n",
              "    </tr>\n",
              "  </thead>\n",
              "  <tbody>\n",
              "    <tr>\n",
              "      <th>assists</th>\n",
              "      <td>0.228</td>\n",
              "      <td>0.573</td>\n",
              "      <td>0.000</td>\n",
              "      <td>0.000</td>\n",
              "      <td>0.000</td>\n",
              "      <td>0.000</td>\n",
              "      <td>6.000</td>\n",
              "    </tr>\n",
              "    <tr>\n",
              "      <th>boosts</th>\n",
              "      <td>1.129</td>\n",
              "      <td>1.759</td>\n",
              "      <td>0.000</td>\n",
              "      <td>0.000</td>\n",
              "      <td>0.000</td>\n",
              "      <td>2.000</td>\n",
              "      <td>11.000</td>\n",
              "    </tr>\n",
              "    <tr>\n",
              "      <th>damageDealt</th>\n",
              "      <td>130.226</td>\n",
              "      <td>170.846</td>\n",
              "      <td>0.000</td>\n",
              "      <td>0.000</td>\n",
              "      <td>80.340</td>\n",
              "      <td>183.650</td>\n",
              "      <td>2,325.000</td>\n",
              "    </tr>\n",
              "    <tr>\n",
              "      <th>DBNOs</th>\n",
              "      <td>0.652</td>\n",
              "      <td>1.133</td>\n",
              "      <td>0.000</td>\n",
              "      <td>0.000</td>\n",
              "      <td>0.000</td>\n",
              "      <td>1.000</td>\n",
              "      <td>13.000</td>\n",
              "    </tr>\n",
              "    <tr>\n",
              "      <th>headshotKills</th>\n",
              "      <td>0.226</td>\n",
              "      <td>0.582</td>\n",
              "      <td>0.000</td>\n",
              "      <td>0.000</td>\n",
              "      <td>0.000</td>\n",
              "      <td>0.000</td>\n",
              "      <td>8.000</td>\n",
              "    </tr>\n",
              "    <tr>\n",
              "      <th>heals</th>\n",
              "      <td>1.375</td>\n",
              "      <td>2.666</td>\n",
              "      <td>0.000</td>\n",
              "      <td>0.000</td>\n",
              "      <td>0.000</td>\n",
              "      <td>2.000</td>\n",
              "      <td>29.000</td>\n",
              "    </tr>\n",
              "    <tr>\n",
              "      <th>killPlace</th>\n",
              "      <td>47.901</td>\n",
              "      <td>27.483</td>\n",
              "      <td>1.000</td>\n",
              "      <td>24.000</td>\n",
              "      <td>48.000</td>\n",
              "      <td>72.000</td>\n",
              "      <td>100.000</td>\n",
              "    </tr>\n",
              "    <tr>\n",
              "      <th>killPoints</th>\n",
              "      <td>507.422</td>\n",
              "      <td>627.486</td>\n",
              "      <td>0.000</td>\n",
              "      <td>0.000</td>\n",
              "      <td>0.000</td>\n",
              "      <td>1,172.000</td>\n",
              "      <td>2,026.000</td>\n",
              "    </tr>\n",
              "    <tr>\n",
              "      <th>kills</th>\n",
              "      <td>0.922</td>\n",
              "      <td>1.552</td>\n",
              "      <td>0.000</td>\n",
              "      <td>0.000</td>\n",
              "      <td>0.000</td>\n",
              "      <td>1.000</td>\n",
              "      <td>21.000</td>\n",
              "    </tr>\n",
              "    <tr>\n",
              "      <th>killStreaks</th>\n",
              "      <td>0.540</td>\n",
              "      <td>0.714</td>\n",
              "      <td>0.000</td>\n",
              "      <td>0.000</td>\n",
              "      <td>0.000</td>\n",
              "      <td>1.000</td>\n",
              "      <td>5.000</td>\n",
              "    </tr>\n",
              "    <tr>\n",
              "      <th>longestKill</th>\n",
              "      <td>22.007</td>\n",
              "      <td>48.730</td>\n",
              "      <td>0.000</td>\n",
              "      <td>0.000</td>\n",
              "      <td>0.000</td>\n",
              "      <td>20.195</td>\n",
              "      <td>624.200</td>\n",
              "    </tr>\n",
              "    <tr>\n",
              "      <th>matchDuration</th>\n",
              "      <td>1,577.711</td>\n",
              "      <td>257.182</td>\n",
              "      <td>314.000</td>\n",
              "      <td>1,367.000</td>\n",
              "      <td>1,439.000</td>\n",
              "      <td>1,849.000</td>\n",
              "      <td>2,204.000</td>\n",
              "    </tr>\n",
              "    <tr>\n",
              "      <th>maxPlace</th>\n",
              "      <td>44.574</td>\n",
              "      <td>23.809</td>\n",
              "      <td>5.000</td>\n",
              "      <td>28.000</td>\n",
              "      <td>30.000</td>\n",
              "      <td>49.000</td>\n",
              "      <td>100.000</td>\n",
              "    </tr>\n",
              "    <tr>\n",
              "      <th>numGroups</th>\n",
              "      <td>43.108</td>\n",
              "      <td>23.268</td>\n",
              "      <td>1.000</td>\n",
              "      <td>27.000</td>\n",
              "      <td>30.000</td>\n",
              "      <td>47.000</td>\n",
              "      <td>100.000</td>\n",
              "    </tr>\n",
              "    <tr>\n",
              "      <th>rankPoints</th>\n",
              "      <td>887.821</td>\n",
              "      <td>737.079</td>\n",
              "      <td>-1.000</td>\n",
              "      <td>-1.000</td>\n",
              "      <td>1,443.000</td>\n",
              "      <td>1,500.000</td>\n",
              "      <td>2,395.000</td>\n",
              "    </tr>\n",
              "    <tr>\n",
              "      <th>revives</th>\n",
              "      <td>0.162</td>\n",
              "      <td>0.465</td>\n",
              "      <td>0.000</td>\n",
              "      <td>0.000</td>\n",
              "      <td>0.000</td>\n",
              "      <td>0.000</td>\n",
              "      <td>6.000</td>\n",
              "    </tr>\n",
              "    <tr>\n",
              "      <th>rideDistance</th>\n",
              "      <td>611.111</td>\n",
              "      <td>1,509.556</td>\n",
              "      <td>0.000</td>\n",
              "      <td>0.000</td>\n",
              "      <td>0.000</td>\n",
              "      <td>0.015</td>\n",
              "      <td>17,210.000</td>\n",
              "    </tr>\n",
              "    <tr>\n",
              "      <th>roadKills</th>\n",
              "      <td>0.003</td>\n",
              "      <td>0.058</td>\n",
              "      <td>0.000</td>\n",
              "      <td>0.000</td>\n",
              "      <td>0.000</td>\n",
              "      <td>0.000</td>\n",
              "      <td>2.000</td>\n",
              "    </tr>\n",
              "    <tr>\n",
              "      <th>swimDistance</th>\n",
              "      <td>4.335</td>\n",
              "      <td>29.667</td>\n",
              "      <td>0.000</td>\n",
              "      <td>0.000</td>\n",
              "      <td>0.000</td>\n",
              "      <td>0.000</td>\n",
              "      <td>768.400</td>\n",
              "    </tr>\n",
              "    <tr>\n",
              "      <th>teamKills</th>\n",
              "      <td>0.026</td>\n",
              "      <td>0.175</td>\n",
              "      <td>0.000</td>\n",
              "      <td>0.000</td>\n",
              "      <td>0.000</td>\n",
              "      <td>0.000</td>\n",
              "      <td>3.000</td>\n",
              "    </tr>\n",
              "    <tr>\n",
              "      <th>vehicleDestroys</th>\n",
              "      <td>0.008</td>\n",
              "      <td>0.091</td>\n",
              "      <td>0.000</td>\n",
              "      <td>0.000</td>\n",
              "      <td>0.000</td>\n",
              "      <td>0.000</td>\n",
              "      <td>1.000</td>\n",
              "    </tr>\n",
              "    <tr>\n",
              "      <th>walkDistance</th>\n",
              "      <td>1,137.410</td>\n",
              "      <td>1,166.894</td>\n",
              "      <td>0.000</td>\n",
              "      <td>153.900</td>\n",
              "      <td>678.100</td>\n",
              "      <td>1,928.000</td>\n",
              "      <td>9,325.000</td>\n",
              "    </tr>\n",
              "    <tr>\n",
              "      <th>weaponsAcquired</th>\n",
              "      <td>3.646</td>\n",
              "      <td>2.396</td>\n",
              "      <td>0.000</td>\n",
              "      <td>2.000</td>\n",
              "      <td>3.000</td>\n",
              "      <td>5.000</td>\n",
              "      <td>43.000</td>\n",
              "    </tr>\n",
              "    <tr>\n",
              "      <th>winPoints</th>\n",
              "      <td>609.908</td>\n",
              "      <td>739.887</td>\n",
              "      <td>0.000</td>\n",
              "      <td>0.000</td>\n",
              "      <td>0.000</td>\n",
              "      <td>1,495.000</td>\n",
              "      <td>1,861.000</td>\n",
              "    </tr>\n",
              "    <tr>\n",
              "      <th>winPlacePerc</th>\n",
              "      <td>0.472</td>\n",
              "      <td>0.307</td>\n",
              "      <td>0.000</td>\n",
              "      <td>0.200</td>\n",
              "      <td>0.458</td>\n",
              "      <td>0.741</td>\n",
              "      <td>1.000</td>\n",
              "    </tr>\n",
              "  </tbody>\n",
              "</table>\n",
              "</div>\n",
              "    <div class=\"colab-df-buttons\">\n",
              "\n",
              "  <div class=\"colab-df-container\">\n",
              "    <button class=\"colab-df-convert\" onclick=\"convertToInteractive('df-74807444-3ce6-4ab1-96a4-96506781690b')\"\n",
              "            title=\"Convert this dataframe to an interactive table.\"\n",
              "            style=\"display:none;\">\n",
              "\n",
              "  <svg xmlns=\"http://www.w3.org/2000/svg\" height=\"24px\" viewBox=\"0 -960 960 960\">\n",
              "    <path d=\"M120-120v-720h720v720H120Zm60-500h600v-160H180v160Zm220 220h160v-160H400v160Zm0 220h160v-160H400v160ZM180-400h160v-160H180v160Zm440 0h160v-160H620v160ZM180-180h160v-160H180v160Zm440 0h160v-160H620v160Z\"/>\n",
              "  </svg>\n",
              "    </button>\n",
              "\n",
              "  <style>\n",
              "    .colab-df-container {\n",
              "      display:flex;\n",
              "      gap: 12px;\n",
              "    }\n",
              "\n",
              "    .colab-df-convert {\n",
              "      background-color: #E8F0FE;\n",
              "      border: none;\n",
              "      border-radius: 50%;\n",
              "      cursor: pointer;\n",
              "      display: none;\n",
              "      fill: #1967D2;\n",
              "      height: 32px;\n",
              "      padding: 0 0 0 0;\n",
              "      width: 32px;\n",
              "    }\n",
              "\n",
              "    .colab-df-convert:hover {\n",
              "      background-color: #E2EBFA;\n",
              "      box-shadow: 0px 1px 2px rgba(60, 64, 67, 0.3), 0px 1px 3px 1px rgba(60, 64, 67, 0.15);\n",
              "      fill: #174EA6;\n",
              "    }\n",
              "\n",
              "    .colab-df-buttons div {\n",
              "      margin-bottom: 4px;\n",
              "    }\n",
              "\n",
              "    [theme=dark] .colab-df-convert {\n",
              "      background-color: #3B4455;\n",
              "      fill: #D2E3FC;\n",
              "    }\n",
              "\n",
              "    [theme=dark] .colab-df-convert:hover {\n",
              "      background-color: #434B5C;\n",
              "      box-shadow: 0px 1px 3px 1px rgba(0, 0, 0, 0.15);\n",
              "      filter: drop-shadow(0px 1px 2px rgba(0, 0, 0, 0.3));\n",
              "      fill: #FFFFFF;\n",
              "    }\n",
              "  </style>\n",
              "\n",
              "    <script>\n",
              "      const buttonEl =\n",
              "        document.querySelector('#df-74807444-3ce6-4ab1-96a4-96506781690b button.colab-df-convert');\n",
              "      buttonEl.style.display =\n",
              "        google.colab.kernel.accessAllowed ? 'block' : 'none';\n",
              "\n",
              "      async function convertToInteractive(key) {\n",
              "        const element = document.querySelector('#df-74807444-3ce6-4ab1-96a4-96506781690b');\n",
              "        const dataTable =\n",
              "          await google.colab.kernel.invokeFunction('convertToInteractive',\n",
              "                                                    [key], {});\n",
              "        if (!dataTable) return;\n",
              "\n",
              "        const docLinkHtml = 'Like what you see? Visit the ' +\n",
              "          '<a target=\"_blank\" href=https://colab.research.google.com/notebooks/data_table.ipynb>data table notebook</a>'\n",
              "          + ' to learn more about interactive tables.';\n",
              "        element.innerHTML = '';\n",
              "        dataTable['output_type'] = 'display_data';\n",
              "        await google.colab.output.renderOutput(dataTable, element);\n",
              "        const docLink = document.createElement('div');\n",
              "        docLink.innerHTML = docLinkHtml;\n",
              "        element.appendChild(docLink);\n",
              "      }\n",
              "    </script>\n",
              "  </div>\n",
              "\n",
              "\n",
              "<div id=\"df-76e445eb-c246-43ed-a6a0-093278d754f0\">\n",
              "  <button class=\"colab-df-quickchart\" onclick=\"quickchart('df-76e445eb-c246-43ed-a6a0-093278d754f0')\"\n",
              "            title=\"Suggest charts\"\n",
              "            style=\"display:none;\">\n",
              "\n",
              "<svg xmlns=\"http://www.w3.org/2000/svg\" height=\"24px\"viewBox=\"0 0 24 24\"\n",
              "     width=\"24px\">\n",
              "    <g>\n",
              "        <path d=\"M19 3H5c-1.1 0-2 .9-2 2v14c0 1.1.9 2 2 2h14c1.1 0 2-.9 2-2V5c0-1.1-.9-2-2-2zM9 17H7v-7h2v7zm4 0h-2V7h2v10zm4 0h-2v-4h2v4z\"/>\n",
              "    </g>\n",
              "</svg>\n",
              "  </button>\n",
              "\n",
              "<style>\n",
              "  .colab-df-quickchart {\n",
              "      --bg-color: #E8F0FE;\n",
              "      --fill-color: #1967D2;\n",
              "      --hover-bg-color: #E2EBFA;\n",
              "      --hover-fill-color: #174EA6;\n",
              "      --disabled-fill-color: #AAA;\n",
              "      --disabled-bg-color: #DDD;\n",
              "  }\n",
              "\n",
              "  [theme=dark] .colab-df-quickchart {\n",
              "      --bg-color: #3B4455;\n",
              "      --fill-color: #D2E3FC;\n",
              "      --hover-bg-color: #434B5C;\n",
              "      --hover-fill-color: #FFFFFF;\n",
              "      --disabled-bg-color: #3B4455;\n",
              "      --disabled-fill-color: #666;\n",
              "  }\n",
              "\n",
              "  .colab-df-quickchart {\n",
              "    background-color: var(--bg-color);\n",
              "    border: none;\n",
              "    border-radius: 50%;\n",
              "    cursor: pointer;\n",
              "    display: none;\n",
              "    fill: var(--fill-color);\n",
              "    height: 32px;\n",
              "    padding: 0;\n",
              "    width: 32px;\n",
              "  }\n",
              "\n",
              "  .colab-df-quickchart:hover {\n",
              "    background-color: var(--hover-bg-color);\n",
              "    box-shadow: 0 1px 2px rgba(60, 64, 67, 0.3), 0 1px 3px 1px rgba(60, 64, 67, 0.15);\n",
              "    fill: var(--button-hover-fill-color);\n",
              "  }\n",
              "\n",
              "  .colab-df-quickchart-complete:disabled,\n",
              "  .colab-df-quickchart-complete:disabled:hover {\n",
              "    background-color: var(--disabled-bg-color);\n",
              "    fill: var(--disabled-fill-color);\n",
              "    box-shadow: none;\n",
              "  }\n",
              "\n",
              "  .colab-df-spinner {\n",
              "    border: 2px solid var(--fill-color);\n",
              "    border-color: transparent;\n",
              "    border-bottom-color: var(--fill-color);\n",
              "    animation:\n",
              "      spin 1s steps(1) infinite;\n",
              "  }\n",
              "\n",
              "  @keyframes spin {\n",
              "    0% {\n",
              "      border-color: transparent;\n",
              "      border-bottom-color: var(--fill-color);\n",
              "      border-left-color: var(--fill-color);\n",
              "    }\n",
              "    20% {\n",
              "      border-color: transparent;\n",
              "      border-left-color: var(--fill-color);\n",
              "      border-top-color: var(--fill-color);\n",
              "    }\n",
              "    30% {\n",
              "      border-color: transparent;\n",
              "      border-left-color: var(--fill-color);\n",
              "      border-top-color: var(--fill-color);\n",
              "      border-right-color: var(--fill-color);\n",
              "    }\n",
              "    40% {\n",
              "      border-color: transparent;\n",
              "      border-right-color: var(--fill-color);\n",
              "      border-top-color: var(--fill-color);\n",
              "    }\n",
              "    60% {\n",
              "      border-color: transparent;\n",
              "      border-right-color: var(--fill-color);\n",
              "    }\n",
              "    80% {\n",
              "      border-color: transparent;\n",
              "      border-right-color: var(--fill-color);\n",
              "      border-bottom-color: var(--fill-color);\n",
              "    }\n",
              "    90% {\n",
              "      border-color: transparent;\n",
              "      border-bottom-color: var(--fill-color);\n",
              "    }\n",
              "  }\n",
              "</style>\n",
              "\n",
              "  <script>\n",
              "    async function quickchart(key) {\n",
              "      const quickchartButtonEl =\n",
              "        document.querySelector('#' + key + ' button');\n",
              "      quickchartButtonEl.disabled = true;  // To prevent multiple clicks.\n",
              "      quickchartButtonEl.classList.add('colab-df-spinner');\n",
              "      try {\n",
              "        const charts = await google.colab.kernel.invokeFunction(\n",
              "            'suggestCharts', [key], {});\n",
              "      } catch (error) {\n",
              "        console.error('Error during call to suggestCharts:', error);\n",
              "      }\n",
              "      quickchartButtonEl.classList.remove('colab-df-spinner');\n",
              "      quickchartButtonEl.classList.add('colab-df-quickchart-complete');\n",
              "    }\n",
              "    (() => {\n",
              "      let quickchartButtonEl =\n",
              "        document.querySelector('#df-76e445eb-c246-43ed-a6a0-093278d754f0 button');\n",
              "      quickchartButtonEl.style.display =\n",
              "        google.colab.kernel.accessAllowed ? 'block' : 'none';\n",
              "    })();\n",
              "  </script>\n",
              "</div>\n",
              "\n",
              "    </div>\n",
              "  </div>\n"
            ],
            "application/vnd.google.colaboratory.intrinsic+json": {
              "type": "dataframe",
              "summary": "{\n  \"name\": \"train\",\n  \"rows\": 25,\n  \"fields\": [\n    {\n      \"column\": \"mean\",\n      \"properties\": {\n        \"dtype\": \"number\",\n        \"std\": 424.6786305571305,\n        \"min\": 0.002889209912212468,\n        \"max\": 1577.7108567618625,\n        \"num_unique_values\": 25,\n        \"samples\": [\n          0.9221024558284254,\n          611.1105346679688,\n          0.228469829981109\n        ],\n        \"semantic_type\": \"\",\n        \"description\": \"\"\n      }\n    },\n    {\n      \"column\": \"std\",\n      \"properties\": {\n        \"dtype\": \"number\",\n        \"std\": 411.80401378761707,\n        \"min\": 0.05766910591549832,\n        \"max\": 1509.5562744140625,\n        \"num_unique_values\": 25,\n        \"samples\": [\n          1.551744883309735,\n          1509.5562744140625,\n          0.5731902072888297\n        ],\n        \"semantic_type\": \"\",\n        \"description\": \"\"\n      }\n    },\n    {\n      \"column\": \"min\",\n      \"properties\": {\n        \"dtype\": \"number\",\n        \"std\": 62.75879752406563,\n        \"min\": -1.0,\n        \"max\": 314.0,\n        \"num_unique_values\": 5,\n        \"samples\": [\n          1.0,\n          -1.0,\n          314.0\n        ],\n        \"semantic_type\": \"\",\n        \"description\": \"\"\n      }\n    },\n    {\n      \"column\": \"25%\",\n      \"properties\": {\n        \"dtype\": \"number\",\n        \"std\": 273.24648522463076,\n        \"min\": -1.0,\n        \"max\": 1367.0,\n        \"num_unique_values\": 9,\n        \"samples\": [\n          2.0,\n          24.0,\n          -1.0\n        ],\n        \"semantic_type\": \"\",\n        \"description\": \"\"\n      }\n    },\n    {\n      \"column\": \"50%\",\n      \"properties\": {\n        \"dtype\": \"number\",\n        \"std\": 411.31332725324125,\n        \"min\": 0.0,\n        \"max\": 1443.0,\n        \"num_unique_values\": 9,\n        \"samples\": [\n          3.0,\n          80.33999633789062,\n          1443.0\n        ],\n        \"semantic_type\": \"\",\n        \"description\": \"\"\n      }\n    },\n    {\n      \"column\": \"75%\",\n      \"properties\": {\n        \"dtype\": \"number\",\n        \"std\": 653.9602388912058,\n        \"min\": 0.0,\n        \"max\": 1928.0,\n        \"num_unique_values\": 16,\n        \"samples\": [\n          0.0,\n          2.0,\n          1172.0\n        ],\n        \"semantic_type\": \"\",\n        \"description\": \"\"\n      }\n    },\n    {\n      \"column\": \"max\",\n      \"properties\": {\n        \"dtype\": \"number\",\n        \"std\": 3798.5409994471966,\n        \"min\": 1.0,\n        \"max\": 17210.0,\n        \"num_unique_values\": 21,\n        \"samples\": [\n          6.0,\n          1.0,\n          768.4000244140625\n        ],\n        \"semantic_type\": \"\",\n        \"description\": \"\"\n      }\n    }\n  ]\n}"
            }
          },
          "metadata": {},
          "execution_count": 7
        }
      ],
      "source": [
        "train.describe(include=np.number).drop('count').T"
      ]
    },
    {
      "cell_type": "markdown",
      "metadata": {
        "_uuid": "c4c2f216b4a5844210786103c0b53325d2621f87",
        "id": "60zznXXprEDX"
      },
      "source": [
        "# Feature Engineering"
      ]
    },
    {
      "cell_type": "code",
      "execution_count": 8,
      "metadata": {
        "_uuid": "f380c60d3e7f1d7c30ef85e003cef3e29044df74",
        "colab": {
          "base_uri": "https://localhost:8080/"
        },
        "id": "6wINcmh3rEDY",
        "outputId": "280ed935-b167-4fc9-cca2-f9d391f8fb80",
        "scrolled": true
      },
      "outputs": [
        {
          "output_type": "stream",
          "name": "stderr",
          "text": [
            "<ipython-input-8-850c63133ccd>:1: FutureWarning: The frame.append method is deprecated and will be removed from pandas in a future version. Use pandas.concat instead.\n",
            "  all_data = train.append(test, sort=False).reset_index(drop=True)\n"
          ]
        },
        {
          "output_type": "execute_result",
          "data": {
            "text/plain": [
              "0"
            ]
          },
          "metadata": {},
          "execution_count": 8
        }
      ],
      "source": [
        "all_data = train.append(test, sort=False).reset_index(drop=True)\n",
        "del train, test\n",
        "gc.collect()"
      ]
    },
    {
      "cell_type": "markdown",
      "metadata": {
        "_uuid": "669b837c115c19d61b40c79a7d3e7e72bb5e3474",
        "id": "N2v9G06urEDZ"
      },
      "source": [
        "## new feature"
      ]
    },
    {
      "cell_type": "code",
      "execution_count": 9,
      "metadata": {
        "_uuid": "5d077f08112b044cc360905361e366cdf1967271",
        "id": "LtaSAgAqrEDa"
      },
      "outputs": [],
      "source": [
        "def fillInf(df, val):\n",
        "    numcols = df.select_dtypes(include='number').columns\n",
        "    cols = numcols[numcols != 'winPlacePerc']\n",
        "    df[df == np.Inf] = np.NaN\n",
        "    df[df == np.NINF] = np.NaN\n",
        "    for c in cols: df[c].fillna(val, inplace=True)"
      ]
    },
    {
      "cell_type": "code",
      "execution_count": 10,
      "metadata": {
        "_uuid": "5bc388eab6eaba7077d715460011bc26199be2cb",
        "id": "9-5SleU1rEDc"
      },
      "outputs": [],
      "source": [
        "all_data['_totalDistance'] = all_data['rideDistance'] + all_data['walkDistance'] + all_data['swimDistance']\n",
        "all_data['_healthItems'] = all_data['heals'] + all_data['boosts']\n",
        "all_data['_headshotKillRate'] = all_data['headshotKills'] / all_data['kills']\n",
        "all_data['_killPlaceOverMaxPlace'] = all_data['killPlace'] / all_data['maxPlace']\n",
        "all_data['_killsOverWalkDistance'] = all_data['kills'] / all_data['walkDistance']\n",
        "#all_data['_killsOverDistance'] = all_data['kills'] / all_data['_totalDistance']\n",
        "#all_data['_walkDistancePerSec'] = all_data['walkDistance'] / all_data['matchDuration']\n",
        "\n",
        "fillInf(all_data, 0)"
      ]
    },
    {
      "cell_type": "markdown",
      "metadata": {
        "_uuid": "a463600c04fe5adb2d03c25eff03c7a7599f8d56",
        "id": "Hht6qpC_rEDd"
      },
      "source": [
        "## rank as percent"
      ]
    },
    {
      "cell_type": "code",
      "execution_count": 11,
      "metadata": {
        "_uuid": "cee11a0d9059638278ac054edd0b352b75f7a644",
        "id": "2EqVebmcrEDe"
      },
      "outputs": [],
      "source": [
        "match = all_data.groupby('matchId')\n",
        "all_data['killsPerc'] = match['kills'].rank(pct=True).values\n",
        "all_data['killPlacePerc'] = match['killPlace'].rank(pct=True).values\n",
        "all_data['walkDistancePerc'] = match['walkDistance'].rank(pct=True).values\n",
        "#all_data['damageDealtPerc'] = match['damageDealt'].rank(pct=True).values\n",
        "\n",
        "all_data['walkPerc_killsPerc'] = all_data['walkDistancePerc'] / all_data['killsPerc']\n",
        "#all_data['walkPerc_kills'] = all_data['walkDistancePerc'] / all_data['kills']\n",
        "#all_data['kills_walkPerc'] = all_data['kills'] / all_data['walkDistancePerc']"
      ]
    },
    {
      "cell_type": "markdown",
      "metadata": {
        "_uuid": "26244216aa5995036da9485d3d8188031c43a10d",
        "id": "WUwlkKJ2rEDg"
      },
      "source": [
        "## drop feature"
      ]
    },
    {
      "cell_type": "code",
      "execution_count": 12,
      "metadata": {
        "_uuid": "1765f2581a9f07e9616ced120cb3aafd6611015c",
        "id": "HcpTac92rEDg"
      },
      "outputs": [],
      "source": [
        "#all_data.drop(['killStreaks','DBNOs'], axis=1, inplace=True)\n",
        "all_data.drop(['boosts','heals','revives','assists'], axis=1, inplace=True)\n",
        "all_data.drop(['headshotKills','roadKills','vehicleDestroys','teamKills'], axis=1, inplace=True)\n",
        "all_data.drop(['rideDistance','swimDistance','matchDuration'], axis=1, inplace=True)\n",
        "all_data.drop(['rankPoints','killPoints','winPoints'], axis=1, inplace=True)"
      ]
    },
    {
      "cell_type": "markdown",
      "metadata": {
        "_uuid": "f9ecb5ec4de85e60fde11b1fa9a8e8ec850094c6",
        "id": "1y2MfGaCrEDi"
      },
      "source": [
        "## grouping\n",
        "\n",
        "* need to predict the order of places for groups within each match.\n",
        "* train on group-level instead of the user-level"
      ]
    },
    {
      "cell_type": "code",
      "execution_count": 13,
      "metadata": {
        "_uuid": "72b532cda47ca292bd0bfd5e2982f5d9aeab3401",
        "colab": {
          "base_uri": "https://localhost:8080/"
        },
        "id": "v1txJANprEDj",
        "outputId": "5bac8e0f-9025-4191-f982-8a7fbcd69c01"
      },
      "outputs": [
        {
          "output_type": "stream",
          "name": "stdout",
          "text": [
            "['damageDealt', 'DBNOs', 'killPlace', 'kills', 'killStreaks', 'longestKill', 'walkDistance', 'weaponsAcquired', ' Id', '_totalDistance', '_healthItems', '_headshotKillRate', '_killPlaceOverMaxPlace', '_killsOverWalkDistance', 'killsPerc', 'killPlacePerc', 'walkDistancePerc', 'walkPerc_killsPerc']\n"
          ]
        }
      ],
      "source": [
        "match = all_data.groupby(['matchId'])\n",
        "group = all_data.groupby(['matchId','groupId','matchType'])\n",
        "\n",
        "# target feature (max, min)\n",
        "agg_col = list(all_data.columns)\n",
        "exclude_agg_col = ['Id','matchId','groupId','matchType','maxPlace','numGroups','winPlacePerc']\n",
        "for c in exclude_agg_col:\n",
        "    agg_col.remove(c)\n",
        "print(agg_col)\n",
        "\n",
        "# target feature (sum)\n",
        "sum_col = ['kills','killPlace','damageDealt','walkDistance','_healthItems']"
      ]
    },
    {
      "cell_type": "code",
      "execution_count": 14,
      "metadata": {
        "_uuid": "5318ce2a99f2960fef819a9793d939032e52c844",
        "colab": {
          "base_uri": "https://localhost:8080/"
        },
        "id": "8OWQRRaArEDk",
        "outputId": "151df886-1a3b-4fec-f909-69b78611a1f1"
      },
      "outputs": [
        {
          "output_type": "stream",
          "name": "stdout",
          "text": [
            "Memory usage of dataframe is 2.31 MB --> 1.38 MB (Decreased by 40.1%)\n",
            "(16461, 24)\n"
          ]
        }
      ],
      "source": [
        "''' match sum, match max, match mean, group sum\n",
        "'''\n",
        "match_data = pd.concat([\n",
        "    match.size().to_frame('m.players'),\n",
        "    match[sum_col].sum().rename(columns=lambda s: 'm.sum.' + s),\n",
        "    match[sum_col].max().rename(columns=lambda s: 'm.max.' + s),\n",
        "    match[sum_col].mean().rename(columns=lambda s: 'm.mean.' + s)\n",
        "    ], axis=1).reset_index()\n",
        "match_data = pd.merge(match_data,\n",
        "    group[sum_col].sum().rename(columns=lambda s: 'sum.' + s).reset_index())\n",
        "match_data = reduce_mem_usage(match_data)\n",
        "\n",
        "print(match_data.shape)"
      ]
    },
    {
      "cell_type": "code",
      "execution_count": 15,
      "metadata": {
        "_uuid": "270cbffd8766c34043d209258e64dbaee02a0a96",
        "colab": {
          "base_uri": "https://localhost:8080/"
        },
        "id": "7Qq8jkyqrEDm",
        "outputId": "f0966377-5b98-49f5-95eb-c36d9463af05"
      },
      "outputs": [
        {
          "output_type": "stream",
          "name": "stdout",
          "text": [
            "Memory usage of dataframe is 2.01 MB --> 1.70 MB (Decreased by 15.6%)\n",
            "(16461, 29)\n"
          ]
        }
      ],
      "source": [
        "''' ranking of kills and killPlace in each match\n",
        "'''\n",
        "minKills = all_data.sort_values(['matchId','groupId','kills','killPlace']).groupby(\n",
        "    ['matchId','groupId','kills']).first().reset_index().copy()\n",
        "for n in np.arange(5):\n",
        "    c = 'kills_' + str(n) + '_Place'\n",
        "    nKills = (minKills['kills'] == n)\n",
        "    minKills.loc[nKills, c] = minKills[nKills].groupby(['matchId'])['killPlace'].rank().values\n",
        "    match_data = pd.merge(match_data, minKills[nKills][['matchId','groupId',c]], how='left')\n",
        "    match_data[c].fillna(0, inplace=True)\n",
        "match_data = reduce_mem_usage(match_data)\n",
        "del minKills, nKills\n",
        "\n",
        "print(match_data.shape)"
      ]
    },
    {
      "cell_type": "code",
      "execution_count": 16,
      "metadata": {
        "_uuid": "8ab91d60f601ab7bc4a997de22a7e60a0cd5ea07",
        "colab": {
          "base_uri": "https://localhost:8080/"
        },
        "id": "4Dm1fhMYrEDn",
        "outputId": "3b32764c-f187-4fc2-81de-32fc4fcf743c"
      },
      "outputs": [
        {
          "output_type": "stream",
          "name": "stderr",
          "text": [
            "<ipython-input-16-817fe0afeda2>:5: FutureWarning: The default value of numeric_only in DataFrameGroupBy.mean is deprecated. In a future version, numeric_only will default to False. Either specify numeric_only or select only columns which should be valid for the function.\n",
            "  group.mean(),\n"
          ]
        },
        {
          "output_type": "stream",
          "name": "stdout",
          "text": [
            "Memory usage of dataframe is 5.21 MB --> 3.47 MB (Decreased by 33.4%)\n",
            "(16461, 60)\n"
          ]
        }
      ],
      "source": [
        "''' group mean, max, min\n",
        "'''\n",
        "all_data = pd.concat([\n",
        "    group.size().to_frame('players'),\n",
        "    group.mean(),\n",
        "    group[agg_col].max().rename(columns=lambda s: 'max.' + s),\n",
        "    group[agg_col].min().rename(columns=lambda s: 'min.' + s),\n",
        "    ], axis=1).reset_index()\n",
        "all_data = reduce_mem_usage(all_data)\n",
        "\n",
        "print(all_data.shape)"
      ]
    },
    {
      "cell_type": "markdown",
      "metadata": {
        "_uuid": "dbe45939855acb980439ea2f83ed7c6f2d87e95d",
        "id": "EGXzWhzKrEDp"
      },
      "source": [
        "## aggregate feature"
      ]
    },
    {
      "cell_type": "code",
      "execution_count": 17,
      "metadata": {
        "_uuid": "a4bc443565321a07a9ce0c161ec8f9924b83d2d5",
        "id": "JbnNa_XerEDp"
      },
      "outputs": [],
      "source": [
        "numcols = all_data.select_dtypes(include='number').columns.values\n",
        "numcols = numcols[numcols != 'winPlacePerc']"
      ]
    },
    {
      "cell_type": "code",
      "execution_count": 18,
      "metadata": {
        "_uuid": "2dac1842b61335675367c7a4ac180c6b3dbc42bb",
        "colab": {
          "base_uri": "https://localhost:8080/"
        },
        "id": "PyOUQrDdrEDs",
        "outputId": "650595c1-a357-42b1-c682-513adc8c42f6"
      },
      "outputs": [
        {
          "output_type": "stream",
          "name": "stdout",
          "text": [
            "(16461, 92)\n"
          ]
        }
      ],
      "source": [
        "''' match summary, max\n",
        "'''\n",
        "all_data = pd.merge(all_data, match_data)\n",
        "del match_data\n",
        "gc.collect()\n",
        "\n",
        "all_data['enemy.players'] = all_data['m.players'] - all_data['players']\n",
        "for c in sum_col:\n",
        "    all_data['enemy.' + c] = (all_data['m.sum.' + c] - all_data['sum.' + c]) / all_data['enemy.players']\n",
        "    #all_data['p.sum_msum.' + c] = all_data['sum.' + c] / all_data['m.sum.' + c]\n",
        "    #all_data['p.max_mmean.' + c] = all_data['max.' + c] / all_data['m.mean.' + c]\n",
        "    all_data['p.max_msum.' + c] = all_data['max.' + c] / all_data['m.sum.' + c]\n",
        "    all_data['p.max_mmax.' + c] = all_data['max.' + c] / all_data['m.max.' + c]\n",
        "    all_data.drop(['m.sum.' + c, 'm.max.' + c], axis=1, inplace=True)\n",
        "\n",
        "fillInf(all_data, 0)\n",
        "print(all_data.shape)"
      ]
    },
    {
      "cell_type": "code",
      "execution_count": 19,
      "metadata": {
        "_uuid": "d63ccf63773c949805683f5aee3c3699f1f3aeb7",
        "colab": {
          "base_uri": "https://localhost:8080/"
        },
        "id": "hkleN8ElrEDv",
        "outputId": "9c2db8aa-6bd9-4630-89b6-1a032dc8604f"
      },
      "outputs": [
        {
          "output_type": "stream",
          "name": "stdout",
          "text": [
            "Memory usage of dataframe is 12.73 MB --> 8.78 MB (Decreased by 31.1%)\n",
            "(16461, 146)\n"
          ]
        }
      ],
      "source": [
        "''' match rank\n",
        "'''\n",
        "match = all_data.groupby('matchId')\n",
        "matchRank = match[numcols].rank(pct=True).rename(columns=lambda s: 'rank.' + s)\n",
        "all_data = reduce_mem_usage(pd.concat([all_data, matchRank], axis=1))\n",
        "rank_col = matchRank.columns\n",
        "del matchRank\n",
        "gc.collect()\n",
        "\n",
        "# instead of rank(pct=True, method='dense')\n",
        "match = all_data.groupby('matchId')\n",
        "matchRank = match[rank_col].max().rename(columns=lambda s: 'max.' + s).reset_index()\n",
        "all_data = pd.merge(all_data, matchRank)\n",
        "for c in numcols:\n",
        "    all_data['rank.' + c] = all_data['rank.' + c] / all_data['max.rank.' + c]\n",
        "    all_data.drop(['max.rank.' + c], axis=1, inplace=True)\n",
        "del matchRank\n",
        "gc.collect()\n",
        "\n",
        "print(all_data.shape)"
      ]
    },
    {
      "cell_type": "markdown",
      "metadata": {
        "_uuid": "dd2cfbf18321ea2e8d64c47a392c70c10556b7a2",
        "id": "Wn5gDYrErEDx"
      },
      "source": [
        "## killPlace rank of group and kills"
      ]
    },
    {
      "cell_type": "code",
      "execution_count": 20,
      "metadata": {
        "_uuid": "a70258951066929394045448888ed0b5396d6c84",
        "colab": {
          "base_uri": "https://localhost:8080/"
        },
        "id": "u5Q_Poh0rEDz",
        "outputId": "d7c68387-893e-4495-a83e-373212fa0cc5"
      },
      "outputs": [
        {
          "output_type": "execute_result",
          "data": {
            "text/plain": [
              "0"
            ]
          },
          "metadata": {},
          "execution_count": 20
        }
      ],
      "source": [
        "''' TODO: incomplete\n",
        "'''\n",
        "killMinorRank = all_data[['matchId','min.kills','max.killPlace']].copy()\n",
        "group = killMinorRank.groupby(['matchId','min.kills'])\n",
        "killMinorRank['rank.minor.maxKillPlace'] = group.rank(pct=True).values\n",
        "all_data = pd.merge(all_data, killMinorRank)\n",
        "\n",
        "killMinorRank = all_data[['matchId','max.kills','min.killPlace']].copy()\n",
        "group = killMinorRank.groupby(['matchId','max.kills'])\n",
        "killMinorRank['rank.minor.minKillPlace'] = group.rank(pct=True).values\n",
        "all_data = pd.merge(all_data, killMinorRank)\n",
        "\n",
        "del killMinorRank\n",
        "gc.collect()"
      ]
    },
    {
      "cell_type": "markdown",
      "metadata": {
        "_uuid": "7ff6408d747855db53b14d6872aff2ba90521be3",
        "id": "bnQoq_EjrED0"
      },
      "source": [
        "## drop constant feature"
      ]
    },
    {
      "cell_type": "code",
      "execution_count": 21,
      "metadata": {
        "_uuid": "1e65a2de00d692f724ae1eaec6f9ef30ff9e9663",
        "colab": {
          "base_uri": "https://localhost:8080/"
        },
        "id": "Ocv3-GXWrED1",
        "outputId": "9bbac797-4a7b-49ba-9c4d-4e428c88f014"
      },
      "outputs": [
        {
          "output_type": "stream",
          "name": "stdout",
          "text": [
            "drop columns: ['rank.maxPlace', 'rank.numGroups']\n"
          ]
        }
      ],
      "source": [
        "# drop constant column\n",
        "constant_column = [col for col in all_data.columns if all_data[col].nunique() == 1]\n",
        "print('drop columns:', constant_column)\n",
        "all_data.drop(constant_column, axis=1, inplace=True)"
      ]
    },
    {
      "cell_type": "markdown",
      "metadata": {
        "_uuid": "4260c2df241609760f64056be3bd01615bae2a95",
        "id": "X-GJgpf_rED2"
      },
      "source": [
        "## encode"
      ]
    },
    {
      "cell_type": "code",
      "execution_count": 22,
      "metadata": {
        "_uuid": "ebd2851bb4f66edea40eeaf50042bb18a5379988",
        "id": "CFINI5BbrED3"
      },
      "outputs": [],
      "source": [
        "'''\n",
        "solo  <-- solo,solo-fpp,normal-solo,normal-solo-fpp\n",
        "duo   <-- duo,duo-fpp,normal-duo,normal-duo-fpp,crashfpp,crashtpp\n",
        "squad <-- squad,squad-fpp,normal-squad,normal-squad-fpp,flarefpp,flaretpp\n",
        "'''\n",
        "mapper = lambda x: 'solo' if ('solo' in x) else 'duo' if ('duo' in x) or ('crash' in x) else 'squad'\n",
        "all_data['matchType'] = all_data['matchType'].apply(mapper)\n",
        "\n",
        "all_data = pd.concat([all_data, pd.get_dummies(all_data['matchType'], prefix='matchType')], axis=1)"
      ]
    },
    {
      "cell_type": "code",
      "execution_count": 23,
      "metadata": {
        "_uuid": "f7138c7995f98a6704d0f9952774917a075b7c14",
        "colab": {
          "base_uri": "https://localhost:8080/",
          "height": 308
        },
        "id": "8UDIAfi8rED4",
        "outputId": "dd78bcf3-0a91-423e-9b49-bbd06aacc5b1"
      },
      "outputs": [
        {
          "output_type": "stream",
          "name": "stdout",
          "text": [
            "Memory usage of dataframe is 8.95 MB --> 8.67 MB (Decreased by 3.2%)\n"
          ]
        },
        {
          "output_type": "stream",
          "name": "stderr",
          "text": [
            "<ipython-input-23-0c7c09843779>:2: FutureWarning: iteritems is deprecated and will be removed in a future version. Use .items instead.\n",
            "  for i, t in all_data.loc[:, cols].dtypes.iteritems():\n"
          ]
        },
        {
          "output_type": "execute_result",
          "data": {
            "text/plain": [
              "          matchId         groupId  matchType  players  damageDealt  DBNOs  \\\n",
              "0  0000a43bce5eec  7bd08592bb25e2          0        1        0.000  0.000   \n",
              "1  0000eb01ea6cdd  338a69335655a6          0        1      210.900  1.000   \n",
              "2  0000eb01ea6cdd  e89636a86735d3          0        1      300.000  2.000   \n",
              "3  00086e740a5804  4018d80e8ad32a          1        1      177.400  0.000   \n",
              "4  0008c31a9be4a7  26d4045668cf95          0        1        0.000  0.000   \n",
              "\n",
              "   killPlace  kills  killStreaks  longestKill  ...  \\\n",
              "0     41.000  0.000        0.000        0.000  ...   \n",
              "1     29.000  1.000        1.000       92.570  ...   \n",
              "2     11.000  3.000        3.000       19.330  ...   \n",
              "3     62.000  0.000        0.000        0.000  ...   \n",
              "4     74.000  0.000        0.000        0.000  ...   \n",
              "\n",
              "   rank.min._killsOverWalkDistance  rank.min.killsPerc  \\\n",
              "0                            1.000               1.000   \n",
              "1                            0.500               0.500   \n",
              "2                            1.000               1.000   \n",
              "3                            1.000               1.000   \n",
              "4                            1.000               1.000   \n",
              "\n",
              "   rank.min.killPlacePerc  rank.min.walkDistancePerc  \\\n",
              "0                   1.000                      1.000   \n",
              "1                   1.000                      1.000   \n",
              "2                   0.500                      0.500   \n",
              "3                   1.000                      1.000   \n",
              "4                   1.000                      1.000   \n",
              "\n",
              "   rank.min.walkPerc_killsPerc  rank.minor.maxKillPlace  \\\n",
              "0                        1.000                    1.000   \n",
              "1                        1.000                    1.000   \n",
              "2                        0.500                    1.000   \n",
              "3                        1.000                    1.000   \n",
              "4                        1.000                    1.000   \n",
              "\n",
              "   rank.minor.minKillPlace  matchType_duo  matchType_solo  matchType_squad  \n",
              "0                    1.000          0.000           0.000            1.000  \n",
              "1                    1.000          0.000           0.000            1.000  \n",
              "2                    1.000          0.000           0.000            1.000  \n",
              "3                    1.000          0.000           1.000            0.000  \n",
              "4                    1.000          0.000           0.000            1.000  \n",
              "\n",
              "[5 rows x 149 columns]"
            ],
            "text/html": [
              "\n",
              "  <div id=\"df-598d96d3-5bc2-47ab-9478-01cacc8415c4\" class=\"colab-df-container\">\n",
              "    <div>\n",
              "<style scoped>\n",
              "    .dataframe tbody tr th:only-of-type {\n",
              "        vertical-align: middle;\n",
              "    }\n",
              "\n",
              "    .dataframe tbody tr th {\n",
              "        vertical-align: top;\n",
              "    }\n",
              "\n",
              "    .dataframe thead th {\n",
              "        text-align: right;\n",
              "    }\n",
              "</style>\n",
              "<table border=\"1\" class=\"dataframe\">\n",
              "  <thead>\n",
              "    <tr style=\"text-align: right;\">\n",
              "      <th></th>\n",
              "      <th>matchId</th>\n",
              "      <th>groupId</th>\n",
              "      <th>matchType</th>\n",
              "      <th>players</th>\n",
              "      <th>damageDealt</th>\n",
              "      <th>DBNOs</th>\n",
              "      <th>killPlace</th>\n",
              "      <th>kills</th>\n",
              "      <th>killStreaks</th>\n",
              "      <th>longestKill</th>\n",
              "      <th>...</th>\n",
              "      <th>rank.min._killsOverWalkDistance</th>\n",
              "      <th>rank.min.killsPerc</th>\n",
              "      <th>rank.min.killPlacePerc</th>\n",
              "      <th>rank.min.walkDistancePerc</th>\n",
              "      <th>rank.min.walkPerc_killsPerc</th>\n",
              "      <th>rank.minor.maxKillPlace</th>\n",
              "      <th>rank.minor.minKillPlace</th>\n",
              "      <th>matchType_duo</th>\n",
              "      <th>matchType_solo</th>\n",
              "      <th>matchType_squad</th>\n",
              "    </tr>\n",
              "  </thead>\n",
              "  <tbody>\n",
              "    <tr>\n",
              "      <th>0</th>\n",
              "      <td>0000a43bce5eec</td>\n",
              "      <td>7bd08592bb25e2</td>\n",
              "      <td>0</td>\n",
              "      <td>1</td>\n",
              "      <td>0.000</td>\n",
              "      <td>0.000</td>\n",
              "      <td>41.000</td>\n",
              "      <td>0.000</td>\n",
              "      <td>0.000</td>\n",
              "      <td>0.000</td>\n",
              "      <td>...</td>\n",
              "      <td>1.000</td>\n",
              "      <td>1.000</td>\n",
              "      <td>1.000</td>\n",
              "      <td>1.000</td>\n",
              "      <td>1.000</td>\n",
              "      <td>1.000</td>\n",
              "      <td>1.000</td>\n",
              "      <td>0.000</td>\n",
              "      <td>0.000</td>\n",
              "      <td>1.000</td>\n",
              "    </tr>\n",
              "    <tr>\n",
              "      <th>1</th>\n",
              "      <td>0000eb01ea6cdd</td>\n",
              "      <td>338a69335655a6</td>\n",
              "      <td>0</td>\n",
              "      <td>1</td>\n",
              "      <td>210.900</td>\n",
              "      <td>1.000</td>\n",
              "      <td>29.000</td>\n",
              "      <td>1.000</td>\n",
              "      <td>1.000</td>\n",
              "      <td>92.570</td>\n",
              "      <td>...</td>\n",
              "      <td>0.500</td>\n",
              "      <td>0.500</td>\n",
              "      <td>1.000</td>\n",
              "      <td>1.000</td>\n",
              "      <td>1.000</td>\n",
              "      <td>1.000</td>\n",
              "      <td>1.000</td>\n",
              "      <td>0.000</td>\n",
              "      <td>0.000</td>\n",
              "      <td>1.000</td>\n",
              "    </tr>\n",
              "    <tr>\n",
              "      <th>2</th>\n",
              "      <td>0000eb01ea6cdd</td>\n",
              "      <td>e89636a86735d3</td>\n",
              "      <td>0</td>\n",
              "      <td>1</td>\n",
              "      <td>300.000</td>\n",
              "      <td>2.000</td>\n",
              "      <td>11.000</td>\n",
              "      <td>3.000</td>\n",
              "      <td>3.000</td>\n",
              "      <td>19.330</td>\n",
              "      <td>...</td>\n",
              "      <td>1.000</td>\n",
              "      <td>1.000</td>\n",
              "      <td>0.500</td>\n",
              "      <td>0.500</td>\n",
              "      <td>0.500</td>\n",
              "      <td>1.000</td>\n",
              "      <td>1.000</td>\n",
              "      <td>0.000</td>\n",
              "      <td>0.000</td>\n",
              "      <td>1.000</td>\n",
              "    </tr>\n",
              "    <tr>\n",
              "      <th>3</th>\n",
              "      <td>00086e740a5804</td>\n",
              "      <td>4018d80e8ad32a</td>\n",
              "      <td>1</td>\n",
              "      <td>1</td>\n",
              "      <td>177.400</td>\n",
              "      <td>0.000</td>\n",
              "      <td>62.000</td>\n",
              "      <td>0.000</td>\n",
              "      <td>0.000</td>\n",
              "      <td>0.000</td>\n",
              "      <td>...</td>\n",
              "      <td>1.000</td>\n",
              "      <td>1.000</td>\n",
              "      <td>1.000</td>\n",
              "      <td>1.000</td>\n",
              "      <td>1.000</td>\n",
              "      <td>1.000</td>\n",
              "      <td>1.000</td>\n",
              "      <td>0.000</td>\n",
              "      <td>1.000</td>\n",
              "      <td>0.000</td>\n",
              "    </tr>\n",
              "    <tr>\n",
              "      <th>4</th>\n",
              "      <td>0008c31a9be4a7</td>\n",
              "      <td>26d4045668cf95</td>\n",
              "      <td>0</td>\n",
              "      <td>1</td>\n",
              "      <td>0.000</td>\n",
              "      <td>0.000</td>\n",
              "      <td>74.000</td>\n",
              "      <td>0.000</td>\n",
              "      <td>0.000</td>\n",
              "      <td>0.000</td>\n",
              "      <td>...</td>\n",
              "      <td>1.000</td>\n",
              "      <td>1.000</td>\n",
              "      <td>1.000</td>\n",
              "      <td>1.000</td>\n",
              "      <td>1.000</td>\n",
              "      <td>1.000</td>\n",
              "      <td>1.000</td>\n",
              "      <td>0.000</td>\n",
              "      <td>0.000</td>\n",
              "      <td>1.000</td>\n",
              "    </tr>\n",
              "  </tbody>\n",
              "</table>\n",
              "<p>5 rows × 149 columns</p>\n",
              "</div>\n",
              "    <div class=\"colab-df-buttons\">\n",
              "\n",
              "  <div class=\"colab-df-container\">\n",
              "    <button class=\"colab-df-convert\" onclick=\"convertToInteractive('df-598d96d3-5bc2-47ab-9478-01cacc8415c4')\"\n",
              "            title=\"Convert this dataframe to an interactive table.\"\n",
              "            style=\"display:none;\">\n",
              "\n",
              "  <svg xmlns=\"http://www.w3.org/2000/svg\" height=\"24px\" viewBox=\"0 -960 960 960\">\n",
              "    <path d=\"M120-120v-720h720v720H120Zm60-500h600v-160H180v160Zm220 220h160v-160H400v160Zm0 220h160v-160H400v160ZM180-400h160v-160H180v160Zm440 0h160v-160H620v160ZM180-180h160v-160H180v160Zm440 0h160v-160H620v160Z\"/>\n",
              "  </svg>\n",
              "    </button>\n",
              "\n",
              "  <style>\n",
              "    .colab-df-container {\n",
              "      display:flex;\n",
              "      gap: 12px;\n",
              "    }\n",
              "\n",
              "    .colab-df-convert {\n",
              "      background-color: #E8F0FE;\n",
              "      border: none;\n",
              "      border-radius: 50%;\n",
              "      cursor: pointer;\n",
              "      display: none;\n",
              "      fill: #1967D2;\n",
              "      height: 32px;\n",
              "      padding: 0 0 0 0;\n",
              "      width: 32px;\n",
              "    }\n",
              "\n",
              "    .colab-df-convert:hover {\n",
              "      background-color: #E2EBFA;\n",
              "      box-shadow: 0px 1px 2px rgba(60, 64, 67, 0.3), 0px 1px 3px 1px rgba(60, 64, 67, 0.15);\n",
              "      fill: #174EA6;\n",
              "    }\n",
              "\n",
              "    .colab-df-buttons div {\n",
              "      margin-bottom: 4px;\n",
              "    }\n",
              "\n",
              "    [theme=dark] .colab-df-convert {\n",
              "      background-color: #3B4455;\n",
              "      fill: #D2E3FC;\n",
              "    }\n",
              "\n",
              "    [theme=dark] .colab-df-convert:hover {\n",
              "      background-color: #434B5C;\n",
              "      box-shadow: 0px 1px 3px 1px rgba(0, 0, 0, 0.15);\n",
              "      filter: drop-shadow(0px 1px 2px rgba(0, 0, 0, 0.3));\n",
              "      fill: #FFFFFF;\n",
              "    }\n",
              "  </style>\n",
              "\n",
              "    <script>\n",
              "      const buttonEl =\n",
              "        document.querySelector('#df-598d96d3-5bc2-47ab-9478-01cacc8415c4 button.colab-df-convert');\n",
              "      buttonEl.style.display =\n",
              "        google.colab.kernel.accessAllowed ? 'block' : 'none';\n",
              "\n",
              "      async function convertToInteractive(key) {\n",
              "        const element = document.querySelector('#df-598d96d3-5bc2-47ab-9478-01cacc8415c4');\n",
              "        const dataTable =\n",
              "          await google.colab.kernel.invokeFunction('convertToInteractive',\n",
              "                                                    [key], {});\n",
              "        if (!dataTable) return;\n",
              "\n",
              "        const docLinkHtml = 'Like what you see? Visit the ' +\n",
              "          '<a target=\"_blank\" href=https://colab.research.google.com/notebooks/data_table.ipynb>data table notebook</a>'\n",
              "          + ' to learn more about interactive tables.';\n",
              "        element.innerHTML = '';\n",
              "        dataTable['output_type'] = 'display_data';\n",
              "        await google.colab.output.renderOutput(dataTable, element);\n",
              "        const docLink = document.createElement('div');\n",
              "        docLink.innerHTML = docLinkHtml;\n",
              "        element.appendChild(docLink);\n",
              "      }\n",
              "    </script>\n",
              "  </div>\n",
              "\n",
              "\n",
              "<div id=\"df-8d8349c4-2bab-43c0-a561-79e474b24682\">\n",
              "  <button class=\"colab-df-quickchart\" onclick=\"quickchart('df-8d8349c4-2bab-43c0-a561-79e474b24682')\"\n",
              "            title=\"Suggest charts\"\n",
              "            style=\"display:none;\">\n",
              "\n",
              "<svg xmlns=\"http://www.w3.org/2000/svg\" height=\"24px\"viewBox=\"0 0 24 24\"\n",
              "     width=\"24px\">\n",
              "    <g>\n",
              "        <path d=\"M19 3H5c-1.1 0-2 .9-2 2v14c0 1.1.9 2 2 2h14c1.1 0 2-.9 2-2V5c0-1.1-.9-2-2-2zM9 17H7v-7h2v7zm4 0h-2V7h2v10zm4 0h-2v-4h2v4z\"/>\n",
              "    </g>\n",
              "</svg>\n",
              "  </button>\n",
              "\n",
              "<style>\n",
              "  .colab-df-quickchart {\n",
              "      --bg-color: #E8F0FE;\n",
              "      --fill-color: #1967D2;\n",
              "      --hover-bg-color: #E2EBFA;\n",
              "      --hover-fill-color: #174EA6;\n",
              "      --disabled-fill-color: #AAA;\n",
              "      --disabled-bg-color: #DDD;\n",
              "  }\n",
              "\n",
              "  [theme=dark] .colab-df-quickchart {\n",
              "      --bg-color: #3B4455;\n",
              "      --fill-color: #D2E3FC;\n",
              "      --hover-bg-color: #434B5C;\n",
              "      --hover-fill-color: #FFFFFF;\n",
              "      --disabled-bg-color: #3B4455;\n",
              "      --disabled-fill-color: #666;\n",
              "  }\n",
              "\n",
              "  .colab-df-quickchart {\n",
              "    background-color: var(--bg-color);\n",
              "    border: none;\n",
              "    border-radius: 50%;\n",
              "    cursor: pointer;\n",
              "    display: none;\n",
              "    fill: var(--fill-color);\n",
              "    height: 32px;\n",
              "    padding: 0;\n",
              "    width: 32px;\n",
              "  }\n",
              "\n",
              "  .colab-df-quickchart:hover {\n",
              "    background-color: var(--hover-bg-color);\n",
              "    box-shadow: 0 1px 2px rgba(60, 64, 67, 0.3), 0 1px 3px 1px rgba(60, 64, 67, 0.15);\n",
              "    fill: var(--button-hover-fill-color);\n",
              "  }\n",
              "\n",
              "  .colab-df-quickchart-complete:disabled,\n",
              "  .colab-df-quickchart-complete:disabled:hover {\n",
              "    background-color: var(--disabled-bg-color);\n",
              "    fill: var(--disabled-fill-color);\n",
              "    box-shadow: none;\n",
              "  }\n",
              "\n",
              "  .colab-df-spinner {\n",
              "    border: 2px solid var(--fill-color);\n",
              "    border-color: transparent;\n",
              "    border-bottom-color: var(--fill-color);\n",
              "    animation:\n",
              "      spin 1s steps(1) infinite;\n",
              "  }\n",
              "\n",
              "  @keyframes spin {\n",
              "    0% {\n",
              "      border-color: transparent;\n",
              "      border-bottom-color: var(--fill-color);\n",
              "      border-left-color: var(--fill-color);\n",
              "    }\n",
              "    20% {\n",
              "      border-color: transparent;\n",
              "      border-left-color: var(--fill-color);\n",
              "      border-top-color: var(--fill-color);\n",
              "    }\n",
              "    30% {\n",
              "      border-color: transparent;\n",
              "      border-left-color: var(--fill-color);\n",
              "      border-top-color: var(--fill-color);\n",
              "      border-right-color: var(--fill-color);\n",
              "    }\n",
              "    40% {\n",
              "      border-color: transparent;\n",
              "      border-right-color: var(--fill-color);\n",
              "      border-top-color: var(--fill-color);\n",
              "    }\n",
              "    60% {\n",
              "      border-color: transparent;\n",
              "      border-right-color: var(--fill-color);\n",
              "    }\n",
              "    80% {\n",
              "      border-color: transparent;\n",
              "      border-right-color: var(--fill-color);\n",
              "      border-bottom-color: var(--fill-color);\n",
              "    }\n",
              "    90% {\n",
              "      border-color: transparent;\n",
              "      border-bottom-color: var(--fill-color);\n",
              "    }\n",
              "  }\n",
              "</style>\n",
              "\n",
              "  <script>\n",
              "    async function quickchart(key) {\n",
              "      const quickchartButtonEl =\n",
              "        document.querySelector('#' + key + ' button');\n",
              "      quickchartButtonEl.disabled = true;  // To prevent multiple clicks.\n",
              "      quickchartButtonEl.classList.add('colab-df-spinner');\n",
              "      try {\n",
              "        const charts = await google.colab.kernel.invokeFunction(\n",
              "            'suggestCharts', [key], {});\n",
              "      } catch (error) {\n",
              "        console.error('Error during call to suggestCharts:', error);\n",
              "      }\n",
              "      quickchartButtonEl.classList.remove('colab-df-spinner');\n",
              "      quickchartButtonEl.classList.add('colab-df-quickchart-complete');\n",
              "    }\n",
              "    (() => {\n",
              "      let quickchartButtonEl =\n",
              "        document.querySelector('#df-8d8349c4-2bab-43c0-a561-79e474b24682 button');\n",
              "      quickchartButtonEl.style.display =\n",
              "        google.colab.kernel.accessAllowed ? 'block' : 'none';\n",
              "    })();\n",
              "  </script>\n",
              "</div>\n",
              "\n",
              "    </div>\n",
              "  </div>\n"
            ],
            "application/vnd.google.colaboratory.intrinsic+json": {
              "type": "dataframe",
              "variable_name": "all_data"
            }
          },
          "metadata": {},
          "execution_count": 23
        }
      ],
      "source": [
        "cols = [col for col in all_data.columns if col not in ['Id','matchId','groupId']]\n",
        "for i, t in all_data.loc[:, cols].dtypes.iteritems():\n",
        "    if t == object:\n",
        "        all_data[i] = pd.factorize(all_data[i])[0]\n",
        "\n",
        "all_data = reduce_mem_usage(all_data)\n",
        "all_data.head()"
      ]
    },
    {
      "cell_type": "markdown",
      "metadata": {
        "_uuid": "8db28f0dcc9d2a0de93238de1a6eb76bb7f6331b",
        "id": "59m6mJddrED5"
      },
      "source": [
        "# Predict"
      ]
    },
    {
      "cell_type": "code",
      "execution_count": 24,
      "metadata": {
        "_uuid": "c9638c50680633d176596da0dbb085ca31bacf19",
        "colab": {
          "base_uri": "https://localhost:8080/"
        },
        "id": "V-Eie8GlrED6",
        "outputId": "8239cbe1-49d4-4b5d-e10b-0d4460a735cd"
      },
      "outputs": [
        {
          "output_type": "stream",
          "name": "stdout",
          "text": [
            "(8972, 146) (7489, 146)\n"
          ]
        }
      ],
      "source": [
        "X_train = all_data[all_data['winPlacePerc'].notnull()].reset_index(drop=True)\n",
        "X_test = all_data[all_data['winPlacePerc'].isnull()].drop(['winPlacePerc'], axis=1).reset_index(drop=True)\n",
        "del all_data\n",
        "gc.collect()\n",
        "\n",
        "Y_train = X_train.pop('winPlacePerc')\n",
        "X_test_grp = X_test[['matchId','groupId']].copy()\n",
        "\n",
        "# drop matchId,groupId\n",
        "X_train.drop(['matchId','groupId'], axis=1, inplace=True)\n",
        "X_test.drop(['matchId','groupId'], axis=1, inplace=True)\n",
        "\n",
        "X_train_cols = X_train.columns\n",
        "\n",
        "print(X_train.shape, X_test.shape)"
      ]
    },
    {
      "cell_type": "code",
      "execution_count": 26,
      "metadata": {
        "_uuid": "e777c101f7ce2cec11e284daabd4c1f94edae41d",
        "colab": {
          "base_uri": "https://localhost:8080/"
        },
        "id": "9s5MO_u9rED7",
        "outputId": "cb5a4471-8aa0-4536-dbf0-b25c4ab2e5b2"
      },
      "outputs": [
        {
          "output_type": "stream",
          "name": "stdout",
          "text": [
            "           name     size\n",
            "0       X_train  4701472\n",
            "1        X_test  3924380\n",
            "2    X_test_grp  1063582\n",
            "3       Y_train    36032\n",
            "4  X_train_cols    15039\n",
            "5      rank_col     6294\n",
            "6            _7     3642\n",
            "7             _     3406\n",
            "8           _23     3406\n",
            "9      null_cnt     2171\n"
          ]
        }
      ],
      "source": [
        "print(pd.DataFrame([[val for val in dir()], [sys.getsizeof(eval(val)) for val in dir()]],\n",
        "                   index=['name','size']).T.sort_values('size', ascending=False).reset_index(drop=True)[:10])"
      ]
    },
    {
      "cell_type": "code",
      "execution_count": 27,
      "metadata": {
        "_uuid": "725a31e7756fa677e26a5b4bd48ff756222f3513",
        "id": "O94es7RKrED8"
      },
      "outputs": [],
      "source": [
        "from keras import optimizers, regularizers\n",
        "from keras.callbacks import LearningRateScheduler, EarlyStopping, ModelCheckpoint, ReduceLROnPlateau\n",
        "from keras.layers import Dense, Dropout, BatchNormalization, PReLU\n",
        "from keras.models import load_model\n",
        "from keras.models import Sequential\n",
        "\n",
        "def createModel():\n",
        "    model = Sequential()\n",
        "    model.add(Dense(512, kernel_initializer='he_normal', input_dim=X_train.shape[1], activation='relu'))\n",
        "    model.add(BatchNormalization())\n",
        "    model.add(Dropout(0.2))\n",
        "\n",
        "    model.add(Dense(256, kernel_initializer='he_normal'))\n",
        "    model.add(PReLU(alpha_initializer='zeros', alpha_regularizer=None, alpha_constraint=None, shared_axes=None))\n",
        "    model.add(BatchNormalization())\n",
        "    model.add(Dropout(0.2))\n",
        "\n",
        "    model.add(Dense(128, kernel_initializer='he_normal'))\n",
        "    model.add(PReLU(alpha_initializer='zeros', alpha_regularizer=None, alpha_constraint=None, shared_axes=None))\n",
        "    model.add(BatchNormalization())\n",
        "    model.add(Dropout(0.1))\n",
        "\n",
        "    model.add(Dense(1, kernel_initializer='normal', activation='sigmoid'))\n",
        "\n",
        "    optimizer = optimizers.Adam(lr=0.005)\n",
        "    model.compile(optimizer=optimizer, loss='mse', metrics=['mae'])\n",
        "    #model.compile(optimizer=optimizer, loss='binary_crossentropy', metrics=['mae'])\n",
        "\n",
        "    return model"
      ]
    },
    {
      "cell_type": "markdown",
      "metadata": {
        "id": "EA74CFWuNG5m"
      },
      "source": [
        "import tensorflow as tf\n",
        "print(tf.__version__)"
      ]
    },
    {
      "cell_type": "code",
      "execution_count": 28,
      "metadata": {
        "_uuid": "f67a96ebb513470dfb5ba116400eaaed38d14103",
        "id": "-4jZva_3rED-"
      },
      "outputs": [],
      "source": [
        "def step_decay_schedule(initial_lr=1e-3, decay_factor=0.75, step_size=10, verbose=0):\n",
        "    ''' Wrapper function to create a LearningRateScheduler with step decay schedule. '''\n",
        "    def schedule(epoch):\n",
        "        return initial_lr * (decay_factor ** np.floor(epoch/step_size))\n",
        "\n",
        "    return LearningRateScheduler(schedule, verbose)\n",
        "\n",
        "lr_sched = step_decay_schedule(initial_lr=0.001, decay_factor=0.97, step_size=1, verbose=1)\n",
        "early_stopping = EarlyStopping(monitor='val_mean_absolute_error', mode='min', patience=10, verbose=1)"
      ]
    },
    {
      "cell_type": "code",
      "execution_count": 33,
      "metadata": {
        "_uuid": "dc48e7700f42ba20351ac2ef4900fb8909cf6f6a",
        "colab": {
          "base_uri": "https://localhost:8080/"
        },
        "id": "eUCQmnZJrED_",
        "outputId": "c4615616-3c65-4897-b881-5aff4ece5b02"
      },
      "outputs": [
        {
          "output_type": "stream",
          "name": "stderr",
          "text": [
            "WARNING:absl:`lr` is deprecated in Keras optimizer, please use `learning_rate` or use the legacy optimizer, e.g.,tf.keras.optimizers.legacy.Adam.\n"
          ]
        },
        {
          "output_type": "stream",
          "name": "stdout",
          "text": [
            "\n",
            "Epoch 1: LearningRateScheduler setting learning rate to 0.001.\n",
            "Epoch 1/200\n"
          ]
        },
        {
          "output_type": "stream",
          "name": "stderr",
          "text": [
            "WARNING:tensorflow:Early stopping conditioned on metric `val_mean_absolute_error` which is not available. Available metrics are: loss,mae,val_loss,val_mae,lr\n"
          ]
        },
        {
          "output_type": "stream",
          "name": "stdout",
          "text": [
            "1/1 - 3s - loss: 0.0911 - mae: 0.2538 - val_loss: 0.0598 - val_mae: 0.2086 - lr: 0.0010 - 3s/epoch - 3s/step\n",
            "\n",
            "Epoch 2: LearningRateScheduler setting learning rate to 0.0009699999999999999.\n",
            "Epoch 2/200\n"
          ]
        },
        {
          "output_type": "stream",
          "name": "stderr",
          "text": [
            "WARNING:tensorflow:Early stopping conditioned on metric `val_mean_absolute_error` which is not available. Available metrics are: loss,mae,val_loss,val_mae,lr\n"
          ]
        },
        {
          "output_type": "stream",
          "name": "stdout",
          "text": [
            "1/1 - 0s - loss: 0.0396 - mae: 0.1597 - val_loss: 0.0387 - val_mae: 0.1628 - lr: 9.7000e-04 - 395ms/epoch - 395ms/step\n",
            "\n",
            "Epoch 3: LearningRateScheduler setting learning rate to 0.0009408999999999999.\n",
            "Epoch 3/200\n"
          ]
        },
        {
          "output_type": "stream",
          "name": "stderr",
          "text": [
            "WARNING:tensorflow:Early stopping conditioned on metric `val_mean_absolute_error` which is not available. Available metrics are: loss,mae,val_loss,val_mae,lr\n"
          ]
        },
        {
          "output_type": "stream",
          "name": "stdout",
          "text": [
            "1/1 - 0s - loss: 0.0292 - mae: 0.1308 - val_loss: 0.0312 - val_mae: 0.1410 - lr: 9.4090e-04 - 454ms/epoch - 454ms/step\n",
            "\n",
            "Epoch 4: LearningRateScheduler setting learning rate to 0.000912673.\n",
            "Epoch 4/200\n"
          ]
        },
        {
          "output_type": "stream",
          "name": "stderr",
          "text": [
            "WARNING:tensorflow:Early stopping conditioned on metric `val_mean_absolute_error` which is not available. Available metrics are: loss,mae,val_loss,val_mae,lr\n"
          ]
        },
        {
          "output_type": "stream",
          "name": "stdout",
          "text": [
            "1/1 - 0s - loss: 0.0260 - mae: 0.1213 - val_loss: 0.0280 - val_mae: 0.1300 - lr: 9.1267e-04 - 387ms/epoch - 387ms/step\n",
            "\n",
            "Epoch 5: LearningRateScheduler setting learning rate to 0.00088529281.\n",
            "Epoch 5/200\n"
          ]
        },
        {
          "output_type": "stream",
          "name": "stderr",
          "text": [
            "WARNING:tensorflow:Early stopping conditioned on metric `val_mean_absolute_error` which is not available. Available metrics are: loss,mae,val_loss,val_mae,lr\n"
          ]
        },
        {
          "output_type": "stream",
          "name": "stdout",
          "text": [
            "1/1 - 0s - loss: 0.0246 - mae: 0.1163 - val_loss: 0.0261 - val_mae: 0.1234 - lr: 8.8529e-04 - 386ms/epoch - 386ms/step\n",
            "\n",
            "Epoch 6: LearningRateScheduler setting learning rate to 0.0008587340257.\n",
            "Epoch 6/200\n"
          ]
        },
        {
          "output_type": "stream",
          "name": "stderr",
          "text": [
            "WARNING:tensorflow:Early stopping conditioned on metric `val_mean_absolute_error` which is not available. Available metrics are: loss,mae,val_loss,val_mae,lr\n"
          ]
        },
        {
          "output_type": "stream",
          "name": "stdout",
          "text": [
            "1/1 - 0s - loss: 0.0236 - mae: 0.1133 - val_loss: 0.0248 - val_mae: 0.1186 - lr: 8.5873e-04 - 455ms/epoch - 455ms/step\n",
            "\n",
            "Epoch 7: LearningRateScheduler setting learning rate to 0.0008329720049289998.\n",
            "Epoch 7/200\n"
          ]
        },
        {
          "output_type": "stream",
          "name": "stderr",
          "text": [
            "WARNING:tensorflow:Early stopping conditioned on metric `val_mean_absolute_error` which is not available. Available metrics are: loss,mae,val_loss,val_mae,lr\n"
          ]
        },
        {
          "output_type": "stream",
          "name": "stdout",
          "text": [
            "1/1 - 0s - loss: 0.0226 - mae: 0.1104 - val_loss: 0.0238 - val_mae: 0.1150 - lr: 8.3297e-04 - 436ms/epoch - 436ms/step\n",
            "\n",
            "Epoch 8: LearningRateScheduler setting learning rate to 0.0008079828447811299.\n",
            "Epoch 8/200\n"
          ]
        },
        {
          "output_type": "stream",
          "name": "stderr",
          "text": [
            "WARNING:tensorflow:Early stopping conditioned on metric `val_mean_absolute_error` which is not available. Available metrics are: loss,mae,val_loss,val_mae,lr\n"
          ]
        },
        {
          "output_type": "stream",
          "name": "stdout",
          "text": [
            "1/1 - 0s - loss: 0.0211 - mae: 0.1074 - val_loss: 0.0230 - val_mae: 0.1124 - lr: 8.0798e-04 - 400ms/epoch - 400ms/step\n",
            "\n",
            "Epoch 9: LearningRateScheduler setting learning rate to 0.0007837433594376959.\n",
            "Epoch 9/200\n"
          ]
        },
        {
          "output_type": "stream",
          "name": "stderr",
          "text": [
            "WARNING:tensorflow:Early stopping conditioned on metric `val_mean_absolute_error` which is not available. Available metrics are: loss,mae,val_loss,val_mae,lr\n"
          ]
        },
        {
          "output_type": "stream",
          "name": "stdout",
          "text": [
            "1/1 - 0s - loss: 0.0203 - mae: 0.1056 - val_loss: 0.0224 - val_mae: 0.1105 - lr: 7.8374e-04 - 433ms/epoch - 433ms/step\n",
            "\n",
            "Epoch 10: LearningRateScheduler setting learning rate to 0.0007602310586545651.\n",
            "Epoch 10/200\n"
          ]
        },
        {
          "output_type": "stream",
          "name": "stderr",
          "text": [
            "WARNING:tensorflow:Early stopping conditioned on metric `val_mean_absolute_error` which is not available. Available metrics are: loss,mae,val_loss,val_mae,lr\n"
          ]
        },
        {
          "output_type": "stream",
          "name": "stdout",
          "text": [
            "1/1 - 0s - loss: 0.0201 - mae: 0.1047 - val_loss: 0.0220 - val_mae: 0.1090 - lr: 7.6023e-04 - 425ms/epoch - 425ms/step\n",
            "\n",
            "Epoch 11: LearningRateScheduler setting learning rate to 0.0007374241268949281.\n",
            "Epoch 11/200\n"
          ]
        },
        {
          "output_type": "stream",
          "name": "stderr",
          "text": [
            "WARNING:tensorflow:Early stopping conditioned on metric `val_mean_absolute_error` which is not available. Available metrics are: loss,mae,val_loss,val_mae,lr\n"
          ]
        },
        {
          "output_type": "stream",
          "name": "stdout",
          "text": [
            "1/1 - 0s - loss: 0.0190 - mae: 0.1023 - val_loss: 0.0217 - val_mae: 0.1079 - lr: 7.3742e-04 - 496ms/epoch - 496ms/step\n",
            "\n",
            "Epoch 12: LearningRateScheduler setting learning rate to 0.0007153014030880803.\n",
            "Epoch 12/200\n"
          ]
        },
        {
          "output_type": "stream",
          "name": "stderr",
          "text": [
            "WARNING:tensorflow:Early stopping conditioned on metric `val_mean_absolute_error` which is not available. Available metrics are: loss,mae,val_loss,val_mae,lr\n"
          ]
        },
        {
          "output_type": "stream",
          "name": "stdout",
          "text": [
            "1/1 - 1s - loss: 0.0177 - mae: 0.0989 - val_loss: 0.0215 - val_mae: 0.1073 - lr: 7.1530e-04 - 660ms/epoch - 660ms/step\n",
            "\n",
            "Epoch 13: LearningRateScheduler setting learning rate to 0.0006938423609954377.\n",
            "Epoch 13/200\n"
          ]
        },
        {
          "output_type": "stream",
          "name": "stderr",
          "text": [
            "WARNING:tensorflow:Early stopping conditioned on metric `val_mean_absolute_error` which is not available. Available metrics are: loss,mae,val_loss,val_mae,lr\n"
          ]
        },
        {
          "output_type": "stream",
          "name": "stdout",
          "text": [
            "1/1 - 1s - loss: 0.0171 - mae: 0.0972 - val_loss: 0.0215 - val_mae: 0.1071 - lr: 6.9384e-04 - 600ms/epoch - 600ms/step\n",
            "\n",
            "Epoch 14: LearningRateScheduler setting learning rate to 0.0006730270901655746.\n",
            "Epoch 14/200\n"
          ]
        },
        {
          "output_type": "stream",
          "name": "stderr",
          "text": [
            "WARNING:tensorflow:Early stopping conditioned on metric `val_mean_absolute_error` which is not available. Available metrics are: loss,mae,val_loss,val_mae,lr\n"
          ]
        },
        {
          "output_type": "stream",
          "name": "stdout",
          "text": [
            "1/1 - 1s - loss: 0.0170 - mae: 0.0969 - val_loss: 0.0215 - val_mae: 0.1069 - lr: 6.7303e-04 - 667ms/epoch - 667ms/step\n",
            "\n",
            "Epoch 15: LearningRateScheduler setting learning rate to 0.0006528362774606074.\n",
            "Epoch 15/200\n"
          ]
        },
        {
          "output_type": "stream",
          "name": "stderr",
          "text": [
            "WARNING:tensorflow:Early stopping conditioned on metric `val_mean_absolute_error` which is not available. Available metrics are: loss,mae,val_loss,val_mae,lr\n"
          ]
        },
        {
          "output_type": "stream",
          "name": "stdout",
          "text": [
            "1/1 - 1s - loss: 0.0166 - mae: 0.0956 - val_loss: 0.0214 - val_mae: 0.1067 - lr: 6.5284e-04 - 691ms/epoch - 691ms/step\n",
            "\n",
            "Epoch 16: LearningRateScheduler setting learning rate to 0.0006332511891367892.\n",
            "Epoch 16/200\n"
          ]
        },
        {
          "output_type": "stream",
          "name": "stderr",
          "text": [
            "WARNING:tensorflow:Early stopping conditioned on metric `val_mean_absolute_error` which is not available. Available metrics are: loss,mae,val_loss,val_mae,lr\n"
          ]
        },
        {
          "output_type": "stream",
          "name": "stdout",
          "text": [
            "1/1 - 0s - loss: 0.0164 - mae: 0.0956 - val_loss: 0.0213 - val_mae: 0.1063 - lr: 6.3325e-04 - 418ms/epoch - 418ms/step\n",
            "\n",
            "Epoch 17: LearningRateScheduler setting learning rate to 0.0006142536534626855.\n",
            "Epoch 17/200\n"
          ]
        },
        {
          "output_type": "stream",
          "name": "stderr",
          "text": [
            "WARNING:tensorflow:Early stopping conditioned on metric `val_mean_absolute_error` which is not available. Available metrics are: loss,mae,val_loss,val_mae,lr\n"
          ]
        },
        {
          "output_type": "stream",
          "name": "stdout",
          "text": [
            "1/1 - 0s - loss: 0.0161 - mae: 0.0953 - val_loss: 0.0210 - val_mae: 0.1056 - lr: 6.1425e-04 - 388ms/epoch - 388ms/step\n",
            "\n",
            "Epoch 18: LearningRateScheduler setting learning rate to 0.0005958260438588049.\n",
            "Epoch 18/200\n"
          ]
        },
        {
          "output_type": "stream",
          "name": "stderr",
          "text": [
            "WARNING:tensorflow:Early stopping conditioned on metric `val_mean_absolute_error` which is not available. Available metrics are: loss,mae,val_loss,val_mae,lr\n"
          ]
        },
        {
          "output_type": "stream",
          "name": "stdout",
          "text": [
            "1/1 - 0s - loss: 0.0161 - mae: 0.0947 - val_loss: 0.0207 - val_mae: 0.1046 - lr: 5.9583e-04 - 440ms/epoch - 440ms/step\n",
            "\n",
            "Epoch 19: LearningRateScheduler setting learning rate to 0.0005779512625430407.\n",
            "Epoch 19/200\n"
          ]
        },
        {
          "output_type": "stream",
          "name": "stderr",
          "text": [
            "WARNING:tensorflow:Early stopping conditioned on metric `val_mean_absolute_error` which is not available. Available metrics are: loss,mae,val_loss,val_mae,lr\n"
          ]
        },
        {
          "output_type": "stream",
          "name": "stdout",
          "text": [
            "1/1 - 0s - loss: 0.0160 - mae: 0.0951 - val_loss: 0.0203 - val_mae: 0.1035 - lr: 5.7795e-04 - 395ms/epoch - 395ms/step\n",
            "\n",
            "Epoch 20: LearningRateScheduler setting learning rate to 0.0005606127246667495.\n",
            "Epoch 20/200\n"
          ]
        },
        {
          "output_type": "stream",
          "name": "stderr",
          "text": [
            "WARNING:tensorflow:Early stopping conditioned on metric `val_mean_absolute_error` which is not available. Available metrics are: loss,mae,val_loss,val_mae,lr\n"
          ]
        },
        {
          "output_type": "stream",
          "name": "stdout",
          "text": [
            "1/1 - 0s - loss: 0.0159 - mae: 0.0940 - val_loss: 0.0199 - val_mae: 0.1024 - lr: 5.6061e-04 - 449ms/epoch - 449ms/step\n",
            "\n",
            "Epoch 21: LearningRateScheduler setting learning rate to 0.000543794342926747.\n",
            "Epoch 21/200\n"
          ]
        },
        {
          "output_type": "stream",
          "name": "stderr",
          "text": [
            "WARNING:tensorflow:Early stopping conditioned on metric `val_mean_absolute_error` which is not available. Available metrics are: loss,mae,val_loss,val_mae,lr\n"
          ]
        },
        {
          "output_type": "stream",
          "name": "stdout",
          "text": [
            "1/1 - 0s - loss: 0.0155 - mae: 0.0933 - val_loss: 0.0195 - val_mae: 0.1013 - lr: 5.4379e-04 - 397ms/epoch - 397ms/step\n",
            "\n",
            "Epoch 22: LearningRateScheduler setting learning rate to 0.0005274805126389446.\n",
            "Epoch 22/200\n"
          ]
        },
        {
          "output_type": "stream",
          "name": "stderr",
          "text": [
            "WARNING:tensorflow:Early stopping conditioned on metric `val_mean_absolute_error` which is not available. Available metrics are: loss,mae,val_loss,val_mae,lr\n"
          ]
        },
        {
          "output_type": "stream",
          "name": "stdout",
          "text": [
            "1/1 - 0s - loss: 0.0153 - mae: 0.0922 - val_loss: 0.0191 - val_mae: 0.1004 - lr: 5.2748e-04 - 388ms/epoch - 388ms/step\n",
            "\n",
            "Epoch 23: LearningRateScheduler setting learning rate to 0.0005116560972597763.\n",
            "Epoch 23/200\n"
          ]
        },
        {
          "output_type": "stream",
          "name": "stderr",
          "text": [
            "WARNING:tensorflow:Early stopping conditioned on metric `val_mean_absolute_error` which is not available. Available metrics are: loss,mae,val_loss,val_mae,lr\n"
          ]
        },
        {
          "output_type": "stream",
          "name": "stdout",
          "text": [
            "1/1 - 0s - loss: 0.0148 - mae: 0.0914 - val_loss: 0.0189 - val_mae: 0.0996 - lr: 5.1166e-04 - 428ms/epoch - 428ms/step\n",
            "\n",
            "Epoch 24: LearningRateScheduler setting learning rate to 0.0004963064143419829.\n",
            "Epoch 24/200\n"
          ]
        },
        {
          "output_type": "stream",
          "name": "stderr",
          "text": [
            "WARNING:tensorflow:Early stopping conditioned on metric `val_mean_absolute_error` which is not available. Available metrics are: loss,mae,val_loss,val_mae,lr\n"
          ]
        },
        {
          "output_type": "stream",
          "name": "stdout",
          "text": [
            "1/1 - 0s - loss: 0.0148 - mae: 0.0913 - val_loss: 0.0186 - val_mae: 0.0989 - lr: 4.9631e-04 - 405ms/epoch - 405ms/step\n",
            "\n",
            "Epoch 25: LearningRateScheduler setting learning rate to 0.00048141722191172336.\n",
            "Epoch 25/200\n"
          ]
        },
        {
          "output_type": "stream",
          "name": "stderr",
          "text": [
            "WARNING:tensorflow:Early stopping conditioned on metric `val_mean_absolute_error` which is not available. Available metrics are: loss,mae,val_loss,val_mae,lr\n"
          ]
        },
        {
          "output_type": "stream",
          "name": "stdout",
          "text": [
            "1/1 - 0s - loss: 0.0147 - mae: 0.0907 - val_loss: 0.0184 - val_mae: 0.0983 - lr: 4.8142e-04 - 393ms/epoch - 393ms/step\n",
            "\n",
            "Epoch 26: LearningRateScheduler setting learning rate to 0.0004669747052543717.\n",
            "Epoch 26/200\n"
          ]
        },
        {
          "output_type": "stream",
          "name": "stderr",
          "text": [
            "WARNING:tensorflow:Early stopping conditioned on metric `val_mean_absolute_error` which is not available. Available metrics are: loss,mae,val_loss,val_mae,lr\n"
          ]
        },
        {
          "output_type": "stream",
          "name": "stdout",
          "text": [
            "1/1 - 0s - loss: 0.0145 - mae: 0.0900 - val_loss: 0.0183 - val_mae: 0.0979 - lr: 4.6697e-04 - 429ms/epoch - 429ms/step\n",
            "\n",
            "Epoch 27: LearningRateScheduler setting learning rate to 0.0004529654640967405.\n",
            "Epoch 27/200\n"
          ]
        },
        {
          "output_type": "stream",
          "name": "stderr",
          "text": [
            "WARNING:tensorflow:Early stopping conditioned on metric `val_mean_absolute_error` which is not available. Available metrics are: loss,mae,val_loss,val_mae,lr\n"
          ]
        },
        {
          "output_type": "stream",
          "name": "stdout",
          "text": [
            "1/1 - 0s - loss: 0.0144 - mae: 0.0894 - val_loss: 0.0182 - val_mae: 0.0977 - lr: 4.5297e-04 - 447ms/epoch - 447ms/step\n",
            "\n",
            "Epoch 28: LearningRateScheduler setting learning rate to 0.0004393765001738383.\n",
            "Epoch 28/200\n"
          ]
        },
        {
          "output_type": "stream",
          "name": "stderr",
          "text": [
            "WARNING:tensorflow:Early stopping conditioned on metric `val_mean_absolute_error` which is not available. Available metrics are: loss,mae,val_loss,val_mae,lr\n"
          ]
        },
        {
          "output_type": "stream",
          "name": "stdout",
          "text": [
            "1/1 - 0s - loss: 0.0144 - mae: 0.0891 - val_loss: 0.0181 - val_mae: 0.0975 - lr: 4.3938e-04 - 422ms/epoch - 422ms/step\n",
            "\n",
            "Epoch 29: LearningRateScheduler setting learning rate to 0.0004261952051686231.\n",
            "Epoch 29/200\n"
          ]
        },
        {
          "output_type": "stream",
          "name": "stderr",
          "text": [
            "WARNING:tensorflow:Early stopping conditioned on metric `val_mean_absolute_error` which is not available. Available metrics are: loss,mae,val_loss,val_mae,lr\n"
          ]
        },
        {
          "output_type": "stream",
          "name": "stdout",
          "text": [
            "1/1 - 0s - loss: 0.0144 - mae: 0.0893 - val_loss: 0.0181 - val_mae: 0.0975 - lr: 4.2620e-04 - 395ms/epoch - 395ms/step\n",
            "\n",
            "Epoch 30: LearningRateScheduler setting learning rate to 0.0004134093490135644.\n",
            "Epoch 30/200\n"
          ]
        },
        {
          "output_type": "stream",
          "name": "stderr",
          "text": [
            "WARNING:tensorflow:Early stopping conditioned on metric `val_mean_absolute_error` which is not available. Available metrics are: loss,mae,val_loss,val_mae,lr\n"
          ]
        },
        {
          "output_type": "stream",
          "name": "stdout",
          "text": [
            "1/1 - 0s - loss: 0.0140 - mae: 0.0878 - val_loss: 0.0181 - val_mae: 0.0975 - lr: 4.1341e-04 - 418ms/epoch - 418ms/step\n",
            "\n",
            "Epoch 31: LearningRateScheduler setting learning rate to 0.00040100706854315747.\n",
            "Epoch 31/200\n"
          ]
        },
        {
          "output_type": "stream",
          "name": "stderr",
          "text": [
            "WARNING:tensorflow:Early stopping conditioned on metric `val_mean_absolute_error` which is not available. Available metrics are: loss,mae,val_loss,val_mae,lr\n"
          ]
        },
        {
          "output_type": "stream",
          "name": "stdout",
          "text": [
            "1/1 - 0s - loss: 0.0139 - mae: 0.0877 - val_loss: 0.0181 - val_mae: 0.0975 - lr: 4.0101e-04 - 441ms/epoch - 441ms/step\n",
            "\n",
            "Epoch 32: LearningRateScheduler setting learning rate to 0.00038897685648686274.\n",
            "Epoch 32/200\n"
          ]
        },
        {
          "output_type": "stream",
          "name": "stderr",
          "text": [
            "WARNING:tensorflow:Early stopping conditioned on metric `val_mean_absolute_error` which is not available. Available metrics are: loss,mae,val_loss,val_mae,lr\n"
          ]
        },
        {
          "output_type": "stream",
          "name": "stdout",
          "text": [
            "1/1 - 0s - loss: 0.0139 - mae: 0.0877 - val_loss: 0.0181 - val_mae: 0.0975 - lr: 3.8898e-04 - 404ms/epoch - 404ms/step\n",
            "\n",
            "Epoch 33: LearningRateScheduler setting learning rate to 0.00037730755079225687.\n",
            "Epoch 33/200\n"
          ]
        },
        {
          "output_type": "stream",
          "name": "stderr",
          "text": [
            "WARNING:tensorflow:Early stopping conditioned on metric `val_mean_absolute_error` which is not available. Available metrics are: loss,mae,val_loss,val_mae,lr\n"
          ]
        },
        {
          "output_type": "stream",
          "name": "stdout",
          "text": [
            "1/1 - 0s - loss: 0.0139 - mae: 0.0876 - val_loss: 0.0181 - val_mae: 0.0975 - lr: 3.7731e-04 - 447ms/epoch - 447ms/step\n",
            "\n",
            "Epoch 34: LearningRateScheduler setting learning rate to 0.00036598832426848916.\n",
            "Epoch 34/200\n"
          ]
        },
        {
          "output_type": "stream",
          "name": "stderr",
          "text": [
            "WARNING:tensorflow:Early stopping conditioned on metric `val_mean_absolute_error` which is not available. Available metrics are: loss,mae,val_loss,val_mae,lr\n"
          ]
        },
        {
          "output_type": "stream",
          "name": "stdout",
          "text": [
            "1/1 - 0s - loss: 0.0137 - mae: 0.0871 - val_loss: 0.0181 - val_mae: 0.0975 - lr: 3.6599e-04 - 421ms/epoch - 421ms/step\n",
            "\n",
            "Epoch 35: LearningRateScheduler setting learning rate to 0.00035500867454043444.\n",
            "Epoch 35/200\n"
          ]
        },
        {
          "output_type": "stream",
          "name": "stderr",
          "text": [
            "WARNING:tensorflow:Early stopping conditioned on metric `val_mean_absolute_error` which is not available. Available metrics are: loss,mae,val_loss,val_mae,lr\n"
          ]
        },
        {
          "output_type": "stream",
          "name": "stdout",
          "text": [
            "1/1 - 0s - loss: 0.0139 - mae: 0.0875 - val_loss: 0.0180 - val_mae: 0.0975 - lr: 3.5501e-04 - 437ms/epoch - 437ms/step\n",
            "\n",
            "Epoch 36: LearningRateScheduler setting learning rate to 0.0003443584143042214.\n",
            "Epoch 36/200\n"
          ]
        },
        {
          "output_type": "stream",
          "name": "stderr",
          "text": [
            "WARNING:tensorflow:Early stopping conditioned on metric `val_mean_absolute_error` which is not available. Available metrics are: loss,mae,val_loss,val_mae,lr\n"
          ]
        },
        {
          "output_type": "stream",
          "name": "stdout",
          "text": [
            "1/1 - 0s - loss: 0.0136 - mae: 0.0864 - val_loss: 0.0180 - val_mae: 0.0973 - lr: 3.4436e-04 - 427ms/epoch - 427ms/step\n",
            "\n",
            "Epoch 37: LearningRateScheduler setting learning rate to 0.00033402766187509475.\n",
            "Epoch 37/200\n"
          ]
        },
        {
          "output_type": "stream",
          "name": "stderr",
          "text": [
            "WARNING:tensorflow:Early stopping conditioned on metric `val_mean_absolute_error` which is not available. Available metrics are: loss,mae,val_loss,val_mae,lr\n"
          ]
        },
        {
          "output_type": "stream",
          "name": "stdout",
          "text": [
            "1/1 - 0s - loss: 0.0136 - mae: 0.0866 - val_loss: 0.0179 - val_mae: 0.0972 - lr: 3.3403e-04 - 395ms/epoch - 395ms/step\n",
            "\n",
            "Epoch 38: LearningRateScheduler setting learning rate to 0.0003240068320188419.\n",
            "Epoch 38/200\n"
          ]
        },
        {
          "output_type": "stream",
          "name": "stderr",
          "text": [
            "WARNING:tensorflow:Early stopping conditioned on metric `val_mean_absolute_error` which is not available. Available metrics are: loss,mae,val_loss,val_mae,lr\n"
          ]
        },
        {
          "output_type": "stream",
          "name": "stdout",
          "text": [
            "1/1 - 0s - loss: 0.0136 - mae: 0.0866 - val_loss: 0.0178 - val_mae: 0.0969 - lr: 3.2401e-04 - 424ms/epoch - 424ms/step\n",
            "\n",
            "Epoch 39: LearningRateScheduler setting learning rate to 0.00031428662705827666.\n",
            "Epoch 39/200\n"
          ]
        },
        {
          "output_type": "stream",
          "name": "stderr",
          "text": [
            "WARNING:tensorflow:Early stopping conditioned on metric `val_mean_absolute_error` which is not available. Available metrics are: loss,mae,val_loss,val_mae,lr\n"
          ]
        },
        {
          "output_type": "stream",
          "name": "stdout",
          "text": [
            "1/1 - 1s - loss: 0.0135 - mae: 0.0861 - val_loss: 0.0177 - val_mae: 0.0966 - lr: 3.1429e-04 - 550ms/epoch - 550ms/step\n",
            "\n",
            "Epoch 40: LearningRateScheduler setting learning rate to 0.0003048580282465283.\n",
            "Epoch 40/200\n"
          ]
        },
        {
          "output_type": "stream",
          "name": "stderr",
          "text": [
            "WARNING:tensorflow:Early stopping conditioned on metric `val_mean_absolute_error` which is not available. Available metrics are: loss,mae,val_loss,val_mae,lr\n"
          ]
        },
        {
          "output_type": "stream",
          "name": "stdout",
          "text": [
            "1/1 - 1s - loss: 0.0131 - mae: 0.0859 - val_loss: 0.0176 - val_mae: 0.0963 - lr: 3.0486e-04 - 663ms/epoch - 663ms/step\n",
            "\n",
            "Epoch 41: LearningRateScheduler setting learning rate to 0.0002957122873991325.\n",
            "Epoch 41/200\n"
          ]
        },
        {
          "output_type": "stream",
          "name": "stderr",
          "text": [
            "WARNING:tensorflow:Early stopping conditioned on metric `val_mean_absolute_error` which is not available. Available metrics are: loss,mae,val_loss,val_mae,lr\n"
          ]
        },
        {
          "output_type": "stream",
          "name": "stdout",
          "text": [
            "1/1 - 1s - loss: 0.0135 - mae: 0.0864 - val_loss: 0.0175 - val_mae: 0.0960 - lr: 2.9571e-04 - 667ms/epoch - 667ms/step\n",
            "\n",
            "Epoch 42: LearningRateScheduler setting learning rate to 0.00028684091877715853.\n",
            "Epoch 42/200\n"
          ]
        },
        {
          "output_type": "stream",
          "name": "stderr",
          "text": [
            "WARNING:tensorflow:Early stopping conditioned on metric `val_mean_absolute_error` which is not available. Available metrics are: loss,mae,val_loss,val_mae,lr\n"
          ]
        },
        {
          "output_type": "stream",
          "name": "stdout",
          "text": [
            "1/1 - 1s - loss: 0.0132 - mae: 0.0856 - val_loss: 0.0173 - val_mae: 0.0956 - lr: 2.8684e-04 - 656ms/epoch - 656ms/step\n",
            "\n",
            "Epoch 43: LearningRateScheduler setting learning rate to 0.00027823569121384375.\n",
            "Epoch 43/200\n"
          ]
        },
        {
          "output_type": "stream",
          "name": "stderr",
          "text": [
            "WARNING:tensorflow:Early stopping conditioned on metric `val_mean_absolute_error` which is not available. Available metrics are: loss,mae,val_loss,val_mae,lr\n"
          ]
        },
        {
          "output_type": "stream",
          "name": "stdout",
          "text": [
            "1/1 - 1s - loss: 0.0133 - mae: 0.0859 - val_loss: 0.0172 - val_mae: 0.0953 - lr: 2.7824e-04 - 582ms/epoch - 582ms/step\n",
            "\n",
            "Epoch 44: LearningRateScheduler setting learning rate to 0.0002698886204774284.\n",
            "Epoch 44/200\n"
          ]
        },
        {
          "output_type": "stream",
          "name": "stderr",
          "text": [
            "WARNING:tensorflow:Early stopping conditioned on metric `val_mean_absolute_error` which is not available. Available metrics are: loss,mae,val_loss,val_mae,lr\n"
          ]
        },
        {
          "output_type": "stream",
          "name": "stdout",
          "text": [
            "1/1 - 0s - loss: 0.0133 - mae: 0.0859 - val_loss: 0.0171 - val_mae: 0.0949 - lr: 2.6989e-04 - 439ms/epoch - 439ms/step\n",
            "\n",
            "Epoch 45: LearningRateScheduler setting learning rate to 0.00026179196186310554.\n",
            "Epoch 45/200\n"
          ]
        },
        {
          "output_type": "stream",
          "name": "stderr",
          "text": [
            "WARNING:tensorflow:Early stopping conditioned on metric `val_mean_absolute_error` which is not available. Available metrics are: loss,mae,val_loss,val_mae,lr\n"
          ]
        },
        {
          "output_type": "stream",
          "name": "stdout",
          "text": [
            "1/1 - 0s - loss: 0.0133 - mae: 0.0860 - val_loss: 0.0169 - val_mae: 0.0945 - lr: 2.6179e-04 - 451ms/epoch - 451ms/step\n",
            "\n",
            "Epoch 46: LearningRateScheduler setting learning rate to 0.0002539382030072124.\n",
            "Epoch 46/200\n"
          ]
        },
        {
          "output_type": "stream",
          "name": "stderr",
          "text": [
            "WARNING:tensorflow:Early stopping conditioned on metric `val_mean_absolute_error` which is not available. Available metrics are: loss,mae,val_loss,val_mae,lr\n"
          ]
        },
        {
          "output_type": "stream",
          "name": "stdout",
          "text": [
            "1/1 - 0s - loss: 0.0134 - mae: 0.0865 - val_loss: 0.0168 - val_mae: 0.0942 - lr: 2.5394e-04 - 396ms/epoch - 396ms/step\n",
            "\n",
            "Epoch 47: LearningRateScheduler setting learning rate to 0.000246320056916996.\n",
            "Epoch 47/200\n"
          ]
        },
        {
          "output_type": "stream",
          "name": "stderr",
          "text": [
            "WARNING:tensorflow:Early stopping conditioned on metric `val_mean_absolute_error` which is not available. Available metrics are: loss,mae,val_loss,val_mae,lr\n"
          ]
        },
        {
          "output_type": "stream",
          "name": "stdout",
          "text": [
            "1/1 - 0s - loss: 0.0132 - mae: 0.0858 - val_loss: 0.0167 - val_mae: 0.0938 - lr: 2.4632e-04 - 456ms/epoch - 456ms/step\n",
            "\n",
            "Epoch 48: LearningRateScheduler setting learning rate to 0.00023893045520948612.\n",
            "Epoch 48/200\n"
          ]
        },
        {
          "output_type": "stream",
          "name": "stderr",
          "text": [
            "WARNING:tensorflow:Early stopping conditioned on metric `val_mean_absolute_error` which is not available. Available metrics are: loss,mae,val_loss,val_mae,lr\n"
          ]
        },
        {
          "output_type": "stream",
          "name": "stdout",
          "text": [
            "1/1 - 0s - loss: 0.0134 - mae: 0.0864 - val_loss: 0.0165 - val_mae: 0.0934 - lr: 2.3893e-04 - 448ms/epoch - 448ms/step\n",
            "\n",
            "Epoch 49: LearningRateScheduler setting learning rate to 0.00023176254155320153.\n",
            "Epoch 49/200\n"
          ]
        },
        {
          "output_type": "stream",
          "name": "stderr",
          "text": [
            "WARNING:tensorflow:Early stopping conditioned on metric `val_mean_absolute_error` which is not available. Available metrics are: loss,mae,val_loss,val_mae,lr\n"
          ]
        },
        {
          "output_type": "stream",
          "name": "stdout",
          "text": [
            "1/1 - 0s - loss: 0.0132 - mae: 0.0860 - val_loss: 0.0164 - val_mae: 0.0931 - lr: 2.3176e-04 - 422ms/epoch - 422ms/step\n",
            "\n",
            "Epoch 50: LearningRateScheduler setting learning rate to 0.00022480966530660546.\n",
            "Epoch 50/200\n"
          ]
        },
        {
          "output_type": "stream",
          "name": "stderr",
          "text": [
            "WARNING:tensorflow:Early stopping conditioned on metric `val_mean_absolute_error` which is not available. Available metrics are: loss,mae,val_loss,val_mae,lr\n"
          ]
        },
        {
          "output_type": "stream",
          "name": "stdout",
          "text": [
            "1/1 - 0s - loss: 0.0134 - mae: 0.0863 - val_loss: 0.0163 - val_mae: 0.0928 - lr: 2.2481e-04 - 416ms/epoch - 416ms/step\n",
            "\n",
            "Epoch 51: LearningRateScheduler setting learning rate to 0.0002180653753474073.\n",
            "Epoch 51/200\n"
          ]
        },
        {
          "output_type": "stream",
          "name": "stderr",
          "text": [
            "WARNING:tensorflow:Early stopping conditioned on metric `val_mean_absolute_error` which is not available. Available metrics are: loss,mae,val_loss,val_mae,lr\n"
          ]
        },
        {
          "output_type": "stream",
          "name": "stdout",
          "text": [
            "1/1 - 0s - loss: 0.0131 - mae: 0.0857 - val_loss: 0.0162 - val_mae: 0.0925 - lr: 2.1807e-04 - 389ms/epoch - 389ms/step\n",
            "\n",
            "Epoch 52: LearningRateScheduler setting learning rate to 0.00021152341408698508.\n",
            "Epoch 52/200\n"
          ]
        },
        {
          "output_type": "stream",
          "name": "stderr",
          "text": [
            "WARNING:tensorflow:Early stopping conditioned on metric `val_mean_absolute_error` which is not available. Available metrics are: loss,mae,val_loss,val_mae,lr\n"
          ]
        },
        {
          "output_type": "stream",
          "name": "stdout",
          "text": [
            "1/1 - 0s - loss: 0.0130 - mae: 0.0853 - val_loss: 0.0162 - val_mae: 0.0923 - lr: 2.1152e-04 - 426ms/epoch - 426ms/step\n",
            "\n",
            "Epoch 53: LearningRateScheduler setting learning rate to 0.0002051777116643755.\n",
            "Epoch 53/200\n"
          ]
        },
        {
          "output_type": "stream",
          "name": "stderr",
          "text": [
            "WARNING:tensorflow:Early stopping conditioned on metric `val_mean_absolute_error` which is not available. Available metrics are: loss,mae,val_loss,val_mae,lr\n"
          ]
        },
        {
          "output_type": "stream",
          "name": "stdout",
          "text": [
            "1/1 - 0s - loss: 0.0130 - mae: 0.0852 - val_loss: 0.0161 - val_mae: 0.0921 - lr: 2.0518e-04 - 405ms/epoch - 405ms/step\n",
            "\n",
            "Epoch 54: LearningRateScheduler setting learning rate to 0.00019902238031444425.\n",
            "Epoch 54/200\n"
          ]
        },
        {
          "output_type": "stream",
          "name": "stderr",
          "text": [
            "WARNING:tensorflow:Early stopping conditioned on metric `val_mean_absolute_error` which is not available. Available metrics are: loss,mae,val_loss,val_mae,lr\n"
          ]
        },
        {
          "output_type": "stream",
          "name": "stdout",
          "text": [
            "1/1 - 0s - loss: 0.0131 - mae: 0.0851 - val_loss: 0.0160 - val_mae: 0.0919 - lr: 1.9902e-04 - 413ms/epoch - 413ms/step\n",
            "\n",
            "Epoch 55: LearningRateScheduler setting learning rate to 0.0001930517089050109.\n",
            "Epoch 55/200\n"
          ]
        },
        {
          "output_type": "stream",
          "name": "stderr",
          "text": [
            "WARNING:tensorflow:Early stopping conditioned on metric `val_mean_absolute_error` which is not available. Available metrics are: loss,mae,val_loss,val_mae,lr\n"
          ]
        },
        {
          "output_type": "stream",
          "name": "stdout",
          "text": [
            "1/1 - 0s - loss: 0.0132 - mae: 0.0862 - val_loss: 0.0160 - val_mae: 0.0917 - lr: 1.9305e-04 - 454ms/epoch - 454ms/step\n",
            "\n",
            "Epoch 56: LearningRateScheduler setting learning rate to 0.00018726015763786058.\n",
            "Epoch 56/200\n"
          ]
        },
        {
          "output_type": "stream",
          "name": "stderr",
          "text": [
            "WARNING:tensorflow:Early stopping conditioned on metric `val_mean_absolute_error` which is not available. Available metrics are: loss,mae,val_loss,val_mae,lr\n"
          ]
        },
        {
          "output_type": "stream",
          "name": "stdout",
          "text": [
            "1/1 - 0s - loss: 0.0129 - mae: 0.0849 - val_loss: 0.0159 - val_mae: 0.0915 - lr: 1.8726e-04 - 406ms/epoch - 406ms/step\n",
            "\n",
            "Epoch 57: LearningRateScheduler setting learning rate to 0.00018164235290872477.\n",
            "Epoch 57/200\n"
          ]
        },
        {
          "output_type": "stream",
          "name": "stderr",
          "text": [
            "WARNING:tensorflow:Early stopping conditioned on metric `val_mean_absolute_error` which is not available. Available metrics are: loss,mae,val_loss,val_mae,lr\n"
          ]
        },
        {
          "output_type": "stream",
          "name": "stdout",
          "text": [
            "1/1 - 0s - loss: 0.0129 - mae: 0.0847 - val_loss: 0.0158 - val_mae: 0.0913 - lr: 1.8164e-04 - 463ms/epoch - 463ms/step\n",
            "\n",
            "Epoch 58: LearningRateScheduler setting learning rate to 0.000176193082321463.\n",
            "Epoch 58/200\n"
          ]
        },
        {
          "output_type": "stream",
          "name": "stderr",
          "text": [
            "WARNING:tensorflow:Early stopping conditioned on metric `val_mean_absolute_error` which is not available. Available metrics are: loss,mae,val_loss,val_mae,lr\n"
          ]
        },
        {
          "output_type": "stream",
          "name": "stdout",
          "text": [
            "1/1 - 0s - loss: 0.0128 - mae: 0.0849 - val_loss: 0.0158 - val_mae: 0.0912 - lr: 1.7619e-04 - 388ms/epoch - 388ms/step\n",
            "\n",
            "Epoch 59: LearningRateScheduler setting learning rate to 0.0001709072898518191.\n",
            "Epoch 59/200\n"
          ]
        },
        {
          "output_type": "stream",
          "name": "stderr",
          "text": [
            "WARNING:tensorflow:Early stopping conditioned on metric `val_mean_absolute_error` which is not available. Available metrics are: loss,mae,val_loss,val_mae,lr\n"
          ]
        },
        {
          "output_type": "stream",
          "name": "stdout",
          "text": [
            "1/1 - 0s - loss: 0.0127 - mae: 0.0843 - val_loss: 0.0157 - val_mae: 0.0910 - lr: 1.7091e-04 - 440ms/epoch - 440ms/step\n",
            "\n",
            "Epoch 60: LearningRateScheduler setting learning rate to 0.00016578007115626453.\n",
            "Epoch 60/200\n"
          ]
        },
        {
          "output_type": "stream",
          "name": "stderr",
          "text": [
            "WARNING:tensorflow:Early stopping conditioned on metric `val_mean_absolute_error` which is not available. Available metrics are: loss,mae,val_loss,val_mae,lr\n"
          ]
        },
        {
          "output_type": "stream",
          "name": "stdout",
          "text": [
            "1/1 - 0s - loss: 0.0125 - mae: 0.0835 - val_loss: 0.0157 - val_mae: 0.0909 - lr: 1.6578e-04 - 435ms/epoch - 435ms/step\n",
            "\n",
            "Epoch 61: LearningRateScheduler setting learning rate to 0.0001608066690215766.\n",
            "Epoch 61/200\n"
          ]
        },
        {
          "output_type": "stream",
          "name": "stderr",
          "text": [
            "WARNING:tensorflow:Early stopping conditioned on metric `val_mean_absolute_error` which is not available. Available metrics are: loss,mae,val_loss,val_mae,lr\n"
          ]
        },
        {
          "output_type": "stream",
          "name": "stdout",
          "text": [
            "1/1 - 0s - loss: 0.0129 - mae: 0.0848 - val_loss: 0.0156 - val_mae: 0.0907 - lr: 1.6081e-04 - 435ms/epoch - 435ms/step\n",
            "\n",
            "Epoch 62: LearningRateScheduler setting learning rate to 0.0001559824689509293.\n",
            "Epoch 62/200\n"
          ]
        },
        {
          "output_type": "stream",
          "name": "stderr",
          "text": [
            "WARNING:tensorflow:Early stopping conditioned on metric `val_mean_absolute_error` which is not available. Available metrics are: loss,mae,val_loss,val_mae,lr\n"
          ]
        },
        {
          "output_type": "stream",
          "name": "stdout",
          "text": [
            "1/1 - 0s - loss: 0.0129 - mae: 0.0849 - val_loss: 0.0156 - val_mae: 0.0905 - lr: 1.5598e-04 - 400ms/epoch - 400ms/step\n",
            "\n",
            "Epoch 63: LearningRateScheduler setting learning rate to 0.0001513029948824014.\n",
            "Epoch 63/200\n"
          ]
        },
        {
          "output_type": "stream",
          "name": "stderr",
          "text": [
            "WARNING:tensorflow:Early stopping conditioned on metric `val_mean_absolute_error` which is not available. Available metrics are: loss,mae,val_loss,val_mae,lr\n"
          ]
        },
        {
          "output_type": "stream",
          "name": "stdout",
          "text": [
            "1/1 - 0s - loss: 0.0128 - mae: 0.0843 - val_loss: 0.0155 - val_mae: 0.0904 - lr: 1.5130e-04 - 434ms/epoch - 434ms/step\n",
            "\n",
            "Epoch 64: LearningRateScheduler setting learning rate to 0.00014676390503592937.\n",
            "Epoch 64/200\n"
          ]
        },
        {
          "output_type": "stream",
          "name": "stderr",
          "text": [
            "WARNING:tensorflow:Early stopping conditioned on metric `val_mean_absolute_error` which is not available. Available metrics are: loss,mae,val_loss,val_mae,lr\n"
          ]
        },
        {
          "output_type": "stream",
          "name": "stdout",
          "text": [
            "1/1 - 0s - loss: 0.0128 - mae: 0.0840 - val_loss: 0.0155 - val_mae: 0.0902 - lr: 1.4676e-04 - 411ms/epoch - 411ms/step\n",
            "\n",
            "Epoch 65: LearningRateScheduler setting learning rate to 0.0001423609878848515.\n",
            "Epoch 65/200\n"
          ]
        },
        {
          "output_type": "stream",
          "name": "stderr",
          "text": [
            "WARNING:tensorflow:Early stopping conditioned on metric `val_mean_absolute_error` which is not available. Available metrics are: loss,mae,val_loss,val_mae,lr\n"
          ]
        },
        {
          "output_type": "stream",
          "name": "stdout",
          "text": [
            "1/1 - 0s - loss: 0.0125 - mae: 0.0835 - val_loss: 0.0154 - val_mae: 0.0900 - lr: 1.4236e-04 - 391ms/epoch - 391ms/step\n",
            "\n",
            "Epoch 66: LearningRateScheduler setting learning rate to 0.00013809015824830593.\n",
            "Epoch 66/200\n"
          ]
        },
        {
          "output_type": "stream",
          "name": "stderr",
          "text": [
            "WARNING:tensorflow:Early stopping conditioned on metric `val_mean_absolute_error` which is not available. Available metrics are: loss,mae,val_loss,val_mae,lr\n"
          ]
        },
        {
          "output_type": "stream",
          "name": "stdout",
          "text": [
            "1/1 - 0s - loss: 0.0127 - mae: 0.0841 - val_loss: 0.0153 - val_mae: 0.0898 - lr: 1.3809e-04 - 467ms/epoch - 467ms/step\n",
            "\n",
            "Epoch 67: LearningRateScheduler setting learning rate to 0.00013394745350085675.\n",
            "Epoch 67/200\n"
          ]
        },
        {
          "output_type": "stream",
          "name": "stderr",
          "text": [
            "WARNING:tensorflow:Early stopping conditioned on metric `val_mean_absolute_error` which is not available. Available metrics are: loss,mae,val_loss,val_mae,lr\n"
          ]
        },
        {
          "output_type": "stream",
          "name": "stdout",
          "text": [
            "1/1 - 1s - loss: 0.0125 - mae: 0.0833 - val_loss: 0.0153 - val_mae: 0.0897 - lr: 1.3395e-04 - 654ms/epoch - 654ms/step\n",
            "\n",
            "Epoch 68: LearningRateScheduler setting learning rate to 0.00012992902989583105.\n",
            "Epoch 68/200\n"
          ]
        },
        {
          "output_type": "stream",
          "name": "stderr",
          "text": [
            "WARNING:tensorflow:Early stopping conditioned on metric `val_mean_absolute_error` which is not available. Available metrics are: loss,mae,val_loss,val_mae,lr\n"
          ]
        },
        {
          "output_type": "stream",
          "name": "stdout",
          "text": [
            "1/1 - 1s - loss: 0.0129 - mae: 0.0847 - val_loss: 0.0153 - val_mae: 0.0895 - lr: 1.2993e-04 - 663ms/epoch - 663ms/step\n",
            "\n",
            "Epoch 69: LearningRateScheduler setting learning rate to 0.00012603115899895612.\n",
            "Epoch 69/200\n"
          ]
        },
        {
          "output_type": "stream",
          "name": "stderr",
          "text": [
            "WARNING:tensorflow:Early stopping conditioned on metric `val_mean_absolute_error` which is not available. Available metrics are: loss,mae,val_loss,val_mae,lr\n"
          ]
        },
        {
          "output_type": "stream",
          "name": "stdout",
          "text": [
            "1/1 - 1s - loss: 0.0126 - mae: 0.0839 - val_loss: 0.0152 - val_mae: 0.0894 - lr: 1.2603e-04 - 636ms/epoch - 636ms/step\n",
            "\n",
            "Epoch 70: LearningRateScheduler setting learning rate to 0.00012225022422898742.\n",
            "Epoch 70/200\n"
          ]
        },
        {
          "output_type": "stream",
          "name": "stderr",
          "text": [
            "WARNING:tensorflow:Early stopping conditioned on metric `val_mean_absolute_error` which is not available. Available metrics are: loss,mae,val_loss,val_mae,lr\n"
          ]
        },
        {
          "output_type": "stream",
          "name": "stdout",
          "text": [
            "1/1 - 1s - loss: 0.0128 - mae: 0.0842 - val_loss: 0.0152 - val_mae: 0.0893 - lr: 1.2225e-04 - 657ms/epoch - 657ms/step\n",
            "\n",
            "Epoch 71: LearningRateScheduler setting learning rate to 0.0001185827175021178.\n",
            "Epoch 71/200\n"
          ]
        },
        {
          "output_type": "stream",
          "name": "stderr",
          "text": [
            "WARNING:tensorflow:Early stopping conditioned on metric `val_mean_absolute_error` which is not available. Available metrics are: loss,mae,val_loss,val_mae,lr\n"
          ]
        },
        {
          "output_type": "stream",
          "name": "stdout",
          "text": [
            "1/1 - 0s - loss: 0.0126 - mae: 0.0835 - val_loss: 0.0151 - val_mae: 0.0891 - lr: 1.1858e-04 - 390ms/epoch - 390ms/step\n",
            "\n",
            "Epoch 72: LearningRateScheduler setting learning rate to 0.00011502523597705427.\n",
            "Epoch 72/200\n"
          ]
        },
        {
          "output_type": "stream",
          "name": "stderr",
          "text": [
            "WARNING:tensorflow:Early stopping conditioned on metric `val_mean_absolute_error` which is not available. Available metrics are: loss,mae,val_loss,val_mae,lr\n"
          ]
        },
        {
          "output_type": "stream",
          "name": "stdout",
          "text": [
            "1/1 - 0s - loss: 0.0126 - mae: 0.0840 - val_loss: 0.0150 - val_mae: 0.0889 - lr: 1.1503e-04 - 449ms/epoch - 449ms/step\n",
            "\n",
            "Epoch 73: LearningRateScheduler setting learning rate to 0.00011157447889774264.\n",
            "Epoch 73/200\n"
          ]
        },
        {
          "output_type": "stream",
          "name": "stderr",
          "text": [
            "WARNING:tensorflow:Early stopping conditioned on metric `val_mean_absolute_error` which is not available. Available metrics are: loss,mae,val_loss,val_mae,lr\n"
          ]
        },
        {
          "output_type": "stream",
          "name": "stdout",
          "text": [
            "1/1 - 0s - loss: 0.0128 - mae: 0.0840 - val_loss: 0.0150 - val_mae: 0.0888 - lr: 1.1157e-04 - 441ms/epoch - 441ms/step\n",
            "\n",
            "Epoch 74: LearningRateScheduler setting learning rate to 0.00010822724453081035.\n",
            "Epoch 74/200\n"
          ]
        },
        {
          "output_type": "stream",
          "name": "stderr",
          "text": [
            "WARNING:tensorflow:Early stopping conditioned on metric `val_mean_absolute_error` which is not available. Available metrics are: loss,mae,val_loss,val_mae,lr\n"
          ]
        },
        {
          "output_type": "stream",
          "name": "stdout",
          "text": [
            "1/1 - 0s - loss: 0.0128 - mae: 0.0841 - val_loss: 0.0149 - val_mae: 0.0886 - lr: 1.0823e-04 - 410ms/epoch - 410ms/step\n",
            "\n",
            "Epoch 75: LearningRateScheduler setting learning rate to 0.00010498042719488605.\n",
            "Epoch 75/200\n"
          ]
        },
        {
          "output_type": "stream",
          "name": "stderr",
          "text": [
            "WARNING:tensorflow:Early stopping conditioned on metric `val_mean_absolute_error` which is not available. Available metrics are: loss,mae,val_loss,val_mae,lr\n"
          ]
        },
        {
          "output_type": "stream",
          "name": "stdout",
          "text": [
            "1/1 - 0s - loss: 0.0127 - mae: 0.0842 - val_loss: 0.0149 - val_mae: 0.0885 - lr: 1.0498e-04 - 430ms/epoch - 430ms/step\n",
            "\n",
            "Epoch 76: LearningRateScheduler setting learning rate to 0.00010183101437903946.\n",
            "Epoch 76/200\n"
          ]
        },
        {
          "output_type": "stream",
          "name": "stderr",
          "text": [
            "WARNING:tensorflow:Early stopping conditioned on metric `val_mean_absolute_error` which is not available. Available metrics are: loss,mae,val_loss,val_mae,lr\n"
          ]
        },
        {
          "output_type": "stream",
          "name": "stdout",
          "text": [
            "1/1 - 0s - loss: 0.0126 - mae: 0.0837 - val_loss: 0.0148 - val_mae: 0.0883 - lr: 1.0183e-04 - 422ms/epoch - 422ms/step\n",
            "\n",
            "Epoch 77: LearningRateScheduler setting learning rate to 9.877608394766827e-05.\n",
            "Epoch 77/200\n"
          ]
        },
        {
          "output_type": "stream",
          "name": "stderr",
          "text": [
            "WARNING:tensorflow:Early stopping conditioned on metric `val_mean_absolute_error` which is not available. Available metrics are: loss,mae,val_loss,val_mae,lr\n"
          ]
        },
        {
          "output_type": "stream",
          "name": "stdout",
          "text": [
            "1/1 - 0s - loss: 0.0129 - mae: 0.0843 - val_loss: 0.0148 - val_mae: 0.0881 - lr: 9.8776e-05 - 422ms/epoch - 422ms/step\n",
            "\n",
            "Epoch 78: LearningRateScheduler setting learning rate to 9.581280142923822e-05.\n",
            "Epoch 78/200\n"
          ]
        },
        {
          "output_type": "stream",
          "name": "stderr",
          "text": [
            "WARNING:tensorflow:Early stopping conditioned on metric `val_mean_absolute_error` which is not available. Available metrics are: loss,mae,val_loss,val_mae,lr\n"
          ]
        },
        {
          "output_type": "stream",
          "name": "stdout",
          "text": [
            "1/1 - 0s - loss: 0.0125 - mae: 0.0835 - val_loss: 0.0147 - val_mae: 0.0880 - lr: 9.5813e-05 - 395ms/epoch - 395ms/step\n",
            "\n",
            "Epoch 79: LearningRateScheduler setting learning rate to 9.293841738636107e-05.\n",
            "Epoch 79/200\n"
          ]
        },
        {
          "output_type": "stream",
          "name": "stderr",
          "text": [
            "WARNING:tensorflow:Early stopping conditioned on metric `val_mean_absolute_error` which is not available. Available metrics are: loss,mae,val_loss,val_mae,lr\n"
          ]
        },
        {
          "output_type": "stream",
          "name": "stdout",
          "text": [
            "1/1 - 0s - loss: 0.0126 - mae: 0.0836 - val_loss: 0.0147 - val_mae: 0.0878 - lr: 9.2938e-05 - 424ms/epoch - 424ms/step\n",
            "\n",
            "Epoch 80: LearningRateScheduler setting learning rate to 9.015026486477024e-05.\n",
            "Epoch 80/200\n"
          ]
        },
        {
          "output_type": "stream",
          "name": "stderr",
          "text": [
            "WARNING:tensorflow:Early stopping conditioned on metric `val_mean_absolute_error` which is not available. Available metrics are: loss,mae,val_loss,val_mae,lr\n"
          ]
        },
        {
          "output_type": "stream",
          "name": "stdout",
          "text": [
            "1/1 - 0s - loss: 0.0122 - mae: 0.0829 - val_loss: 0.0146 - val_mae: 0.0876 - lr: 9.0150e-05 - 405ms/epoch - 405ms/step\n",
            "\n",
            "Epoch 81: LearningRateScheduler setting learning rate to 8.744575691882712e-05.\n",
            "Epoch 81/200\n"
          ]
        },
        {
          "output_type": "stream",
          "name": "stderr",
          "text": [
            "WARNING:tensorflow:Early stopping conditioned on metric `val_mean_absolute_error` which is not available. Available metrics are: loss,mae,val_loss,val_mae,lr\n"
          ]
        },
        {
          "output_type": "stream",
          "name": "stdout",
          "text": [
            "1/1 - 0s - loss: 0.0122 - mae: 0.0826 - val_loss: 0.0146 - val_mae: 0.0875 - lr: 8.7446e-05 - 395ms/epoch - 395ms/step\n",
            "\n",
            "Epoch 82: LearningRateScheduler setting learning rate to 8.48223842112623e-05.\n",
            "Epoch 82/200\n"
          ]
        },
        {
          "output_type": "stream",
          "name": "stderr",
          "text": [
            "WARNING:tensorflow:Early stopping conditioned on metric `val_mean_absolute_error` which is not available. Available metrics are: loss,mae,val_loss,val_mae,lr\n"
          ]
        },
        {
          "output_type": "stream",
          "name": "stdout",
          "text": [
            "1/1 - 0s - loss: 0.0127 - mae: 0.0841 - val_loss: 0.0145 - val_mae: 0.0873 - lr: 8.4822e-05 - 468ms/epoch - 468ms/step\n",
            "\n",
            "Epoch 83: LearningRateScheduler setting learning rate to 8.227771268492445e-05.\n",
            "Epoch 83/200\n"
          ]
        },
        {
          "output_type": "stream",
          "name": "stderr",
          "text": [
            "WARNING:tensorflow:Early stopping conditioned on metric `val_mean_absolute_error` which is not available. Available metrics are: loss,mae,val_loss,val_mae,lr\n"
          ]
        },
        {
          "output_type": "stream",
          "name": "stdout",
          "text": [
            "1/1 - 0s - loss: 0.0126 - mae: 0.0838 - val_loss: 0.0145 - val_mae: 0.0871 - lr: 8.2278e-05 - 435ms/epoch - 435ms/step\n",
            "\n",
            "Epoch 84: LearningRateScheduler setting learning rate to 7.98093813043767e-05.\n",
            "Epoch 84/200\n"
          ]
        },
        {
          "output_type": "stream",
          "name": "stderr",
          "text": [
            "WARNING:tensorflow:Early stopping conditioned on metric `val_mean_absolute_error` which is not available. Available metrics are: loss,mae,val_loss,val_mae,lr\n"
          ]
        },
        {
          "output_type": "stream",
          "name": "stdout",
          "text": [
            "1/1 - 0s - loss: 0.0124 - mae: 0.0833 - val_loss: 0.0144 - val_mae: 0.0870 - lr: 7.9809e-05 - 417ms/epoch - 417ms/step\n",
            "\n",
            "Epoch 85: LearningRateScheduler setting learning rate to 7.741509986524539e-05.\n",
            "Epoch 85/200\n"
          ]
        },
        {
          "output_type": "stream",
          "name": "stderr",
          "text": [
            "WARNING:tensorflow:Early stopping conditioned on metric `val_mean_absolute_error` which is not available. Available metrics are: loss,mae,val_loss,val_mae,lr\n"
          ]
        },
        {
          "output_type": "stream",
          "name": "stdout",
          "text": [
            "1/1 - 0s - loss: 0.0125 - mae: 0.0835 - val_loss: 0.0144 - val_mae: 0.0868 - lr: 7.7415e-05 - 432ms/epoch - 432ms/step\n",
            "\n",
            "Epoch 86: LearningRateScheduler setting learning rate to 7.509264686928803e-05.\n",
            "Epoch 86/200\n"
          ]
        },
        {
          "output_type": "stream",
          "name": "stderr",
          "text": [
            "WARNING:tensorflow:Early stopping conditioned on metric `val_mean_absolute_error` which is not available. Available metrics are: loss,mae,val_loss,val_mae,lr\n"
          ]
        },
        {
          "output_type": "stream",
          "name": "stdout",
          "text": [
            "1/1 - 0s - loss: 0.0126 - mae: 0.0840 - val_loss: 0.0143 - val_mae: 0.0867 - lr: 7.5093e-05 - 414ms/epoch - 414ms/step\n",
            "\n",
            "Epoch 87: LearningRateScheduler setting learning rate to 7.283986746320939e-05.\n",
            "Epoch 87/200\n"
          ]
        },
        {
          "output_type": "stream",
          "name": "stderr",
          "text": [
            "WARNING:tensorflow:Early stopping conditioned on metric `val_mean_absolute_error` which is not available. Available metrics are: loss,mae,val_loss,val_mae,lr\n"
          ]
        },
        {
          "output_type": "stream",
          "name": "stdout",
          "text": [
            "1/1 - 0s - loss: 0.0127 - mae: 0.0838 - val_loss: 0.0143 - val_mae: 0.0865 - lr: 7.2840e-05 - 390ms/epoch - 390ms/step\n",
            "\n",
            "Epoch 88: LearningRateScheduler setting learning rate to 7.06546714393131e-05.\n",
            "Epoch 88/200\n"
          ]
        },
        {
          "output_type": "stream",
          "name": "stderr",
          "text": [
            "WARNING:tensorflow:Early stopping conditioned on metric `val_mean_absolute_error` which is not available. Available metrics are: loss,mae,val_loss,val_mae,lr\n"
          ]
        },
        {
          "output_type": "stream",
          "name": "stdout",
          "text": [
            "1/1 - 0s - loss: 0.0126 - mae: 0.0836 - val_loss: 0.0142 - val_mae: 0.0864 - lr: 7.0655e-05 - 396ms/epoch - 396ms/step\n",
            "\n",
            "Epoch 89: LearningRateScheduler setting learning rate to 6.853503129613371e-05.\n",
            "Epoch 89/200\n"
          ]
        },
        {
          "output_type": "stream",
          "name": "stderr",
          "text": [
            "WARNING:tensorflow:Early stopping conditioned on metric `val_mean_absolute_error` which is not available. Available metrics are: loss,mae,val_loss,val_mae,lr\n"
          ]
        },
        {
          "output_type": "stream",
          "name": "stdout",
          "text": [
            "1/1 - 0s - loss: 0.0125 - mae: 0.0835 - val_loss: 0.0142 - val_mae: 0.0863 - lr: 6.8535e-05 - 456ms/epoch - 456ms/step\n",
            "\n",
            "Epoch 90: LearningRateScheduler setting learning rate to 6.64789803572497e-05.\n",
            "Epoch 90/200\n"
          ]
        },
        {
          "output_type": "stream",
          "name": "stderr",
          "text": [
            "WARNING:tensorflow:Early stopping conditioned on metric `val_mean_absolute_error` which is not available. Available metrics are: loss,mae,val_loss,val_mae,lr\n"
          ]
        },
        {
          "output_type": "stream",
          "name": "stdout",
          "text": [
            "1/1 - 0s - loss: 0.0123 - mae: 0.0824 - val_loss: 0.0141 - val_mae: 0.0861 - lr: 6.6479e-05 - 386ms/epoch - 386ms/step\n",
            "\n",
            "Epoch 91: LearningRateScheduler setting learning rate to 6.44846109465322e-05.\n",
            "Epoch 91/200\n"
          ]
        },
        {
          "output_type": "stream",
          "name": "stderr",
          "text": [
            "WARNING:tensorflow:Early stopping conditioned on metric `val_mean_absolute_error` which is not available. Available metrics are: loss,mae,val_loss,val_mae,lr\n"
          ]
        },
        {
          "output_type": "stream",
          "name": "stdout",
          "text": [
            "1/1 - 0s - loss: 0.0126 - mae: 0.0838 - val_loss: 0.0141 - val_mae: 0.0860 - lr: 6.4485e-05 - 425ms/epoch - 425ms/step\n",
            "\n",
            "Epoch 92: LearningRateScheduler setting learning rate to 6.255007261813624e-05.\n",
            "Epoch 92/200\n"
          ]
        },
        {
          "output_type": "stream",
          "name": "stderr",
          "text": [
            "WARNING:tensorflow:Early stopping conditioned on metric `val_mean_absolute_error` which is not available. Available metrics are: loss,mae,val_loss,val_mae,lr\n"
          ]
        },
        {
          "output_type": "stream",
          "name": "stdout",
          "text": [
            "1/1 - 0s - loss: 0.0124 - mae: 0.0832 - val_loss: 0.0140 - val_mae: 0.0859 - lr: 6.2550e-05 - 408ms/epoch - 408ms/step\n",
            "\n",
            "Epoch 93: LearningRateScheduler setting learning rate to 6.067357043959214e-05.\n",
            "Epoch 93/200\n"
          ]
        },
        {
          "output_type": "stream",
          "name": "stderr",
          "text": [
            "WARNING:tensorflow:Early stopping conditioned on metric `val_mean_absolute_error` which is not available. Available metrics are: loss,mae,val_loss,val_mae,lr\n"
          ]
        },
        {
          "output_type": "stream",
          "name": "stdout",
          "text": [
            "1/1 - 0s - loss: 0.0125 - mae: 0.0830 - val_loss: 0.0140 - val_mae: 0.0858 - lr: 6.0674e-05 - 399ms/epoch - 399ms/step\n",
            "\n",
            "Epoch 94: LearningRateScheduler setting learning rate to 5.8853363326404384e-05.\n",
            "Epoch 94/200\n"
          ]
        },
        {
          "output_type": "stream",
          "name": "stderr",
          "text": [
            "WARNING:tensorflow:Early stopping conditioned on metric `val_mean_absolute_error` which is not available. Available metrics are: loss,mae,val_loss,val_mae,lr\n"
          ]
        },
        {
          "output_type": "stream",
          "name": "stdout",
          "text": [
            "1/1 - 1s - loss: 0.0125 - mae: 0.0831 - val_loss: 0.0140 - val_mae: 0.0857 - lr: 5.8853e-05 - 567ms/epoch - 567ms/step\n",
            "\n",
            "Epoch 95: LearningRateScheduler setting learning rate to 5.7087762426612245e-05.\n",
            "Epoch 95/200\n"
          ]
        },
        {
          "output_type": "stream",
          "name": "stderr",
          "text": [
            "WARNING:tensorflow:Early stopping conditioned on metric `val_mean_absolute_error` which is not available. Available metrics are: loss,mae,val_loss,val_mae,lr\n"
          ]
        },
        {
          "output_type": "stream",
          "name": "stdout",
          "text": [
            "1/1 - 1s - loss: 0.0126 - mae: 0.0837 - val_loss: 0.0139 - val_mae: 0.0855 - lr: 5.7088e-05 - 631ms/epoch - 631ms/step\n",
            "\n",
            "Epoch 96: LearningRateScheduler setting learning rate to 5.537512955381388e-05.\n",
            "Epoch 96/200\n"
          ]
        },
        {
          "output_type": "stream",
          "name": "stderr",
          "text": [
            "WARNING:tensorflow:Early stopping conditioned on metric `val_mean_absolute_error` which is not available. Available metrics are: loss,mae,val_loss,val_mae,lr\n"
          ]
        },
        {
          "output_type": "stream",
          "name": "stdout",
          "text": [
            "1/1 - 1s - loss: 0.0123 - mae: 0.0829 - val_loss: 0.0139 - val_mae: 0.0854 - lr: 5.5375e-05 - 618ms/epoch - 618ms/step\n",
            "\n",
            "Epoch 97: LearningRateScheduler setting learning rate to 5.371387566719946e-05.\n",
            "Epoch 97/200\n"
          ]
        },
        {
          "output_type": "stream",
          "name": "stderr",
          "text": [
            "WARNING:tensorflow:Early stopping conditioned on metric `val_mean_absolute_error` which is not available. Available metrics are: loss,mae,val_loss,val_mae,lr\n"
          ]
        },
        {
          "output_type": "stream",
          "name": "stdout",
          "text": [
            "1/1 - 1s - loss: 0.0126 - mae: 0.0834 - val_loss: 0.0139 - val_mae: 0.0853 - lr: 5.3714e-05 - 625ms/epoch - 625ms/step\n",
            "\n",
            "Epoch 98: LearningRateScheduler setting learning rate to 5.210245939718348e-05.\n",
            "Epoch 98/200\n"
          ]
        },
        {
          "output_type": "stream",
          "name": "stderr",
          "text": [
            "WARNING:tensorflow:Early stopping conditioned on metric `val_mean_absolute_error` which is not available. Available metrics are: loss,mae,val_loss,val_mae,lr\n"
          ]
        },
        {
          "output_type": "stream",
          "name": "stdout",
          "text": [
            "1/1 - 1s - loss: 0.0124 - mae: 0.0829 - val_loss: 0.0138 - val_mae: 0.0852 - lr: 5.2102e-05 - 614ms/epoch - 614ms/step\n",
            "\n",
            "Epoch 99: LearningRateScheduler setting learning rate to 5.053938561526797e-05.\n",
            "Epoch 99/200\n"
          ]
        },
        {
          "output_type": "stream",
          "name": "stderr",
          "text": [
            "WARNING:tensorflow:Early stopping conditioned on metric `val_mean_absolute_error` which is not available. Available metrics are: loss,mae,val_loss,val_mae,lr\n"
          ]
        },
        {
          "output_type": "stream",
          "name": "stdout",
          "text": [
            "1/1 - 0s - loss: 0.0123 - mae: 0.0827 - val_loss: 0.0138 - val_mae: 0.0851 - lr: 5.0539e-05 - 454ms/epoch - 454ms/step\n",
            "\n",
            "Epoch 100: LearningRateScheduler setting learning rate to 4.9023204046809934e-05.\n",
            "Epoch 100/200\n"
          ]
        },
        {
          "output_type": "stream",
          "name": "stderr",
          "text": [
            "WARNING:tensorflow:Early stopping conditioned on metric `val_mean_absolute_error` which is not available. Available metrics are: loss,mae,val_loss,val_mae,lr\n"
          ]
        },
        {
          "output_type": "stream",
          "name": "stdout",
          "text": [
            "1/1 - 0s - loss: 0.0124 - mae: 0.0833 - val_loss: 0.0137 - val_mae: 0.0850 - lr: 4.9023e-05 - 416ms/epoch - 416ms/step\n",
            "\n",
            "Epoch 101: LearningRateScheduler setting learning rate to 4.755250792540563e-05.\n",
            "Epoch 101/200\n"
          ]
        },
        {
          "output_type": "stream",
          "name": "stderr",
          "text": [
            "WARNING:tensorflow:Early stopping conditioned on metric `val_mean_absolute_error` which is not available. Available metrics are: loss,mae,val_loss,val_mae,lr\n"
          ]
        },
        {
          "output_type": "stream",
          "name": "stdout",
          "text": [
            "1/1 - 0s - loss: 0.0123 - mae: 0.0829 - val_loss: 0.0137 - val_mae: 0.0849 - lr: 4.7553e-05 - 415ms/epoch - 415ms/step\n",
            "\n",
            "Epoch 102: LearningRateScheduler setting learning rate to 4.612593268764346e-05.\n",
            "Epoch 102/200\n"
          ]
        },
        {
          "output_type": "stream",
          "name": "stderr",
          "text": [
            "WARNING:tensorflow:Early stopping conditioned on metric `val_mean_absolute_error` which is not available. Available metrics are: loss,mae,val_loss,val_mae,lr\n"
          ]
        },
        {
          "output_type": "stream",
          "name": "stdout",
          "text": [
            "1/1 - 0s - loss: 0.0125 - mae: 0.0833 - val_loss: 0.0137 - val_mae: 0.0848 - lr: 4.6126e-05 - 399ms/epoch - 399ms/step\n",
            "\n",
            "Epoch 103: LearningRateScheduler setting learning rate to 4.474215470701415e-05.\n",
            "Epoch 103/200\n"
          ]
        },
        {
          "output_type": "stream",
          "name": "stderr",
          "text": [
            "WARNING:tensorflow:Early stopping conditioned on metric `val_mean_absolute_error` which is not available. Available metrics are: loss,mae,val_loss,val_mae,lr\n"
          ]
        },
        {
          "output_type": "stream",
          "name": "stdout",
          "text": [
            "1/1 - 0s - loss: 0.0125 - mae: 0.0837 - val_loss: 0.0136 - val_mae: 0.0846 - lr: 4.4742e-05 - 453ms/epoch - 453ms/step\n",
            "\n",
            "Epoch 104: LearningRateScheduler setting learning rate to 4.339989006580373e-05.\n",
            "Epoch 104/200\n"
          ]
        },
        {
          "output_type": "stream",
          "name": "stderr",
          "text": [
            "WARNING:tensorflow:Early stopping conditioned on metric `val_mean_absolute_error` which is not available. Available metrics are: loss,mae,val_loss,val_mae,lr\n"
          ]
        },
        {
          "output_type": "stream",
          "name": "stdout",
          "text": [
            "1/1 - 0s - loss: 0.0125 - mae: 0.0834 - val_loss: 0.0136 - val_mae: 0.0845 - lr: 4.3400e-05 - 415ms/epoch - 415ms/step\n",
            "\n",
            "Epoch 105: LearningRateScheduler setting learning rate to 4.2097893363829616e-05.\n",
            "Epoch 105/200\n"
          ]
        },
        {
          "output_type": "stream",
          "name": "stderr",
          "text": [
            "WARNING:tensorflow:Early stopping conditioned on metric `val_mean_absolute_error` which is not available. Available metrics are: loss,mae,val_loss,val_mae,lr\n"
          ]
        },
        {
          "output_type": "stream",
          "name": "stdout",
          "text": [
            "1/1 - 0s - loss: 0.0123 - mae: 0.0828 - val_loss: 0.0136 - val_mae: 0.0844 - lr: 4.2098e-05 - 404ms/epoch - 404ms/step\n",
            "\n",
            "Epoch 106: LearningRateScheduler setting learning rate to 4.083495656291473e-05.\n",
            "Epoch 106/200\n"
          ]
        },
        {
          "output_type": "stream",
          "name": "stderr",
          "text": [
            "WARNING:tensorflow:Early stopping conditioned on metric `val_mean_absolute_error` which is not available. Available metrics are: loss,mae,val_loss,val_mae,lr\n"
          ]
        },
        {
          "output_type": "stream",
          "name": "stdout",
          "text": [
            "1/1 - 0s - loss: 0.0124 - mae: 0.0834 - val_loss: 0.0135 - val_mae: 0.0843 - lr: 4.0835e-05 - 473ms/epoch - 473ms/step\n",
            "\n",
            "Epoch 107: LearningRateScheduler setting learning rate to 3.960990786602728e-05.\n",
            "Epoch 107/200\n"
          ]
        },
        {
          "output_type": "stream",
          "name": "stderr",
          "text": [
            "WARNING:tensorflow:Early stopping conditioned on metric `val_mean_absolute_error` which is not available. Available metrics are: loss,mae,val_loss,val_mae,lr\n"
          ]
        },
        {
          "output_type": "stream",
          "name": "stdout",
          "text": [
            "1/1 - 1s - loss: 0.0123 - mae: 0.0832 - val_loss: 0.0135 - val_mae: 0.0842 - lr: 3.9610e-05 - 896ms/epoch - 896ms/step\n",
            "\n",
            "Epoch 108: LearningRateScheduler setting learning rate to 3.842161063004646e-05.\n",
            "Epoch 108/200\n"
          ]
        },
        {
          "output_type": "stream",
          "name": "stderr",
          "text": [
            "WARNING:tensorflow:Early stopping conditioned on metric `val_mean_absolute_error` which is not available. Available metrics are: loss,mae,val_loss,val_mae,lr\n"
          ]
        },
        {
          "output_type": "stream",
          "name": "stdout",
          "text": [
            "1/1 - 0s - loss: 0.0123 - mae: 0.0830 - val_loss: 0.0135 - val_mae: 0.0841 - lr: 3.8422e-05 - 436ms/epoch - 436ms/step\n",
            "\n",
            "Epoch 109: LearningRateScheduler setting learning rate to 3.726896231114507e-05.\n",
            "Epoch 109/200\n"
          ]
        },
        {
          "output_type": "stream",
          "name": "stderr",
          "text": [
            "WARNING:tensorflow:Early stopping conditioned on metric `val_mean_absolute_error` which is not available. Available metrics are: loss,mae,val_loss,val_mae,lr\n"
          ]
        },
        {
          "output_type": "stream",
          "name": "stdout",
          "text": [
            "1/1 - 0s - loss: 0.0124 - mae: 0.0830 - val_loss: 0.0134 - val_mae: 0.0840 - lr: 3.7269e-05 - 401ms/epoch - 401ms/step\n",
            "\n",
            "Epoch 110: LearningRateScheduler setting learning rate to 3.615089344181072e-05.\n",
            "Epoch 110/200\n"
          ]
        },
        {
          "output_type": "stream",
          "name": "stderr",
          "text": [
            "WARNING:tensorflow:Early stopping conditioned on metric `val_mean_absolute_error` which is not available. Available metrics are: loss,mae,val_loss,val_mae,lr\n"
          ]
        },
        {
          "output_type": "stream",
          "name": "stdout",
          "text": [
            "1/1 - 0s - loss: 0.0124 - mae: 0.0830 - val_loss: 0.0134 - val_mae: 0.0839 - lr: 3.6151e-05 - 418ms/epoch - 418ms/step\n",
            "\n",
            "Epoch 111: LearningRateScheduler setting learning rate to 3.5066366638556394e-05.\n",
            "Epoch 111/200\n"
          ]
        },
        {
          "output_type": "stream",
          "name": "stderr",
          "text": [
            "WARNING:tensorflow:Early stopping conditioned on metric `val_mean_absolute_error` which is not available. Available metrics are: loss,mae,val_loss,val_mae,lr\n"
          ]
        },
        {
          "output_type": "stream",
          "name": "stdout",
          "text": [
            "1/1 - 0s - loss: 0.0125 - mae: 0.0838 - val_loss: 0.0134 - val_mae: 0.0839 - lr: 3.5066e-05 - 450ms/epoch - 450ms/step\n",
            "\n",
            "Epoch 112: LearningRateScheduler setting learning rate to 3.40143756393997e-05.\n",
            "Epoch 112/200\n"
          ]
        },
        {
          "output_type": "stream",
          "name": "stderr",
          "text": [
            "WARNING:tensorflow:Early stopping conditioned on metric `val_mean_absolute_error` which is not available. Available metrics are: loss,mae,val_loss,val_mae,lr\n"
          ]
        },
        {
          "output_type": "stream",
          "name": "stdout",
          "text": [
            "1/1 - 0s - loss: 0.0122 - mae: 0.0828 - val_loss: 0.0134 - val_mae: 0.0838 - lr: 3.4014e-05 - 461ms/epoch - 461ms/step\n",
            "\n",
            "Epoch 113: LearningRateScheduler setting learning rate to 3.299394437021771e-05.\n",
            "Epoch 113/200\n"
          ]
        },
        {
          "output_type": "stream",
          "name": "stderr",
          "text": [
            "WARNING:tensorflow:Early stopping conditioned on metric `val_mean_absolute_error` which is not available. Available metrics are: loss,mae,val_loss,val_mae,lr\n"
          ]
        },
        {
          "output_type": "stream",
          "name": "stdout",
          "text": [
            "1/1 - 0s - loss: 0.0123 - mae: 0.0833 - val_loss: 0.0133 - val_mae: 0.0837 - lr: 3.2994e-05 - 447ms/epoch - 447ms/step\n",
            "\n",
            "Epoch 114: LearningRateScheduler setting learning rate to 3.200412603911118e-05.\n",
            "Epoch 114/200\n"
          ]
        },
        {
          "output_type": "stream",
          "name": "stderr",
          "text": [
            "WARNING:tensorflow:Early stopping conditioned on metric `val_mean_absolute_error` which is not available. Available metrics are: loss,mae,val_loss,val_mae,lr\n"
          ]
        },
        {
          "output_type": "stream",
          "name": "stdout",
          "text": [
            "1/1 - 0s - loss: 0.0123 - mae: 0.0830 - val_loss: 0.0133 - val_mae: 0.0836 - lr: 3.2004e-05 - 445ms/epoch - 445ms/step\n",
            "\n",
            "Epoch 115: LearningRateScheduler setting learning rate to 3.1044002257937845e-05.\n",
            "Epoch 115/200\n"
          ]
        },
        {
          "output_type": "stream",
          "name": "stderr",
          "text": [
            "WARNING:tensorflow:Early stopping conditioned on metric `val_mean_absolute_error` which is not available. Available metrics are: loss,mae,val_loss,val_mae,lr\n"
          ]
        },
        {
          "output_type": "stream",
          "name": "stdout",
          "text": [
            "1/1 - 0s - loss: 0.0126 - mae: 0.0832 - val_loss: 0.0133 - val_mae: 0.0835 - lr: 3.1044e-05 - 447ms/epoch - 447ms/step\n",
            "\n",
            "Epoch 116: LearningRateScheduler setting learning rate to 3.0112682190199705e-05.\n",
            "Epoch 116/200\n"
          ]
        },
        {
          "output_type": "stream",
          "name": "stderr",
          "text": [
            "WARNING:tensorflow:Early stopping conditioned on metric `val_mean_absolute_error` which is not available. Available metrics are: loss,mae,val_loss,val_mae,lr\n"
          ]
        },
        {
          "output_type": "stream",
          "name": "stdout",
          "text": [
            "1/1 - 0s - loss: 0.0123 - mae: 0.0829 - val_loss: 0.0132 - val_mae: 0.0834 - lr: 3.0113e-05 - 452ms/epoch - 452ms/step\n",
            "\n",
            "Epoch 117: LearningRateScheduler setting learning rate to 2.9209301724493712e-05.\n",
            "Epoch 117/200\n"
          ]
        },
        {
          "output_type": "stream",
          "name": "stderr",
          "text": [
            "WARNING:tensorflow:Early stopping conditioned on metric `val_mean_absolute_error` which is not available. Available metrics are: loss,mae,val_loss,val_mae,lr\n"
          ]
        },
        {
          "output_type": "stream",
          "name": "stdout",
          "text": [
            "1/1 - 0s - loss: 0.0123 - mae: 0.0825 - val_loss: 0.0132 - val_mae: 0.0833 - lr: 2.9209e-05 - 420ms/epoch - 420ms/step\n",
            "\n",
            "Epoch 118: LearningRateScheduler setting learning rate to 2.83330226727589e-05.\n",
            "Epoch 118/200\n"
          ]
        },
        {
          "output_type": "stream",
          "name": "stderr",
          "text": [
            "WARNING:tensorflow:Early stopping conditioned on metric `val_mean_absolute_error` which is not available. Available metrics are: loss,mae,val_loss,val_mae,lr\n"
          ]
        },
        {
          "output_type": "stream",
          "name": "stdout",
          "text": [
            "1/1 - 0s - loss: 0.0124 - mae: 0.0834 - val_loss: 0.0132 - val_mae: 0.0832 - lr: 2.8333e-05 - 403ms/epoch - 403ms/step\n",
            "\n",
            "Epoch 119: LearningRateScheduler setting learning rate to 2.7483031992576134e-05.\n",
            "Epoch 119/200\n"
          ]
        },
        {
          "output_type": "stream",
          "name": "stderr",
          "text": [
            "WARNING:tensorflow:Early stopping conditioned on metric `val_mean_absolute_error` which is not available. Available metrics are: loss,mae,val_loss,val_mae,lr\n"
          ]
        },
        {
          "output_type": "stream",
          "name": "stdout",
          "text": [
            "1/1 - 0s - loss: 0.0124 - mae: 0.0830 - val_loss: 0.0132 - val_mae: 0.0831 - lr: 2.7483e-05 - 425ms/epoch - 425ms/step\n",
            "\n",
            "Epoch 120: LearningRateScheduler setting learning rate to 2.6658541032798848e-05.\n",
            "Epoch 120/200\n"
          ]
        },
        {
          "output_type": "stream",
          "name": "stderr",
          "text": [
            "WARNING:tensorflow:Early stopping conditioned on metric `val_mean_absolute_error` which is not available. Available metrics are: loss,mae,val_loss,val_mae,lr\n"
          ]
        },
        {
          "output_type": "stream",
          "name": "stdout",
          "text": [
            "1/1 - 1s - loss: 0.0123 - mae: 0.0828 - val_loss: 0.0131 - val_mae: 0.0830 - lr: 2.6659e-05 - 515ms/epoch - 515ms/step\n",
            "\n",
            "Epoch 121: LearningRateScheduler setting learning rate to 2.5858784801814883e-05.\n",
            "Epoch 121/200\n"
          ]
        },
        {
          "output_type": "stream",
          "name": "stderr",
          "text": [
            "WARNING:tensorflow:Early stopping conditioned on metric `val_mean_absolute_error` which is not available. Available metrics are: loss,mae,val_loss,val_mae,lr\n"
          ]
        },
        {
          "output_type": "stream",
          "name": "stdout",
          "text": [
            "1/1 - 1s - loss: 0.0122 - mae: 0.0829 - val_loss: 0.0131 - val_mae: 0.0829 - lr: 2.5859e-05 - 673ms/epoch - 673ms/step\n",
            "\n",
            "Epoch 122: LearningRateScheduler setting learning rate to 2.5083021257760435e-05.\n",
            "Epoch 122/200\n"
          ]
        },
        {
          "output_type": "stream",
          "name": "stderr",
          "text": [
            "WARNING:tensorflow:Early stopping conditioned on metric `val_mean_absolute_error` which is not available. Available metrics are: loss,mae,val_loss,val_mae,lr\n"
          ]
        },
        {
          "output_type": "stream",
          "name": "stdout",
          "text": [
            "1/1 - 1s - loss: 0.0123 - mae: 0.0827 - val_loss: 0.0131 - val_mae: 0.0828 - lr: 2.5083e-05 - 615ms/epoch - 615ms/step\n",
            "\n",
            "Epoch 123: LearningRateScheduler setting learning rate to 2.433053062002762e-05.\n",
            "Epoch 123/200\n"
          ]
        },
        {
          "output_type": "stream",
          "name": "stderr",
          "text": [
            "WARNING:tensorflow:Early stopping conditioned on metric `val_mean_absolute_error` which is not available. Available metrics are: loss,mae,val_loss,val_mae,lr\n"
          ]
        },
        {
          "output_type": "stream",
          "name": "stdout",
          "text": [
            "1/1 - 1s - loss: 0.0121 - mae: 0.0824 - val_loss: 0.0131 - val_mae: 0.0828 - lr: 2.4331e-05 - 645ms/epoch - 645ms/step\n",
            "\n",
            "Epoch 124: LearningRateScheduler setting learning rate to 2.360061470142679e-05.\n",
            "Epoch 124/200\n"
          ]
        },
        {
          "output_type": "stream",
          "name": "stderr",
          "text": [
            "WARNING:tensorflow:Early stopping conditioned on metric `val_mean_absolute_error` which is not available. Available metrics are: loss,mae,val_loss,val_mae,lr\n"
          ]
        },
        {
          "output_type": "stream",
          "name": "stdout",
          "text": [
            "1/1 - 1s - loss: 0.0123 - mae: 0.0825 - val_loss: 0.0130 - val_mae: 0.0827 - lr: 2.3601e-05 - 664ms/epoch - 664ms/step\n",
            "\n",
            "Epoch 125: LearningRateScheduler setting learning rate to 2.2892596260383987e-05.\n",
            "Epoch 125/200\n"
          ]
        },
        {
          "output_type": "stream",
          "name": "stderr",
          "text": [
            "WARNING:tensorflow:Early stopping conditioned on metric `val_mean_absolute_error` which is not available. Available metrics are: loss,mae,val_loss,val_mae,lr\n"
          ]
        },
        {
          "output_type": "stream",
          "name": "stdout",
          "text": [
            "1/1 - 0s - loss: 0.0122 - mae: 0.0828 - val_loss: 0.0130 - val_mae: 0.0826 - lr: 2.2893e-05 - 405ms/epoch - 405ms/step\n",
            "\n",
            "Epoch 126: LearningRateScheduler setting learning rate to 2.220581837257247e-05.\n",
            "Epoch 126/200\n"
          ]
        },
        {
          "output_type": "stream",
          "name": "stderr",
          "text": [
            "WARNING:tensorflow:Early stopping conditioned on metric `val_mean_absolute_error` which is not available. Available metrics are: loss,mae,val_loss,val_mae,lr\n"
          ]
        },
        {
          "output_type": "stream",
          "name": "stdout",
          "text": [
            "1/1 - 0s - loss: 0.0122 - mae: 0.0824 - val_loss: 0.0130 - val_mae: 0.0825 - lr: 2.2206e-05 - 393ms/epoch - 393ms/step\n",
            "\n",
            "Epoch 127: LearningRateScheduler setting learning rate to 2.1539643821395293e-05.\n",
            "Epoch 127/200\n"
          ]
        },
        {
          "output_type": "stream",
          "name": "stderr",
          "text": [
            "WARNING:tensorflow:Early stopping conditioned on metric `val_mean_absolute_error` which is not available. Available metrics are: loss,mae,val_loss,val_mae,lr\n"
          ]
        },
        {
          "output_type": "stream",
          "name": "stdout",
          "text": [
            "1/1 - 0s - loss: 0.0123 - mae: 0.0831 - val_loss: 0.0130 - val_mae: 0.0825 - lr: 2.1540e-05 - 478ms/epoch - 478ms/step\n",
            "\n",
            "Epoch 128: LearningRateScheduler setting learning rate to 2.0893454506753432e-05.\n",
            "Epoch 128/200\n"
          ]
        },
        {
          "output_type": "stream",
          "name": "stderr",
          "text": [
            "WARNING:tensorflow:Early stopping conditioned on metric `val_mean_absolute_error` which is not available. Available metrics are: loss,mae,val_loss,val_mae,lr\n"
          ]
        },
        {
          "output_type": "stream",
          "name": "stdout",
          "text": [
            "1/1 - 0s - loss: 0.0123 - mae: 0.0826 - val_loss: 0.0129 - val_mae: 0.0824 - lr: 2.0893e-05 - 402ms/epoch - 402ms/step\n",
            "\n",
            "Epoch 129: LearningRateScheduler setting learning rate to 2.0266650871550828e-05.\n",
            "Epoch 129/200\n"
          ]
        },
        {
          "output_type": "stream",
          "name": "stderr",
          "text": [
            "WARNING:tensorflow:Early stopping conditioned on metric `val_mean_absolute_error` which is not available. Available metrics are: loss,mae,val_loss,val_mae,lr\n"
          ]
        },
        {
          "output_type": "stream",
          "name": "stdout",
          "text": [
            "1/1 - 0s - loss: 0.0123 - mae: 0.0826 - val_loss: 0.0129 - val_mae: 0.0823 - lr: 2.0267e-05 - 425ms/epoch - 425ms/step\n",
            "\n",
            "Epoch 130: LearningRateScheduler setting learning rate to 1.9658651345404306e-05.\n",
            "Epoch 130/200\n"
          ]
        },
        {
          "output_type": "stream",
          "name": "stderr",
          "text": [
            "WARNING:tensorflow:Early stopping conditioned on metric `val_mean_absolute_error` which is not available. Available metrics are: loss,mae,val_loss,val_mae,lr\n"
          ]
        },
        {
          "output_type": "stream",
          "name": "stdout",
          "text": [
            "1/1 - 0s - loss: 0.0124 - mae: 0.0832 - val_loss: 0.0129 - val_mae: 0.0822 - lr: 1.9659e-05 - 385ms/epoch - 385ms/step\n",
            "\n",
            "Epoch 131: LearningRateScheduler setting learning rate to 1.906889180504218e-05.\n",
            "Epoch 131/200\n"
          ]
        },
        {
          "output_type": "stream",
          "name": "stderr",
          "text": [
            "WARNING:tensorflow:Early stopping conditioned on metric `val_mean_absolute_error` which is not available. Available metrics are: loss,mae,val_loss,val_mae,lr\n"
          ]
        },
        {
          "output_type": "stream",
          "name": "stdout",
          "text": [
            "1/1 - 0s - loss: 0.0124 - mae: 0.0832 - val_loss: 0.0129 - val_mae: 0.0821 - lr: 1.9069e-05 - 429ms/epoch - 429ms/step\n",
            "\n",
            "Epoch 132: LearningRateScheduler setting learning rate to 1.849682505089091e-05.\n",
            "Epoch 132/200\n"
          ]
        },
        {
          "output_type": "stream",
          "name": "stderr",
          "text": [
            "WARNING:tensorflow:Early stopping conditioned on metric `val_mean_absolute_error` which is not available. Available metrics are: loss,mae,val_loss,val_mae,lr\n"
          ]
        },
        {
          "output_type": "stream",
          "name": "stdout",
          "text": [
            "1/1 - 0s - loss: 0.0124 - mae: 0.0834 - val_loss: 0.0129 - val_mae: 0.0821 - lr: 1.8497e-05 - 466ms/epoch - 466ms/step\n",
            "\n",
            "Epoch 133: LearningRateScheduler setting learning rate to 1.7941920299364185e-05.\n",
            "Epoch 133/200\n"
          ]
        },
        {
          "output_type": "stream",
          "name": "stderr",
          "text": [
            "WARNING:tensorflow:Early stopping conditioned on metric `val_mean_absolute_error` which is not available. Available metrics are: loss,mae,val_loss,val_mae,lr\n"
          ]
        },
        {
          "output_type": "stream",
          "name": "stdout",
          "text": [
            "1/1 - 0s - loss: 0.0123 - mae: 0.0832 - val_loss: 0.0128 - val_mae: 0.0820 - lr: 1.7942e-05 - 431ms/epoch - 431ms/step\n",
            "\n",
            "Epoch 134: LearningRateScheduler setting learning rate to 1.7403662690383253e-05.\n",
            "Epoch 134/200\n"
          ]
        },
        {
          "output_type": "stream",
          "name": "stderr",
          "text": [
            "WARNING:tensorflow:Early stopping conditioned on metric `val_mean_absolute_error` which is not available. Available metrics are: loss,mae,val_loss,val_mae,lr\n"
          ]
        },
        {
          "output_type": "stream",
          "name": "stdout",
          "text": [
            "1/1 - 0s - loss: 0.0119 - mae: 0.0821 - val_loss: 0.0128 - val_mae: 0.0819 - lr: 1.7404e-05 - 460ms/epoch - 460ms/step\n",
            "\n",
            "Epoch 135: LearningRateScheduler setting learning rate to 1.6881552809671757e-05.\n",
            "Epoch 135/200\n"
          ]
        },
        {
          "output_type": "stream",
          "name": "stderr",
          "text": [
            "WARNING:tensorflow:Early stopping conditioned on metric `val_mean_absolute_error` which is not available. Available metrics are: loss,mae,val_loss,val_mae,lr\n"
          ]
        },
        {
          "output_type": "stream",
          "name": "stdout",
          "text": [
            "1/1 - 0s - loss: 0.0123 - mae: 0.0827 - val_loss: 0.0128 - val_mae: 0.0819 - lr: 1.6882e-05 - 395ms/epoch - 395ms/step\n",
            "\n",
            "Epoch 136: LearningRateScheduler setting learning rate to 1.6375106225381605e-05.\n",
            "Epoch 136/200\n"
          ]
        },
        {
          "output_type": "stream",
          "name": "stderr",
          "text": [
            "WARNING:tensorflow:Early stopping conditioned on metric `val_mean_absolute_error` which is not available. Available metrics are: loss,mae,val_loss,val_mae,lr\n"
          ]
        },
        {
          "output_type": "stream",
          "name": "stdout",
          "text": [
            "1/1 - 0s - loss: 0.0123 - mae: 0.0828 - val_loss: 0.0128 - val_mae: 0.0818 - lr: 1.6375e-05 - 399ms/epoch - 399ms/step\n",
            "\n",
            "Epoch 137: LearningRateScheduler setting learning rate to 1.5883853038620156e-05.\n",
            "Epoch 137/200\n"
          ]
        },
        {
          "output_type": "stream",
          "name": "stderr",
          "text": [
            "WARNING:tensorflow:Early stopping conditioned on metric `val_mean_absolute_error` which is not available. Available metrics are: loss,mae,val_loss,val_mae,lr\n"
          ]
        },
        {
          "output_type": "stream",
          "name": "stdout",
          "text": [
            "1/1 - 0s - loss: 0.0120 - mae: 0.0821 - val_loss: 0.0128 - val_mae: 0.0817 - lr: 1.5884e-05 - 403ms/epoch - 403ms/step\n",
            "\n",
            "Epoch 138: LearningRateScheduler setting learning rate to 1.540733744746155e-05.\n",
            "Epoch 138/200\n"
          ]
        },
        {
          "output_type": "stream",
          "name": "stderr",
          "text": [
            "WARNING:tensorflow:Early stopping conditioned on metric `val_mean_absolute_error` which is not available. Available metrics are: loss,mae,val_loss,val_mae,lr\n"
          ]
        },
        {
          "output_type": "stream",
          "name": "stdout",
          "text": [
            "1/1 - 0s - loss: 0.0121 - mae: 0.0824 - val_loss: 0.0127 - val_mae: 0.0816 - lr: 1.5407e-05 - 440ms/epoch - 440ms/step\n",
            "\n",
            "Epoch 139: LearningRateScheduler setting learning rate to 1.4945117324037704e-05.\n",
            "Epoch 139/200\n"
          ]
        },
        {
          "output_type": "stream",
          "name": "stderr",
          "text": [
            "WARNING:tensorflow:Early stopping conditioned on metric `val_mean_absolute_error` which is not available. Available metrics are: loss,mae,val_loss,val_mae,lr\n"
          ]
        },
        {
          "output_type": "stream",
          "name": "stdout",
          "text": [
            "1/1 - 0s - loss: 0.0123 - mae: 0.0833 - val_loss: 0.0127 - val_mae: 0.0816 - lr: 1.4945e-05 - 474ms/epoch - 474ms/step\n",
            "\n",
            "Epoch 140: LearningRateScheduler setting learning rate to 1.4496763804316573e-05.\n",
            "Epoch 140/200\n"
          ]
        },
        {
          "output_type": "stream",
          "name": "stderr",
          "text": [
            "WARNING:tensorflow:Early stopping conditioned on metric `val_mean_absolute_error` which is not available. Available metrics are: loss,mae,val_loss,val_mae,lr\n"
          ]
        },
        {
          "output_type": "stream",
          "name": "stdout",
          "text": [
            "1/1 - 0s - loss: 0.0121 - mae: 0.0826 - val_loss: 0.0127 - val_mae: 0.0815 - lr: 1.4497e-05 - 456ms/epoch - 456ms/step\n",
            "\n",
            "Epoch 141: LearningRateScheduler setting learning rate to 1.4061860890187074e-05.\n",
            "Epoch 141/200\n"
          ]
        },
        {
          "output_type": "stream",
          "name": "stderr",
          "text": [
            "WARNING:tensorflow:Early stopping conditioned on metric `val_mean_absolute_error` which is not available. Available metrics are: loss,mae,val_loss,val_mae,lr\n"
          ]
        },
        {
          "output_type": "stream",
          "name": "stdout",
          "text": [
            "1/1 - 0s - loss: 0.0124 - mae: 0.0835 - val_loss: 0.0127 - val_mae: 0.0815 - lr: 1.4062e-05 - 438ms/epoch - 438ms/step\n",
            "\n",
            "Epoch 142: LearningRateScheduler setting learning rate to 1.3640005063481462e-05.\n",
            "Epoch 142/200\n"
          ]
        },
        {
          "output_type": "stream",
          "name": "stderr",
          "text": [
            "WARNING:tensorflow:Early stopping conditioned on metric `val_mean_absolute_error` which is not available. Available metrics are: loss,mae,val_loss,val_mae,lr\n"
          ]
        },
        {
          "output_type": "stream",
          "name": "stdout",
          "text": [
            "1/1 - 0s - loss: 0.0124 - mae: 0.0831 - val_loss: 0.0127 - val_mae: 0.0814 - lr: 1.3640e-05 - 435ms/epoch - 435ms/step\n",
            "\n",
            "Epoch 143: LearningRateScheduler setting learning rate to 1.3230804911577018e-05.\n",
            "Epoch 143/200\n"
          ]
        },
        {
          "output_type": "stream",
          "name": "stderr",
          "text": [
            "WARNING:tensorflow:Early stopping conditioned on metric `val_mean_absolute_error` which is not available. Available metrics are: loss,mae,val_loss,val_mae,lr\n"
          ]
        },
        {
          "output_type": "stream",
          "name": "stdout",
          "text": [
            "1/1 - 0s - loss: 0.0123 - mae: 0.0830 - val_loss: 0.0126 - val_mae: 0.0813 - lr: 1.3231e-05 - 438ms/epoch - 438ms/step\n",
            "\n",
            "Epoch 144: LearningRateScheduler setting learning rate to 1.2833880764229706e-05.\n",
            "Epoch 144/200\n"
          ]
        },
        {
          "output_type": "stream",
          "name": "stderr",
          "text": [
            "WARNING:tensorflow:Early stopping conditioned on metric `val_mean_absolute_error` which is not available. Available metrics are: loss,mae,val_loss,val_mae,lr\n"
          ]
        },
        {
          "output_type": "stream",
          "name": "stdout",
          "text": [
            "1/1 - 0s - loss: 0.0123 - mae: 0.0830 - val_loss: 0.0126 - val_mae: 0.0813 - lr: 1.2834e-05 - 432ms/epoch - 432ms/step\n",
            "\n",
            "Epoch 145: LearningRateScheduler setting learning rate to 1.2448864341302816e-05.\n",
            "Epoch 145/200\n"
          ]
        },
        {
          "output_type": "stream",
          "name": "stderr",
          "text": [
            "WARNING:tensorflow:Early stopping conditioned on metric `val_mean_absolute_error` which is not available. Available metrics are: loss,mae,val_loss,val_mae,lr\n"
          ]
        },
        {
          "output_type": "stream",
          "name": "stdout",
          "text": [
            "1/1 - 0s - loss: 0.0121 - mae: 0.0829 - val_loss: 0.0126 - val_mae: 0.0812 - lr: 1.2449e-05 - 397ms/epoch - 397ms/step\n",
            "\n",
            "Epoch 146: LearningRateScheduler setting learning rate to 1.2075398411063731e-05.\n",
            "Epoch 146/200\n"
          ]
        },
        {
          "output_type": "stream",
          "name": "stderr",
          "text": [
            "WARNING:tensorflow:Early stopping conditioned on metric `val_mean_absolute_error` which is not available. Available metrics are: loss,mae,val_loss,val_mae,lr\n"
          ]
        },
        {
          "output_type": "stream",
          "name": "stdout",
          "text": [
            "1/1 - 0s - loss: 0.0124 - mae: 0.0831 - val_loss: 0.0126 - val_mae: 0.0812 - lr: 1.2075e-05 - 475ms/epoch - 475ms/step\n",
            "\n",
            "Epoch 147: LearningRateScheduler setting learning rate to 1.1713136458731819e-05.\n",
            "Epoch 147/200\n"
          ]
        },
        {
          "output_type": "stream",
          "name": "stderr",
          "text": [
            "WARNING:tensorflow:Early stopping conditioned on metric `val_mean_absolute_error` which is not available. Available metrics are: loss,mae,val_loss,val_mae,lr\n"
          ]
        },
        {
          "output_type": "stream",
          "name": "stdout",
          "text": [
            "1/1 - 1s - loss: 0.0121 - mae: 0.0825 - val_loss: 0.0126 - val_mae: 0.0811 - lr: 1.1713e-05 - 521ms/epoch - 521ms/step\n",
            "\n",
            "Epoch 148: LearningRateScheduler setting learning rate to 1.1361742364969863e-05.\n",
            "Epoch 148/200\n"
          ]
        },
        {
          "output_type": "stream",
          "name": "stderr",
          "text": [
            "WARNING:tensorflow:Early stopping conditioned on metric `val_mean_absolute_error` which is not available. Available metrics are: loss,mae,val_loss,val_mae,lr\n"
          ]
        },
        {
          "output_type": "stream",
          "name": "stdout",
          "text": [
            "1/1 - 1s - loss: 0.0122 - mae: 0.0821 - val_loss: 0.0126 - val_mae: 0.0810 - lr: 1.1362e-05 - 659ms/epoch - 659ms/step\n",
            "\n",
            "Epoch 149: LearningRateScheduler setting learning rate to 1.1020890094020768e-05.\n",
            "Epoch 149/200\n"
          ]
        },
        {
          "output_type": "stream",
          "name": "stderr",
          "text": [
            "WARNING:tensorflow:Early stopping conditioned on metric `val_mean_absolute_error` which is not available. Available metrics are: loss,mae,val_loss,val_mae,lr\n"
          ]
        },
        {
          "output_type": "stream",
          "name": "stdout",
          "text": [
            "1/1 - 1s - loss: 0.0123 - mae: 0.0828 - val_loss: 0.0126 - val_mae: 0.0810 - lr: 1.1021e-05 - 637ms/epoch - 637ms/step\n",
            "\n",
            "Epoch 150: LearningRateScheduler setting learning rate to 1.0690263391200144e-05.\n",
            "Epoch 150/200\n"
          ]
        },
        {
          "output_type": "stream",
          "name": "stderr",
          "text": [
            "WARNING:tensorflow:Early stopping conditioned on metric `val_mean_absolute_error` which is not available. Available metrics are: loss,mae,val_loss,val_mae,lr\n"
          ]
        },
        {
          "output_type": "stream",
          "name": "stdout",
          "text": [
            "1/1 - 1s - loss: 0.0121 - mae: 0.0822 - val_loss: 0.0125 - val_mae: 0.0809 - lr: 1.0690e-05 - 643ms/epoch - 643ms/step\n",
            "\n",
            "Epoch 151: LearningRateScheduler setting learning rate to 1.0369555489464138e-05.\n",
            "Epoch 151/200\n"
          ]
        },
        {
          "output_type": "stream",
          "name": "stderr",
          "text": [
            "WARNING:tensorflow:Early stopping conditioned on metric `val_mean_absolute_error` which is not available. Available metrics are: loss,mae,val_loss,val_mae,lr\n"
          ]
        },
        {
          "output_type": "stream",
          "name": "stdout",
          "text": [
            "1/1 - 1s - loss: 0.0121 - mae: 0.0825 - val_loss: 0.0125 - val_mae: 0.0809 - lr: 1.0370e-05 - 686ms/epoch - 686ms/step\n",
            "\n",
            "Epoch 152: LearningRateScheduler setting learning rate to 1.0058468824780214e-05.\n",
            "Epoch 152/200\n"
          ]
        },
        {
          "output_type": "stream",
          "name": "stderr",
          "text": [
            "WARNING:tensorflow:Early stopping conditioned on metric `val_mean_absolute_error` which is not available. Available metrics are: loss,mae,val_loss,val_mae,lr\n"
          ]
        },
        {
          "output_type": "stream",
          "name": "stdout",
          "text": [
            "1/1 - 0s - loss: 0.0123 - mae: 0.0829 - val_loss: 0.0125 - val_mae: 0.0808 - lr: 1.0058e-05 - 404ms/epoch - 404ms/step\n",
            "\n",
            "Epoch 153: LearningRateScheduler setting learning rate to 9.756714760036808e-06.\n",
            "Epoch 153/200\n"
          ]
        },
        {
          "output_type": "stream",
          "name": "stderr",
          "text": [
            "WARNING:tensorflow:Early stopping conditioned on metric `val_mean_absolute_error` which is not available. Available metrics are: loss,mae,val_loss,val_mae,lr\n"
          ]
        },
        {
          "output_type": "stream",
          "name": "stdout",
          "text": [
            "1/1 - 0s - loss: 0.0123 - mae: 0.0828 - val_loss: 0.0125 - val_mae: 0.0808 - lr: 9.7567e-06 - 404ms/epoch - 404ms/step\n",
            "\n",
            "Epoch 154: LearningRateScheduler setting learning rate to 9.464013317235704e-06.\n",
            "Epoch 154/200\n"
          ]
        },
        {
          "output_type": "stream",
          "name": "stderr",
          "text": [
            "WARNING:tensorflow:Early stopping conditioned on metric `val_mean_absolute_error` which is not available. Available metrics are: loss,mae,val_loss,val_mae,lr\n"
          ]
        },
        {
          "output_type": "stream",
          "name": "stdout",
          "text": [
            "1/1 - 0s - loss: 0.0120 - mae: 0.0818 - val_loss: 0.0125 - val_mae: 0.0807 - lr: 9.4640e-06 - 420ms/epoch - 420ms/step\n",
            "\n",
            "Epoch 155: LearningRateScheduler setting learning rate to 9.180092917718633e-06.\n",
            "Epoch 155/200\n"
          ]
        },
        {
          "output_type": "stream",
          "name": "stderr",
          "text": [
            "WARNING:tensorflow:Early stopping conditioned on metric `val_mean_absolute_error` which is not available. Available metrics are: loss,mae,val_loss,val_mae,lr\n"
          ]
        },
        {
          "output_type": "stream",
          "name": "stdout",
          "text": [
            "1/1 - 0s - loss: 0.0121 - mae: 0.0823 - val_loss: 0.0125 - val_mae: 0.0807 - lr: 9.1801e-06 - 414ms/epoch - 414ms/step\n",
            "\n",
            "Epoch 156: LearningRateScheduler setting learning rate to 8.904690130187072e-06.\n",
            "Epoch 156/200\n"
          ]
        },
        {
          "output_type": "stream",
          "name": "stderr",
          "text": [
            "WARNING:tensorflow:Early stopping conditioned on metric `val_mean_absolute_error` which is not available. Available metrics are: loss,mae,val_loss,val_mae,lr\n"
          ]
        },
        {
          "output_type": "stream",
          "name": "stdout",
          "text": [
            "1/1 - 0s - loss: 0.0121 - mae: 0.0818 - val_loss: 0.0124 - val_mae: 0.0806 - lr: 8.9047e-06 - 388ms/epoch - 388ms/step\n",
            "\n",
            "Epoch 157: LearningRateScheduler setting learning rate to 8.63754942628146e-06.\n",
            "Epoch 157/200\n"
          ]
        },
        {
          "output_type": "stream",
          "name": "stderr",
          "text": [
            "WARNING:tensorflow:Early stopping conditioned on metric `val_mean_absolute_error` which is not available. Available metrics are: loss,mae,val_loss,val_mae,lr\n"
          ]
        },
        {
          "output_type": "stream",
          "name": "stdout",
          "text": [
            "1/1 - 0s - loss: 0.0124 - mae: 0.0827 - val_loss: 0.0124 - val_mae: 0.0806 - lr: 8.6375e-06 - 420ms/epoch - 420ms/step\n",
            "\n",
            "Epoch 158: LearningRateScheduler setting learning rate to 8.378422943493016e-06.\n",
            "Epoch 158/200\n"
          ]
        },
        {
          "output_type": "stream",
          "name": "stderr",
          "text": [
            "WARNING:tensorflow:Early stopping conditioned on metric `val_mean_absolute_error` which is not available. Available metrics are: loss,mae,val_loss,val_mae,lr\n"
          ]
        },
        {
          "output_type": "stream",
          "name": "stdout",
          "text": [
            "1/1 - 0s - loss: 0.0121 - mae: 0.0824 - val_loss: 0.0124 - val_mae: 0.0805 - lr: 8.3784e-06 - 423ms/epoch - 423ms/step\n",
            "\n",
            "Epoch 159: LearningRateScheduler setting learning rate to 8.127070255188227e-06.\n",
            "Epoch 159/200\n"
          ]
        },
        {
          "output_type": "stream",
          "name": "stderr",
          "text": [
            "WARNING:tensorflow:Early stopping conditioned on metric `val_mean_absolute_error` which is not available. Available metrics are: loss,mae,val_loss,val_mae,lr\n"
          ]
        },
        {
          "output_type": "stream",
          "name": "stdout",
          "text": [
            "1/1 - 0s - loss: 0.0122 - mae: 0.0830 - val_loss: 0.0124 - val_mae: 0.0804 - lr: 8.1271e-06 - 408ms/epoch - 408ms/step\n",
            "\n",
            "Epoch 160: LearningRateScheduler setting learning rate to 7.883258147532578e-06.\n",
            "Epoch 160/200\n"
          ]
        },
        {
          "output_type": "stream",
          "name": "stderr",
          "text": [
            "WARNING:tensorflow:Early stopping conditioned on metric `val_mean_absolute_error` which is not available. Available metrics are: loss,mae,val_loss,val_mae,lr\n"
          ]
        },
        {
          "output_type": "stream",
          "name": "stdout",
          "text": [
            "1/1 - 0s - loss: 0.0123 - mae: 0.0834 - val_loss: 0.0124 - val_mae: 0.0804 - lr: 7.8833e-06 - 427ms/epoch - 427ms/step\n",
            "\n",
            "Epoch 161: LearningRateScheduler setting learning rate to 7.646760403106601e-06.\n",
            "Epoch 161/200\n"
          ]
        },
        {
          "output_type": "stream",
          "name": "stderr",
          "text": [
            "WARNING:tensorflow:Early stopping conditioned on metric `val_mean_absolute_error` which is not available. Available metrics are: loss,mae,val_loss,val_mae,lr\n"
          ]
        },
        {
          "output_type": "stream",
          "name": "stdout",
          "text": [
            "1/1 - 0s - loss: 0.0120 - mae: 0.0822 - val_loss: 0.0124 - val_mae: 0.0803 - lr: 7.6468e-06 - 442ms/epoch - 442ms/step\n",
            "\n",
            "Epoch 162: LearningRateScheduler setting learning rate to 7.417357591013403e-06.\n",
            "Epoch 162/200\n"
          ]
        },
        {
          "output_type": "stream",
          "name": "stderr",
          "text": [
            "WARNING:tensorflow:Early stopping conditioned on metric `val_mean_absolute_error` which is not available. Available metrics are: loss,mae,val_loss,val_mae,lr\n"
          ]
        },
        {
          "output_type": "stream",
          "name": "stdout",
          "text": [
            "1/1 - 0s - loss: 0.0124 - mae: 0.0834 - val_loss: 0.0124 - val_mae: 0.0803 - lr: 7.4174e-06 - 400ms/epoch - 400ms/step\n",
            "\n",
            "Epoch 163: LearningRateScheduler setting learning rate to 7.194836863283e-06.\n",
            "Epoch 163/200\n"
          ]
        },
        {
          "output_type": "stream",
          "name": "stderr",
          "text": [
            "WARNING:tensorflow:Early stopping conditioned on metric `val_mean_absolute_error` which is not available. Available metrics are: loss,mae,val_loss,val_mae,lr\n"
          ]
        },
        {
          "output_type": "stream",
          "name": "stdout",
          "text": [
            "1/1 - 0s - loss: 0.0123 - mae: 0.0824 - val_loss: 0.0123 - val_mae: 0.0802 - lr: 7.1948e-06 - 446ms/epoch - 446ms/step\n",
            "\n",
            "Epoch 164: LearningRateScheduler setting learning rate to 6.978991757384511e-06.\n",
            "Epoch 164/200\n"
          ]
        },
        {
          "output_type": "stream",
          "name": "stderr",
          "text": [
            "WARNING:tensorflow:Early stopping conditioned on metric `val_mean_absolute_error` which is not available. Available metrics are: loss,mae,val_loss,val_mae,lr\n"
          ]
        },
        {
          "output_type": "stream",
          "name": "stdout",
          "text": [
            "1/1 - 0s - loss: 0.0122 - mae: 0.0828 - val_loss: 0.0123 - val_mae: 0.0802 - lr: 6.9790e-06 - 448ms/epoch - 448ms/step\n",
            "\n",
            "Epoch 165: LearningRateScheduler setting learning rate to 6.769622004662975e-06.\n",
            "Epoch 165/200\n"
          ]
        },
        {
          "output_type": "stream",
          "name": "stderr",
          "text": [
            "WARNING:tensorflow:Early stopping conditioned on metric `val_mean_absolute_error` which is not available. Available metrics are: loss,mae,val_loss,val_mae,lr\n"
          ]
        },
        {
          "output_type": "stream",
          "name": "stdout",
          "text": [
            "1/1 - 0s - loss: 0.0122 - mae: 0.0828 - val_loss: 0.0123 - val_mae: 0.0801 - lr: 6.7696e-06 - 460ms/epoch - 460ms/step\n",
            "\n",
            "Epoch 166: LearningRateScheduler setting learning rate to 6.566533344523086e-06.\n",
            "Epoch 166/200\n"
          ]
        },
        {
          "output_type": "stream",
          "name": "stderr",
          "text": [
            "WARNING:tensorflow:Early stopping conditioned on metric `val_mean_absolute_error` which is not available. Available metrics are: loss,mae,val_loss,val_mae,lr\n"
          ]
        },
        {
          "output_type": "stream",
          "name": "stdout",
          "text": [
            "1/1 - 0s - loss: 0.0124 - mae: 0.0837 - val_loss: 0.0123 - val_mae: 0.0801 - lr: 6.5665e-06 - 421ms/epoch - 421ms/step\n",
            "\n",
            "Epoch 167: LearningRateScheduler setting learning rate to 6.369537344187393e-06.\n",
            "Epoch 167/200\n"
          ]
        },
        {
          "output_type": "stream",
          "name": "stderr",
          "text": [
            "WARNING:tensorflow:Early stopping conditioned on metric `val_mean_absolute_error` which is not available. Available metrics are: loss,mae,val_loss,val_mae,lr\n"
          ]
        },
        {
          "output_type": "stream",
          "name": "stdout",
          "text": [
            "1/1 - 0s - loss: 0.0122 - mae: 0.0833 - val_loss: 0.0123 - val_mae: 0.0801 - lr: 6.3695e-06 - 412ms/epoch - 412ms/step\n",
            "\n",
            "Epoch 168: LearningRateScheduler setting learning rate to 6.178451223861771e-06.\n",
            "Epoch 168/200\n"
          ]
        },
        {
          "output_type": "stream",
          "name": "stderr",
          "text": [
            "WARNING:tensorflow:Early stopping conditioned on metric `val_mean_absolute_error` which is not available. Available metrics are: loss,mae,val_loss,val_mae,lr\n"
          ]
        },
        {
          "output_type": "stream",
          "name": "stdout",
          "text": [
            "1/1 - 0s - loss: 0.0124 - mae: 0.0829 - val_loss: 0.0123 - val_mae: 0.0800 - lr: 6.1785e-06 - 440ms/epoch - 440ms/step\n",
            "\n",
            "Epoch 169: LearningRateScheduler setting learning rate to 5.9930976871459175e-06.\n",
            "Epoch 169/200\n"
          ]
        },
        {
          "output_type": "stream",
          "name": "stderr",
          "text": [
            "WARNING:tensorflow:Early stopping conditioned on metric `val_mean_absolute_error` which is not available. Available metrics are: loss,mae,val_loss,val_mae,lr\n"
          ]
        },
        {
          "output_type": "stream",
          "name": "stdout",
          "text": [
            "1/1 - 0s - loss: 0.0126 - mae: 0.0841 - val_loss: 0.0123 - val_mae: 0.0800 - lr: 5.9931e-06 - 403ms/epoch - 403ms/step\n",
            "\n",
            "Epoch 170: LearningRateScheduler setting learning rate to 5.81330475653154e-06.\n",
            "Epoch 170/200\n"
          ]
        },
        {
          "output_type": "stream",
          "name": "stderr",
          "text": [
            "WARNING:tensorflow:Early stopping conditioned on metric `val_mean_absolute_error` which is not available. Available metrics are: loss,mae,val_loss,val_mae,lr\n"
          ]
        },
        {
          "output_type": "stream",
          "name": "stdout",
          "text": [
            "1/1 - 0s - loss: 0.0123 - mae: 0.0824 - val_loss: 0.0123 - val_mae: 0.0799 - lr: 5.8133e-06 - 427ms/epoch - 427ms/step\n",
            "\n",
            "Epoch 171: LearningRateScheduler setting learning rate to 5.638905613835593e-06.\n",
            "Epoch 171/200\n"
          ]
        },
        {
          "output_type": "stream",
          "name": "stderr",
          "text": [
            "WARNING:tensorflow:Early stopping conditioned on metric `val_mean_absolute_error` which is not available. Available metrics are: loss,mae,val_loss,val_mae,lr\n"
          ]
        },
        {
          "output_type": "stream",
          "name": "stdout",
          "text": [
            "1/1 - 0s - loss: 0.0122 - mae: 0.0822 - val_loss: 0.0122 - val_mae: 0.0799 - lr: 5.6389e-06 - 447ms/epoch - 447ms/step\n",
            "\n",
            "Epoch 172: LearningRateScheduler setting learning rate to 5.4697384454205255e-06.\n",
            "Epoch 172/200\n"
          ]
        },
        {
          "output_type": "stream",
          "name": "stderr",
          "text": [
            "WARNING:tensorflow:Early stopping conditioned on metric `val_mean_absolute_error` which is not available. Available metrics are: loss,mae,val_loss,val_mae,lr\n"
          ]
        },
        {
          "output_type": "stream",
          "name": "stdout",
          "text": [
            "1/1 - 0s - loss: 0.0121 - mae: 0.0827 - val_loss: 0.0122 - val_mae: 0.0799 - lr: 5.4697e-06 - 422ms/epoch - 422ms/step\n",
            "\n",
            "Epoch 173: LearningRateScheduler setting learning rate to 5.30564629205791e-06.\n",
            "Epoch 173/200\n"
          ]
        },
        {
          "output_type": "stream",
          "name": "stderr",
          "text": [
            "WARNING:tensorflow:Early stopping conditioned on metric `val_mean_absolute_error` which is not available. Available metrics are: loss,mae,val_loss,val_mae,lr\n"
          ]
        },
        {
          "output_type": "stream",
          "name": "stdout",
          "text": [
            "1/1 - 0s - loss: 0.0123 - mae: 0.0827 - val_loss: 0.0122 - val_mae: 0.0798 - lr: 5.3056e-06 - 400ms/epoch - 400ms/step\n",
            "\n",
            "Epoch 174: LearningRateScheduler setting learning rate to 5.146476903296172e-06.\n",
            "Epoch 174/200\n"
          ]
        },
        {
          "output_type": "stream",
          "name": "stderr",
          "text": [
            "WARNING:tensorflow:Early stopping conditioned on metric `val_mean_absolute_error` which is not available. Available metrics are: loss,mae,val_loss,val_mae,lr\n"
          ]
        },
        {
          "output_type": "stream",
          "name": "stdout",
          "text": [
            "1/1 - 0s - loss: 0.0123 - mae: 0.0832 - val_loss: 0.0122 - val_mae: 0.0798 - lr: 5.1465e-06 - 399ms/epoch - 399ms/step\n",
            "\n",
            "Epoch 175: LearningRateScheduler setting learning rate to 4.992082596197287e-06.\n",
            "Epoch 175/200\n"
          ]
        },
        {
          "output_type": "stream",
          "name": "stderr",
          "text": [
            "WARNING:tensorflow:Early stopping conditioned on metric `val_mean_absolute_error` which is not available. Available metrics are: loss,mae,val_loss,val_mae,lr\n"
          ]
        },
        {
          "output_type": "stream",
          "name": "stdout",
          "text": [
            "1/1 - 1s - loss: 0.0123 - mae: 0.0830 - val_loss: 0.0122 - val_mae: 0.0798 - lr: 4.9921e-06 - 582ms/epoch - 582ms/step\n",
            "\n",
            "Epoch 176: LearningRateScheduler setting learning rate to 4.842320118311368e-06.\n",
            "Epoch 176/200\n"
          ]
        },
        {
          "output_type": "stream",
          "name": "stderr",
          "text": [
            "WARNING:tensorflow:Early stopping conditioned on metric `val_mean_absolute_error` which is not available. Available metrics are: loss,mae,val_loss,val_mae,lr\n"
          ]
        },
        {
          "output_type": "stream",
          "name": "stdout",
          "text": [
            "1/1 - 1s - loss: 0.0122 - mae: 0.0827 - val_loss: 0.0122 - val_mae: 0.0797 - lr: 4.8423e-06 - 665ms/epoch - 665ms/step\n",
            "\n",
            "Epoch 177: LearningRateScheduler setting learning rate to 4.6970505147620266e-06.\n",
            "Epoch 177/200\n"
          ]
        },
        {
          "output_type": "stream",
          "name": "stderr",
          "text": [
            "WARNING:tensorflow:Early stopping conditioned on metric `val_mean_absolute_error` which is not available. Available metrics are: loss,mae,val_loss,val_mae,lr\n"
          ]
        },
        {
          "output_type": "stream",
          "name": "stdout",
          "text": [
            "1/1 - 1s - loss: 0.0123 - mae: 0.0830 - val_loss: 0.0122 - val_mae: 0.0797 - lr: 4.6971e-06 - 606ms/epoch - 606ms/step\n",
            "\n",
            "Epoch 178: LearningRateScheduler setting learning rate to 4.556138999319166e-06.\n",
            "Epoch 178/200\n"
          ]
        },
        {
          "output_type": "stream",
          "name": "stderr",
          "text": [
            "WARNING:tensorflow:Early stopping conditioned on metric `val_mean_absolute_error` which is not available. Available metrics are: loss,mae,val_loss,val_mae,lr\n"
          ]
        },
        {
          "output_type": "stream",
          "name": "stdout",
          "text": [
            "1/1 - 1s - loss: 0.0124 - mae: 0.0829 - val_loss: 0.0122 - val_mae: 0.0797 - lr: 4.5561e-06 - 653ms/epoch - 653ms/step\n",
            "\n",
            "Epoch 179: LearningRateScheduler setting learning rate to 4.419454829339591e-06.\n",
            "Epoch 179/200\n"
          ]
        },
        {
          "output_type": "stream",
          "name": "stderr",
          "text": [
            "WARNING:tensorflow:Early stopping conditioned on metric `val_mean_absolute_error` which is not available. Available metrics are: loss,mae,val_loss,val_mae,lr\n"
          ]
        },
        {
          "output_type": "stream",
          "name": "stdout",
          "text": [
            "1/1 - 1s - loss: 0.0119 - mae: 0.0813 - val_loss: 0.0122 - val_mae: 0.0796 - lr: 4.4195e-06 - 560ms/epoch - 560ms/step\n",
            "\n",
            "Epoch 180: LearningRateScheduler setting learning rate to 4.286871184459403e-06.\n",
            "Epoch 180/200\n"
          ]
        },
        {
          "output_type": "stream",
          "name": "stderr",
          "text": [
            "WARNING:tensorflow:Early stopping conditioned on metric `val_mean_absolute_error` which is not available. Available metrics are: loss,mae,val_loss,val_mae,lr\n"
          ]
        },
        {
          "output_type": "stream",
          "name": "stdout",
          "text": [
            "1/1 - 0s - loss: 0.0123 - mae: 0.0830 - val_loss: 0.0122 - val_mae: 0.0796 - lr: 4.2869e-06 - 411ms/epoch - 411ms/step\n",
            "\n",
            "Epoch 181: LearningRateScheduler setting learning rate to 4.1582650489256206e-06.\n",
            "Epoch 181/200\n"
          ]
        },
        {
          "output_type": "stream",
          "name": "stderr",
          "text": [
            "WARNING:tensorflow:Early stopping conditioned on metric `val_mean_absolute_error` which is not available. Available metrics are: loss,mae,val_loss,val_mae,lr\n"
          ]
        },
        {
          "output_type": "stream",
          "name": "stdout",
          "text": [
            "1/1 - 0s - loss: 0.0124 - mae: 0.0834 - val_loss: 0.0121 - val_mae: 0.0796 - lr: 4.1583e-06 - 398ms/epoch - 398ms/step\n",
            "\n",
            "Epoch 182: LearningRateScheduler setting learning rate to 4.033517097457852e-06.\n",
            "Epoch 182/200\n"
          ]
        },
        {
          "output_type": "stream",
          "name": "stderr",
          "text": [
            "WARNING:tensorflow:Early stopping conditioned on metric `val_mean_absolute_error` which is not available. Available metrics are: loss,mae,val_loss,val_mae,lr\n"
          ]
        },
        {
          "output_type": "stream",
          "name": "stdout",
          "text": [
            "1/1 - 0s - loss: 0.0124 - mae: 0.0826 - val_loss: 0.0121 - val_mae: 0.0796 - lr: 4.0335e-06 - 453ms/epoch - 453ms/step\n",
            "\n",
            "Epoch 183: LearningRateScheduler setting learning rate to 3.912511584534117e-06.\n",
            "Epoch 183/200\n"
          ]
        },
        {
          "output_type": "stream",
          "name": "stderr",
          "text": [
            "WARNING:tensorflow:Early stopping conditioned on metric `val_mean_absolute_error` which is not available. Available metrics are: loss,mae,val_loss,val_mae,lr\n"
          ]
        },
        {
          "output_type": "stream",
          "name": "stdout",
          "text": [
            "1/1 - 0s - loss: 0.0121 - mae: 0.0826 - val_loss: 0.0121 - val_mae: 0.0795 - lr: 3.9125e-06 - 459ms/epoch - 459ms/step\n",
            "\n",
            "Epoch 184: LearningRateScheduler setting learning rate to 3.795136236998093e-06.\n",
            "Epoch 184/200\n"
          ]
        },
        {
          "output_type": "stream",
          "name": "stderr",
          "text": [
            "WARNING:tensorflow:Early stopping conditioned on metric `val_mean_absolute_error` which is not available. Available metrics are: loss,mae,val_loss,val_mae,lr\n"
          ]
        },
        {
          "output_type": "stream",
          "name": "stdout",
          "text": [
            "1/1 - 0s - loss: 0.0122 - mae: 0.0826 - val_loss: 0.0121 - val_mae: 0.0795 - lr: 3.7951e-06 - 413ms/epoch - 413ms/step\n",
            "\n",
            "Epoch 185: LearningRateScheduler setting learning rate to 3.68128214988815e-06.\n",
            "Epoch 185/200\n"
          ]
        },
        {
          "output_type": "stream",
          "name": "stderr",
          "text": [
            "WARNING:tensorflow:Early stopping conditioned on metric `val_mean_absolute_error` which is not available. Available metrics are: loss,mae,val_loss,val_mae,lr\n"
          ]
        },
        {
          "output_type": "stream",
          "name": "stdout",
          "text": [
            "1/1 - 0s - loss: 0.0121 - mae: 0.0821 - val_loss: 0.0121 - val_mae: 0.0795 - lr: 3.6813e-06 - 454ms/epoch - 454ms/step\n",
            "\n",
            "Epoch 186: LearningRateScheduler setting learning rate to 3.5708436853915056e-06.\n",
            "Epoch 186/200\n"
          ]
        },
        {
          "output_type": "stream",
          "name": "stderr",
          "text": [
            "WARNING:tensorflow:Early stopping conditioned on metric `val_mean_absolute_error` which is not available. Available metrics are: loss,mae,val_loss,val_mae,lr\n"
          ]
        },
        {
          "output_type": "stream",
          "name": "stdout",
          "text": [
            "1/1 - 0s - loss: 0.0120 - mae: 0.0815 - val_loss: 0.0121 - val_mae: 0.0794 - lr: 3.5708e-06 - 418ms/epoch - 418ms/step\n",
            "\n",
            "Epoch 187: LearningRateScheduler setting learning rate to 3.46371837482976e-06.\n",
            "Epoch 187/200\n"
          ]
        },
        {
          "output_type": "stream",
          "name": "stderr",
          "text": [
            "WARNING:tensorflow:Early stopping conditioned on metric `val_mean_absolute_error` which is not available. Available metrics are: loss,mae,val_loss,val_mae,lr\n"
          ]
        },
        {
          "output_type": "stream",
          "name": "stdout",
          "text": [
            "1/1 - 0s - loss: 0.0122 - mae: 0.0827 - val_loss: 0.0121 - val_mae: 0.0794 - lr: 3.4637e-06 - 425ms/epoch - 425ms/step\n",
            "\n",
            "Epoch 188: LearningRateScheduler setting learning rate to 3.3598068235848672e-06.\n",
            "Epoch 188/200\n"
          ]
        },
        {
          "output_type": "stream",
          "name": "stderr",
          "text": [
            "WARNING:tensorflow:Early stopping conditioned on metric `val_mean_absolute_error` which is not available. Available metrics are: loss,mae,val_loss,val_mae,lr\n"
          ]
        },
        {
          "output_type": "stream",
          "name": "stdout",
          "text": [
            "1/1 - 0s - loss: 0.0124 - mae: 0.0830 - val_loss: 0.0121 - val_mae: 0.0794 - lr: 3.3598e-06 - 432ms/epoch - 432ms/step\n",
            "\n",
            "Epoch 189: LearningRateScheduler setting learning rate to 3.2590126188773214e-06.\n",
            "Epoch 189/200\n"
          ]
        },
        {
          "output_type": "stream",
          "name": "stderr",
          "text": [
            "WARNING:tensorflow:Early stopping conditioned on metric `val_mean_absolute_error` which is not available. Available metrics are: loss,mae,val_loss,val_mae,lr\n"
          ]
        },
        {
          "output_type": "stream",
          "name": "stdout",
          "text": [
            "1/1 - 0s - loss: 0.0123 - mae: 0.0828 - val_loss: 0.0121 - val_mae: 0.0794 - lr: 3.2590e-06 - 437ms/epoch - 437ms/step\n",
            "\n",
            "Epoch 190: LearningRateScheduler setting learning rate to 3.1612422403110015e-06.\n",
            "Epoch 190/200\n"
          ]
        },
        {
          "output_type": "stream",
          "name": "stderr",
          "text": [
            "WARNING:tensorflow:Early stopping conditioned on metric `val_mean_absolute_error` which is not available. Available metrics are: loss,mae,val_loss,val_mae,lr\n"
          ]
        },
        {
          "output_type": "stream",
          "name": "stdout",
          "text": [
            "1/1 - 1s - loss: 0.0123 - mae: 0.0826 - val_loss: 0.0121 - val_mae: 0.0793 - lr: 3.1612e-06 - 742ms/epoch - 742ms/step\n",
            "\n",
            "Epoch 191: LearningRateScheduler setting learning rate to 3.066404973101671e-06.\n",
            "Epoch 191/200\n"
          ]
        },
        {
          "output_type": "stream",
          "name": "stderr",
          "text": [
            "WARNING:tensorflow:Early stopping conditioned on metric `val_mean_absolute_error` which is not available. Available metrics are: loss,mae,val_loss,val_mae,lr\n"
          ]
        },
        {
          "output_type": "stream",
          "name": "stdout",
          "text": [
            "1/1 - 1s - loss: 0.0122 - mae: 0.0828 - val_loss: 0.0121 - val_mae: 0.0793 - lr: 3.0664e-06 - 682ms/epoch - 682ms/step\n",
            "\n",
            "Epoch 192: LearningRateScheduler setting learning rate to 2.974412823908621e-06.\n",
            "Epoch 192/200\n"
          ]
        },
        {
          "output_type": "stream",
          "name": "stderr",
          "text": [
            "WARNING:tensorflow:Early stopping conditioned on metric `val_mean_absolute_error` which is not available. Available metrics are: loss,mae,val_loss,val_mae,lr\n"
          ]
        },
        {
          "output_type": "stream",
          "name": "stdout",
          "text": [
            "1/1 - 0s - loss: 0.0120 - mae: 0.0817 - val_loss: 0.0121 - val_mae: 0.0793 - lr: 2.9744e-06 - 457ms/epoch - 457ms/step\n",
            "\n",
            "Epoch 193: LearningRateScheduler setting learning rate to 2.8851804391913623e-06.\n",
            "Epoch 193/200\n"
          ]
        },
        {
          "output_type": "stream",
          "name": "stderr",
          "text": [
            "WARNING:tensorflow:Early stopping conditioned on metric `val_mean_absolute_error` which is not available. Available metrics are: loss,mae,val_loss,val_mae,lr\n"
          ]
        },
        {
          "output_type": "stream",
          "name": "stdout",
          "text": [
            "1/1 - 0s - loss: 0.0121 - mae: 0.0825 - val_loss: 0.0121 - val_mae: 0.0793 - lr: 2.8852e-06 - 413ms/epoch - 413ms/step\n",
            "\n",
            "Epoch 194: LearningRateScheduler setting learning rate to 2.7986250260156215e-06.\n",
            "Epoch 194/200\n"
          ]
        },
        {
          "output_type": "stream",
          "name": "stderr",
          "text": [
            "WARNING:tensorflow:Early stopping conditioned on metric `val_mean_absolute_error` which is not available. Available metrics are: loss,mae,val_loss,val_mae,lr\n"
          ]
        },
        {
          "output_type": "stream",
          "name": "stdout",
          "text": [
            "1/1 - 0s - loss: 0.0125 - mae: 0.0837 - val_loss: 0.0120 - val_mae: 0.0792 - lr: 2.7986e-06 - 413ms/epoch - 413ms/step\n",
            "\n",
            "Epoch 195: LearningRateScheduler setting learning rate to 2.7146662752351526e-06.\n",
            "Epoch 195/200\n"
          ]
        },
        {
          "output_type": "stream",
          "name": "stderr",
          "text": [
            "WARNING:tensorflow:Early stopping conditioned on metric `val_mean_absolute_error` which is not available. Available metrics are: loss,mae,val_loss,val_mae,lr\n"
          ]
        },
        {
          "output_type": "stream",
          "name": "stdout",
          "text": [
            "1/1 - 0s - loss: 0.0122 - mae: 0.0823 - val_loss: 0.0120 - val_mae: 0.0792 - lr: 2.7147e-06 - 462ms/epoch - 462ms/step\n",
            "\n",
            "Epoch 196: LearningRateScheduler setting learning rate to 2.633226286978098e-06.\n",
            "Epoch 196/200\n"
          ]
        },
        {
          "output_type": "stream",
          "name": "stderr",
          "text": [
            "WARNING:tensorflow:Early stopping conditioned on metric `val_mean_absolute_error` which is not available. Available metrics are: loss,mae,val_loss,val_mae,lr\n"
          ]
        },
        {
          "output_type": "stream",
          "name": "stdout",
          "text": [
            "1/1 - 0s - loss: 0.0121 - mae: 0.0820 - val_loss: 0.0120 - val_mae: 0.0792 - lr: 2.6332e-06 - 433ms/epoch - 433ms/step\n",
            "\n",
            "Epoch 197: LearningRateScheduler setting learning rate to 2.554229498368755e-06.\n",
            "Epoch 197/200\n"
          ]
        },
        {
          "output_type": "stream",
          "name": "stderr",
          "text": [
            "WARNING:tensorflow:Early stopping conditioned on metric `val_mean_absolute_error` which is not available. Available metrics are: loss,mae,val_loss,val_mae,lr\n"
          ]
        },
        {
          "output_type": "stream",
          "name": "stdout",
          "text": [
            "1/1 - 0s - loss: 0.0122 - mae: 0.0827 - val_loss: 0.0120 - val_mae: 0.0792 - lr: 2.5542e-06 - 418ms/epoch - 418ms/step\n",
            "\n",
            "Epoch 198: LearningRateScheduler setting learning rate to 2.477602613417692e-06.\n",
            "Epoch 198/200\n"
          ]
        },
        {
          "output_type": "stream",
          "name": "stderr",
          "text": [
            "WARNING:tensorflow:Early stopping conditioned on metric `val_mean_absolute_error` which is not available. Available metrics are: loss,mae,val_loss,val_mae,lr\n"
          ]
        },
        {
          "output_type": "stream",
          "name": "stdout",
          "text": [
            "1/1 - 0s - loss: 0.0124 - mae: 0.0831 - val_loss: 0.0120 - val_mae: 0.0791 - lr: 2.4776e-06 - 409ms/epoch - 409ms/step\n",
            "\n",
            "Epoch 199: LearningRateScheduler setting learning rate to 2.4032745350151615e-06.\n",
            "Epoch 199/200\n"
          ]
        },
        {
          "output_type": "stream",
          "name": "stderr",
          "text": [
            "WARNING:tensorflow:Early stopping conditioned on metric `val_mean_absolute_error` which is not available. Available metrics are: loss,mae,val_loss,val_mae,lr\n"
          ]
        },
        {
          "output_type": "stream",
          "name": "stdout",
          "text": [
            "1/1 - 0s - loss: 0.0124 - mae: 0.0830 - val_loss: 0.0120 - val_mae: 0.0791 - lr: 2.4033e-06 - 409ms/epoch - 409ms/step\n",
            "\n",
            "Epoch 200: LearningRateScheduler setting learning rate to 2.3311762989647066e-06.\n",
            "Epoch 200/200\n"
          ]
        },
        {
          "output_type": "stream",
          "name": "stderr",
          "text": [
            "WARNING:tensorflow:Early stopping conditioned on metric `val_mean_absolute_error` which is not available. Available metrics are: loss,mae,val_loss,val_mae,lr\n"
          ]
        },
        {
          "output_type": "stream",
          "name": "stdout",
          "text": [
            "1/1 - 0s - loss: 0.0121 - mae: 0.0823 - val_loss: 0.0120 - val_mae: 0.0791 - lr: 2.3312e-06 - 411ms/epoch - 411ms/step\n"
          ]
        }
      ],
      "source": [
        "from sklearn import preprocessing\n",
        "import tensorflow as tf\n",
        "np.random.seed(42)\n",
        "tf.random.set_seed(1234)\n",
        "\n",
        "scaler = preprocessing.StandardScaler().fit((X_train).astype(float))\n",
        "X_train = scaler.transform((X_train).astype(float))\n",
        "X_test = scaler.transform((X_test).astype(float))\n",
        "\n",
        "model = createModel()\n",
        "history = model.fit(\n",
        "        X_train, Y_train,\n",
        "        epochs=200,\n",
        "        batch_size=2**15,\n",
        "        validation_split=0.2,\n",
        "        callbacks=[lr_sched, early_stopping],\n",
        "        verbose=2)\n"
      ]
    },
    {
      "cell_type": "code",
      "execution_count": 34,
      "metadata": {
        "colab": {
          "base_uri": "https://localhost:8080/"
        },
        "id": "M0VQkgYxNG5_",
        "outputId": "a703d928-02b3-41b7-a425-a4078b7fe32a"
      },
      "outputs": [
        {
          "output_type": "stream",
          "name": "stdout",
          "text": [
            "235/235 [==============================] - 1s 4ms/step\n",
            "(7489, 146)\n",
            "(7489, 1)\n"
          ]
        }
      ],
      "source": [
        "\n",
        "predictions = model.predict(X_test)\n",
        "\n",
        "print(X_test.shape)\n",
        "print(predictions.shape)\n"
      ]
    },
    {
      "cell_type": "code",
      "execution_count": 36,
      "metadata": {
        "colab": {
          "base_uri": "https://localhost:8080/"
        },
        "id": "8s5Q1ciTNG6B",
        "outputId": "97ddf857-37e5-4519-8c73-e1da2300b00c"
      },
      "outputs": [
        {
          "output_type": "stream",
          "name": "stdout",
          "text": [
            "dict_keys(['loss', 'mae', 'val_loss', 'val_mae', 'lr'])\n"
          ]
        }
      ],
      "source": [
        "type(history)\n",
        "print(history.history.keys())"
      ]
    },
    {
      "cell_type": "code",
      "execution_count": 37,
      "metadata": {
        "_uuid": "dcbae65430ef43f08591ccd200fe33f802d938a6",
        "colab": {
          "base_uri": "https://localhost:8080/",
          "height": 927
        },
        "id": "LwDGcymrrEEB",
        "outputId": "852a889a-b05d-4f6a-af0b-e300b3fbe853",
        "scrolled": true
      },
      "outputs": [
        {
          "output_type": "display_data",
          "data": {
            "text/plain": [
              "<Figure size 640x480 with 1 Axes>"
            ],
            "image/png": "[encoded data removed]"
          },
          "metadata": {}
        },
        {
          "output_type": "display_data",
          "data": {
            "text/plain": [
              "<Figure size 640x480 with 1 Axes>"
            ],
            "image/png": "[encoded data removed]"
          },
          "metadata": {}
        }
      ],
      "source": [
        "# Plot training & validation loss values\n",
        "plt.plot(history.history['loss'])\n",
        "plt.plot(history.history['val_loss'])\n",
        "plt.title('Model loss')\n",
        "plt.ylabel('Loss')\n",
        "plt.xlabel('Epoch')\n",
        "plt.legend(['Train', 'Test'], loc='upper left')\n",
        "plt.show()\n",
        "\n",
        "# Plot training & validation mae values\n",
        "plt.plot(history.history['mae'])\n",
        "plt.plot(history.history['val_mae'])\n",
        "plt.title('Mean Abosulte Error')\n",
        "plt.ylabel('Mean absolute error')\n",
        "plt.xlabel('Epoch')\n",
        "plt.legend(['Train', 'Test'], loc='upper left')\n",
        "plt.show()"
      ]
    },
    {
      "cell_type": "markdown",
      "metadata": {
        "_uuid": "3f8e666941a6157dda493f36c8084e4f021ff454",
        "id": "B9-QDl6IrEEE"
      },
      "source": [
        "## alignment"
      ]
    },
    {
      "cell_type": "code",
      "execution_count": null,
      "metadata": {
        "_uuid": "605701ae5d89d21ac56ac3ddcf69175f936e3b18",
        "id": "QCZGYvfTrEEF"
      },
      "outputs": [],
      "source": [
        "X_test = pd.read_csv('test_V2.csv')\n",
        "X_test = X_test.groupby(['matchId','groupId','matchType']).first().reset_index()\n",
        "X_test = X_test[['matchId','groupId','matchType','numGroups','maxPlace','kills','killPlace']]\n",
        "\n",
        "group = X_test_grp.groupby(['matchId'])\n",
        "X_test_grp['winPlacePerc'] = predictions\n",
        "X_test_grp['_rank.winPlacePerc'] = group['winPlacePerc'].rank(method='min')\n",
        "X_test = pd.merge(X_test, X_test_grp)"
      ]
    },
    {
      "cell_type": "code",
      "execution_count": null,
      "metadata": {
        "_uuid": "ae29276c07cdd5c255205eb4cae731bad1596521",
        "id": "R99g505brEEG",
        "scrolled": false
      },
      "outputs": [],
      "source": [
        "fullgroup = (X_test['numGroups'] == X_test['maxPlace'])\n",
        "\n",
        "# full group (201366) --> calculate from rank\n",
        "subset = X_test.loc[fullgroup]\n",
        "X_test.loc[fullgroup, 'winPlacePerc'] = (subset['_rank.winPlacePerc'].values - 1) / (subset['maxPlace'].values - 1)\n",
        "\n",
        "# not full group (684872) --> align with maxPlace\n",
        "subset = X_test.loc[~fullgroup]\n",
        "gap = 1.0 / (subset['maxPlace'].values - 1)\n",
        "new_perc = np.around(subset['winPlacePerc'].values / gap) * gap  # half&up\n",
        "X_test.loc[~fullgroup, 'winPlacePerc'] = new_perc\n",
        "\n",
        "X_test['winPlacePerc'] = X_test['winPlacePerc'].clip(lower=0,upper=1)"
      ]
    },
    {
      "cell_type": "code",
      "execution_count": null,
      "metadata": {
        "_uuid": "5e95c4aab16d2954542f986adacbe2e8392037d3",
        "colab": {
          "base_uri": "https://localhost:8080/",
          "height": 309
        },
        "id": "KUnPN4IGrEEH",
        "outputId": "bd6b7064-ae4f-4503-e767-137d29dcf4b8"
      },
      "outputs": [
        {
          "name": "stderr",
          "output_type": "stream",
          "text": [
            "/Users/vipulgaur/opt/anaconda3/lib/python3.7/site-packages/ipykernel_launcher.py:30: SettingWithCopyWarning: \n",
            "A value is trying to be set on a copy of a slice from a DataFrame.\n",
            "Try using .loc[row_indexer,col_indexer] = value instead\n",
            "\n",
            "See the caveats in the documentation: http://pandas.pydata.org/pandas-docs/stable/user_guide/indexing.html#returning-a-view-versus-a-copy\n",
            "\r",
            "Identifying unique groups:   0%|          | 0/105 [00:00<?, ?it/s]"
          ]
        },
        {
          "name": "stdout",
          "output_type": "stream",
          "text": [
            "Checking for anomalies in the winPlacePerc - players with same number of kills should have scores in order of killPlace\n",
            "Iteration 1 Anomalies count: 106\n",
            "\n",
            "Looking for pairs to change...\n"
          ]
        },
        {
          "name": "stderr",
          "output_type": "stream",
          "text": [
            "Identifying unique groups: 100%|██████████| 105/105 [00:00<00:00, 268.31it/s]\n",
            "Identifying unique groups: 100%|██████████| 4/4 [00:00<00:00, 189.66it/s]\n",
            "Identifying unique groups:   0%|          | 0/1 [00:00<?, ?it/s]"
          ]
        },
        {
          "name": "stdout",
          "output_type": "stream",
          "text": [
            "Iteration 2 Anomalies count: 5\n",
            "\n",
            "Looking for pairs to change...\n",
            "Iteration 3 Anomalies count: 1\n",
            "\n",
            "Looking for pairs to change...\n"
          ]
        },
        {
          "name": "stderr",
          "output_type": "stream",
          "text": [
            "Identifying unique groups: 100%|██████████| 1/1 [00:00<00:00, 182.02it/s]\n"
          ]
        },
        {
          "name": "stdout",
          "output_type": "stream",
          "text": [
            "Iteration 4 Anomalies count: 0\n",
            "Finished correcting winPlacePerc\n"
          ]
        }
      ],
      "source": [
        "from tqdm import tqdm\n",
        "\n",
        "# credit to https://www.kaggle.com/nagroda100/pubg-submission-postprocessor/code\n",
        "print(\"Checking for anomalies in the winPlacePerc - players with same number of kills should have scores in order of killPlace\")\n",
        "\n",
        "do_correct = True\n",
        "iteration_number = 1\n",
        "\n",
        "while do_correct & (iteration_number <= 1000):\n",
        "    X_test.sort_values(ascending=False, by=[\"matchId\",\"kills\",\"killPlace\",\"winPlacePerc\",\"groupId\"], inplace=True)\n",
        "    X_test[\"winPlacePerc_diff\"] = X_test[\"winPlacePerc\"].diff()\n",
        "    X_test[\"kills_diff\"] = X_test[\"kills\"].diff()\n",
        "    X_test[\"prev_matchId\"] = X_test[\"matchId\"].shift(1)\n",
        "    X_test[\"prev_groupId\"] = X_test[\"groupId\"].shift(1)\n",
        "    X_test[\"prev_winPlacePerc\"] = X_test[\"winPlacePerc\"].shift(1)\n",
        "\n",
        "    df_sub2 = X_test[(X_test[\"winPlacePerc_diff\"] < 0)\n",
        "                     & (X_test[\"kills_diff\"] == 0)\n",
        "                     & (X_test[\"matchId\"] == X_test[\"prev_matchId\"])]\n",
        "    anomalies_count = len(df_sub2)\n",
        "\n",
        "    print(\"Iteration \" + str(iteration_number) + \" Anomalies count: \" + str(anomalies_count))\n",
        "\n",
        "    changed_groups = list()\n",
        "\n",
        "    if anomalies_count > 0:\n",
        "        print()\n",
        "        print(\"Looking for pairs to change...\")\n",
        "\n",
        "        df_sub2[\"new_winPlacePerc\"] = df_sub2[\"winPlacePerc\"]\n",
        "\n",
        "        df_sub3 = pd.DataFrame()\n",
        "\n",
        "        for i in tqdm(range(1, min(15001, max(anomalies_count, 2))),\n",
        "                      desc=\"Identifying unique groups\", mininterval=10):\n",
        "            row = df_sub2.iloc[i - 1]\n",
        "            id_prev = str(row[\"prev_matchId\"]) + \"!\" + str(row[\"prev_groupId\"])\n",
        "            id_cur = str(row[\"matchId\"]) + \"!\" + str(row[\"groupId\"])\n",
        "            if (not id_prev in changed_groups) & (not id_cur in changed_groups):\n",
        "                changed_groups.append(id_prev)\n",
        "                changed_groups.append(id_cur)\n",
        "                df_sub3 = df_sub3.append({\"matchId\": row[\"matchId\"], \"groupId\": row[\"prev_groupId\"],\n",
        "                                          \"new_winPlacePerc\": row[\"winPlacePerc\"]},\n",
        "                                         sort=False, ignore_index=True)\n",
        "                df_sub3 = df_sub3.append({\"matchId\": row[\"matchId\"], \"groupId\": row[\"groupId\"],\n",
        "                                          \"new_winPlacePerc\": row[\"prev_winPlacePerc\"]},\n",
        "                                         sort=False, ignore_index=True)\n",
        "\n",
        "        df_sub3.drop_duplicates(inplace=True)\n",
        "        X_test = X_test.merge(df_sub3, on=[\"matchId\", \"groupId\"], how=\"left\")\n",
        "        notna = X_test[\"new_winPlacePerc\"].notna()\n",
        "        X_test.loc[notna, \"winPlacePerc\"] = X_test.loc[notna][\"new_winPlacePerc\"]\n",
        "        X_test.drop(labels=\"new_winPlacePerc\", axis=1, inplace=True)\n",
        "        del df_sub2\n",
        "        del df_sub3\n",
        "        df_sub2 = None\n",
        "        df_sub3 = None\n",
        "        gc.collect()\n",
        "    else:\n",
        "        do_correct = False\n",
        "\n",
        "    iteration_number = iteration_number + 1\n",
        "\n",
        "if do_correct:\n",
        "    print(\"Limit of iterations reached...\")\n",
        "\n",
        "print(\"Finished correcting winPlacePerc\")"
      ]
    },
    {
      "cell_type": "code",
      "execution_count": null,
      "metadata": {
        "_uuid": "2ab07f991a8d6cd17ba36c0510a2a507acb808f4",
        "id": "y2vbyUE-rEEI",
        "outputId": "4b7e1c81-7121-44b1-b3a1-b1a00be25ad0"
      },
      "outputs": [
        {
          "data": {
            "text/plain": [
              "count   7,489.000\n",
              "mean        0.386\n",
              "std         0.430\n",
              "min         0.000\n",
              "25%         0.000\n",
              "50%         0.085\n",
              "75%         0.897\n",
              "max         1.000\n",
              "Name: winPlacePerc, dtype: float64"
            ]
          },
          "execution_count": 48,
          "metadata": {},
          "output_type": "execute_result"
        }
      ],
      "source": [
        "# edge cases\n",
        "X_test.loc[X_test['maxPlace'] == 0, 'winPlacePerc'] = 0\n",
        "X_test.loc[X_test['maxPlace'] == 1, 'winPlacePerc'] = 1  # nothing\n",
        "X_test.loc[(X_test['maxPlace'] > 1) & (X_test['numGroups'] == 1), 'winPlacePerc'] = 0\n",
        "X_test['winPlacePerc'].describe()"
      ]
    },
    {
      "cell_type": "code",
      "execution_count": null,
      "metadata": {
        "id": "21ArKXcyNG6J"
      },
      "outputs": [],
      "source": []
    }
  ],
  "metadata": {
    "colab": {
      "collapsed_sections": [
        "B9-QDl6IrEEE"
      ],
      "provenance": [],
      "include_colab_link": true
    },
    "kernelspec": {
      "display_name": "Python 3",
      "language": "python",
      "name": "python3"
    },
    "language_info": {
      "codemirror_mode": {
        "name": "ipython",
        "version": 3
      },
      "file_extension": ".py",
      "mimetype": "text/x-python",
      "name": "python",
      "nbconvert_exporter": "python",
      "pygments_lexer": "ipython3",
      "version": "3.7.3"
    }
  },
  "nbformat": 4,
  "nbformat_minor": 0
}